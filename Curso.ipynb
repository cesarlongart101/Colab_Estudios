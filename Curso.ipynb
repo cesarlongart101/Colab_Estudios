{
  "cells": [
    {
      "cell_type": "markdown",
      "metadata": {
        "id": "view-in-github",
        "colab_type": "text"
      },
      "source": [
        "<a href=\"https://colab.research.google.com/github/cesarlongart101/Colab_Estudios/blob/main/Curso.ipynb\" target=\"_parent\"><img src=\"https://colab.research.google.com/assets/colab-badge.svg\" alt=\"Open In Colab\"/></a>"
      ]
    },
    {
      "cell_type": "markdown",
      "metadata": {
        "id": "3gX3P5YZA5U0"
      },
      "source": [
        "# Probando COLAB"
      ]
    },
    {
      "cell_type": "markdown",
      "metadata": {
        "id": "-mTevQSOPB0f"
      },
      "source": [
        "print(): Imprime un mensaje en la consola.\n",
        "input(): Permite al usuario ingresar un valor.\n",
        "type(): Devuelve el tipo de datos de una variable.\n",
        "len(): Devuelve la longitud de una cadena, lista, tupla, etc.\n",
        "int(): Convierte un valor en un número entero.\n",
        "float(): Convierte un valor en un número decimal.\n",
        "str(): Convierte un valor en una cadena.\n",
        "list(): Crea una lista vacía o convierte un objeto iterable en una lista.\n",
        "tuple(): Crea una tupla vacía o convierte un objeto iterable en una tupla.\n",
        "dict(): Crea un diccionario vacío o convierte un objeto iterable en un diccionario.\n",
        "set(): Crea un conjunto vacío o convierte un objeto iterable en un conjunto.\n",
        "range(): Crea una secuencia de números.\n",
        "if/else: Estructura de control de flujo que permite ejecutar diferentes bloques de código según una condición.\n",
        "for: Estructura de control de flujo que permite iterar sobre una secuencia de elementos.\n",
        "while: Estructura de control de flujo que permite ejecutar un bloque de código mientras se cumpla una condición.\n",
        "break: Permite salir de un bucle.\n",
        "continue: Permite saltar a la siguiente iteración de un bucle.\n",
        "def: Permite definir una función.\n",
        "return: Devuelve un valor desde una función.\n",
        "lambda: Permite crear funciones anónimas.\n",
        "map(): Aplica una función a cada elemento de una secuencia.\n",
        "filter(): Filtra los elementos de una secuencia según una condición.\n",
        "zip(): Combina dos o más secuencias en una sola.\n",
        "sorted(): Ordena los elementos de una secuencia.\n",
        "reversed(): Invierte el orden de los elementos de una secuencia.\n",
        "abs(): Devuelve el valor absoluto de un número.\n",
        "all(): Devuelve True si todos los elementos de una secuencia son verdaderos.\n",
        "any(): Devuelve True si al menos uno de los elementos de una secuencia es verdadero.\n",
        "bin(): Convierte un número en su representación binaria.\n",
        "bool(): Convierte un valor en un booleano.\n",
        "bytearray(): Crea un objeto bytearray.\n",
        "bytes(): Crea un objeto bytes.\n",
        "chr(): Devuelve el carácter correspondiente a un número Unicode.\n",
        "classmethod(): Transforma un método de instancia en un método de clase.\n",
        "complex(): Crea un número complejo.\n",
        "delattr(): Elimina un atributo de un objeto.\n",
        "enumerate(): Devuelve una secuencia de tuplas que contienen índices y elementos de una secuencia.\n",
        "eval(): Evalúa una expresión en una cadena.\n",
        "exec(): Ejecuta un código en una cadena.\n",
        "filter(): Filtra los elementos de una secuencia según una condición.\n",
        "float(): Convierte un valor en un número decimal.\n",
        "format(): Formatea una cadena.\n",
        "frozenset(): Crea un conjunto inmutable.\n",
        "getattr(): Devuelve el valor de un atributo de un objeto.\n",
        "globals(): Devuelve un diccionario que contiene los símbolos globales actuales.\n",
        "hasattr(): Devuelve True si un objeto tiene un atributo.\n",
        "hash(): Devuelve el valor hash de un objeto.\n",
        "help(): Muestra la documentación de un objeto.\n",
        "hex(): Convierte un número en su representación hexadecimal.\n",
        "id(): Devuelve el identificador único de un objeto.\n",
        "issubclass(): Devuelve True si una clase es una subclase de otra.\n",
        "iter(): Crea un iterador a partir de un objeto iterable.\n",
        "locals(): Devuelve un diccionario que contiene los símbolos locales actuales.\n",
        "max(): Devuelve el valor máximo de una secuencia.\n",
        "min(): Devuelve el valor mínimo de una secuencia.\n",
        "next(): Devuelve el siguiente elemento de un iterador.\n",
        "object(): Crea un objeto vacío.\n",
        "oct(): Convierte un número en su representación octal.\n",
        "open(): Abre un archivo.\n",
        "ord(): Devuelve el valor Unicode de un carácter.\n",
        "pow(): Devuelve el resultado de elevar un número a una potencia.\n",
        "property(): Crea una propiedad de continuación de la respuesta anterior:\n",
        "un objeto.\n",
        "63. range(): Crea una secuencia de números.\n",
        "repr(): Devuelve una representación de cadena de un objeto.\n",
        "reversed(): Invierte el orden de los elementos de una secuencia.\n",
        "round(): Redondea un número a un número específico de decimales.\n",
        "set(): Crea un conjunto vacío o convierte un objeto iterable en un conjunto.\n",
        "setattr(): Establece el valor de un atributo de un objeto.\n",
        "slice(): Crea un objeto de rebanada que se puede usar para cortar una secuencia.\n",
        "sorted(): Ordena los elementos de una secuencia.\n",
        "staticmethod(): Transforma un método de instancia en un método estático.\n",
        "str(): Convierte un valor en una cadena.\n",
        "sum(): Devuelve la suma de los elementos de una secuencia.\n",
        "super(): Devuelve un objeto proxy que permite llamar a un método de una superclase.\n",
        "tuple(): Crea una tupla vacía o convierte un objeto iterable en una tupla.\n",
        "type(): Devuelve el tipo de un objeto.\n",
        "vars(): Devuelve el diccionario de atributos de un objeto.\n",
        "zip(): Combina dos o más secuencias en una sola.\n",
        "import(): Importa un módulo.\n",
        "append(): Agrega un elemento al final de una lista.\n",
        "clear(): Elimina todos los elementos de una lista.\n",
        "copy(): Crea una copia superficial de una lista.\n",
        "count(): Cuenta el número de veces que aparece un elemento en una lista.\n",
        "extend(): Agrega los elementos de una secuencia a una lista.\n",
        "index(): Devuelve el índice de la primera aparición de un elemento en una lista.\n",
        "insert(): Inserta un elemento en una lista en una posición específica.\n",
        "pop(): Elimina y devuelve el último elemento de una lista.\n",
        "remove(): Elimina la primera aparición de un elemento de una lista.\n",
        "reverse(): Invierte el orden de los elementos de una lista.\n",
        "sort(): Ordena los elementos de una lista.\n",
        "capitalize(): Convierte la primera letra de una cadena en mayúscula.\n",
        "casefold(): Convierte una cadena en minúsculas y la normaliza.\n",
        "center(): Centra una cadena en una longitud específica.\n",
        "count(): Cuenta el número de veces que aparece una subcadena en una cadena.\n",
        "encode(): Codifica una cadena en un formato específico.\n",
        "endswith(): Devuelve True si una cadena termina con una subcadena específica.\n",
        "expandtabs(): Reemplaza los caracteres de tabulación en una cadena con espacios.\n",
        "find(): Devuelve el índice de la primera aparición de una subcadena en una cadena.\n",
        "format(): Formatea una cadena.\n",
        "isalnum(): Devuelve True si una cadena contiene solo caracteres alfanuméricos.\n"
      ]
    },
    {
      "cell_type": "code",
      "execution_count": null,
      "metadata": {
        "id": "GXqv2buzrDyh"
      },
      "outputs": [],
      "source": [
        "\n",
        "#Contenido CURSO YOUTUBE\n",
        "  Nivel 1: Herramientas básicas *\n",
        "  Nivel 2: Almacenando valores *\n",
        "  Nivel 3: Comunicandonos *\n",
        "  Nivel 4: Tomando decisiones * \n",
        "  Nivel 5: Operadores aritmeticos *\n",
        "  Nivel 6: Bucles, contador, operadores de asignación *\n",
        "  Nivel 7: recorriendo palabras, operador in, tuplas, listas, range, secuencias *\n",
        "  Nivel 8: While, iterando listas, buscando indices, #break, continue, bandera *\n",
        "  Nivel 9: Importando funciones, formulas matematicas, random *\n",
        "  Nivel 10: Multiplicando cadenas, metodo formal, tipo mutables, metodo appended *\n",
        "\n",
        "  Nivel 11: Tipo None, mejorando codigo, operador is, funciones predefinidas, copias lista, operador Index\n",
        "  Nivel 12: Bucles for anidados, fuerza bruta, combinatoria, adivina clave,saliendo buble\n",
        "  Nivel 13: Listas anidadas, listas multidimencional, dentro de la lista, cambiando simenciones, deepcopy\n",
        "  Nivel 14: Eliminando elementos, lista de comparación, eliminar repeticiones, metodo pop, repartiendo cartas, valor absoluto, split, join, replace\n",
        "  Nivel 15: limpiando pantalla, simulando movimiento, juego ahorcado, \n",
        "  Nivel 16: Definiendo funciones, buenas practicas, calcula la nota,varios return, documentando funciones * \n",
        "  Nivel 17: Funciones dentro de otras, intermedio con funciones, reutilizando funciones \n",
        "  Nivel 18: Funcion valor absoluto, funcion potencia, metodo babilon, numero combinaciones, \n",
        "  Nivel 19: juego de palillos, juego piedra, papel o tijeras, \n",
        "  nivel 20: diccionarios, metodo get, encontrar y listar, metodo setdefault, metodo fromkeys, metodo pop * \n",
        "\n",
        "  Nivel 21: leyendo archivos, codificacion de caracteres, contando lineas, modos abrir archivo, generador de test, \n",
        "  Nivel 22: Excepciones\n",
        "  Nivel 23: Complejidad algoritmica, busqueda binaria, complejidad logaritmica, \n",
        "  Nivel 24: Matrices,  rellenar una masa, suma de matrices,\n",
        "  Nivel 25: Mas juegos de practicas\n",
        "  Nivel 26: Funciones recursivas, funcion factorial, funcion potencia, invertir lista, iteracion o recursion?, sumar elementos, \n",
        "  Nivel 27: CLASES y OBJETOS, atributos y metodos, creando onjetos, copiar objetos, metodos especiales, agregación de objetos\n",
        "  Nivel 28: Buenas practicas, repasando las clases, agregaciones, \n",
        "  Nivel 29: Instalando Pygame, primera ventana, eventos, coordenadas, dibujando, moviendo una persona, aminaciones, coliciones, \n",
        "  Nivel 30: Listas por comprensión, \n",
        "\n",
        "  Nivel 31: Algoritmo de ordenamiento, por selección, por burbuja, por inserción, Quicksort, \n",
        "  Nivel 32: Herramientas avanzadas, ordenando con key, rotar una matriz, funciones lambda, lambda con if else, orden selectivo, bool, any, all, validar contraseña, iterables, funcion map, diccionario, \n",
        "  Nivel 33: Basesa de datos relacionales, diseño conceptual, entidad relacion, modelo relacional, \n",
        "  nivel 34: Diseño de Base de datos con MySQL, \n",
        "  Nivel 35: Python con MySQL, Instalación, usando funciones, extraer registros, consultas, actualizar registros, \n",
        "  Nivel 36: Tkinter (biblioteca grafica para Windows), interfaces graficas, método pack, variables, \n",
        "\n",
        "\n"
      ]
    },
    {
      "cell_type": "code",
      "execution_count": null,
      "metadata": {
        "colab": {
          "base_uri": "https://localhost:8080/"
        },
        "id": "erCvrSXBHr3_",
        "outputId": "1f026693-3a56-4ddd-8a18-deb134f44f32"
      },
      "outputs": [
        {
          "name": "stdout",
          "output_type": "stream",
          "text": [
            "Introduce el número:100\n",
            "Mayor que cero\n",
            "y par\n",
            "y menor o igual que 100\n"
          ]
        }
      ],
      "source": [
        "x = int (input(\"Introduce el número:\"))\n",
        "if x>0:\n",
        "  print(\"Mayor que cero\")\n",
        "  if x % 2 == 0:\n",
        "          print (\"y par\")\n",
        "          if x>100:\n",
        "              print (\"y mayor que 100\")\n",
        "          else:\n",
        "              print (\"y menor o igual que 100\")\n",
        "  else:\n",
        "          print(\"e impar\")\n",
        "          if x>100:\n",
        "              print (\"y mayor que 100\")\n",
        "          else:\n",
        "              print (\"y menor o igual que 100\")\n",
        "else:\n",
        "  print(\"menor que cero\")\n"
      ]
    },
    {
      "cell_type": "markdown",
      "metadata": {
        "id": "G00u9GZF7MVn"
      },
      "source": []
    },
    {
      "cell_type": "code",
      "execution_count": null,
      "metadata": {
        "colab": {
          "base_uri": "https://localhost:8080/"
        },
        "id": "1lrW7kbb6Yw8",
        "outputId": "404f160b-b965-4663-b655-51855eaebca7"
      },
      "outputs": [
        {
          "name": "stdout",
          "output_type": "stream",
          "text": [
            "1 1 1\n",
            "2 4 8\n",
            "3 9 27\n",
            "4 16 64\n",
            "5 25 125\n",
            "6 36 216\n",
            "7 49 343\n",
            "8 64 512\n",
            "9 81 729\n",
            "10 100 1000\n"
          ]
        }
      ],
      "source": [
        "x=0\n",
        "while x<10:\n",
        "  x=x+1\n",
        "  print(x, x**2, x**3)\n"
      ]
    },
    {
      "cell_type": "markdown",
      "metadata": {
        "id": "1bKF-m7l68oY"
      },
      "source": [
        "## ***Ejercicios de youtube***"
      ]
    },
    {
      "cell_type": "code",
      "execution_count": null,
      "metadata": {
        "colab": {
          "base_uri": "https://localhost:8080/"
        },
        "id": "PSyPYYJi7seG",
        "outputId": "de76626d-db00-4117-e774-60981d5e86fe"
      },
      "outputs": [
        {
          "name": "stdout",
          "output_type": "stream",
          "text": [
            "Cesar 15 :con coma en el print no se convierten los enteros en str\n",
            "Cesar 15 :con signo + en el print, se convierten los enteros en str\n"
          ]
        }
      ],
      "source": [
        "#Diferencia entre + y , en el print\n",
        "edad=15\n",
        "nombre = \"Cesar\"\n",
        "print(nombre , edad, \":con coma en el print no se convierten los enteros en str\")\n",
        "\n",
        "edad=15\n",
        "nombre = \"Cesar\"\n",
        "print(nombre+ \" \" + str(edad ) + \" :con signo + en el print, se convierten los enteros en str\")"
      ]
    },
    {
      "cell_type": "code",
      "execution_count": null,
      "metadata": {
        "id": "RGejSr9E39Ds"
      },
      "outputs": [],
      "source": [
        "#Programa para saber si eres mayorde edad\n",
        "edad = int(input (\"Dime tu edad:\"))\n",
        "if edad >= 18:\n",
        "  print(\"Eres mayor de edad\")\n",
        "else:\n",
        "  print(\"Eres menor de edad\")"
      ]
    },
    {
      "cell_type": "code",
      "execution_count": null,
      "metadata": {
        "id": "eOGH7aqOfIAo"
      },
      "outputs": [],
      "source": [
        "#Programa que la suma de dos números den como resultado 10\n",
        "x = int (input(\"Introduce el primer número\"))\n",
        "y = int (input(\"Introduce el segundo número\"))\n",
        "if x+y == 10:\n",
        "  print(\"Lo has logrado\")\n",
        "else:\n",
        "  print(\"Vuelve a intentarlo\")\n",
        "print(\"Fin de el programa\")"
      ]
    },
    {
      "cell_type": "code",
      "execution_count": null,
      "metadata": {
        "id": "EENl9RepiChC"
      },
      "outputs": [],
      "source": [
        "#Programa que pida dos números distintos y que diga cual es el mayor\n",
        "print(\"Te pediré dos números distintos y te diré cual es el mayor\")\n",
        "n1 = int (input(\"Ingresa el primer número: \"))\n",
        "n2 = int(input(\"Ingresa el segundo número: \"))\n",
        "if n1 == n2:\n",
        "  print(\"Ingresa números distintos\")\n",
        "elif n1 > n2:\n",
        "  print(n1, \"es mayor que\", n2)\n",
        "else:\n",
        "  print(n2, \"es mayor que\", n1)\n",
        "print(\"Fin del programa\")"
      ]
    },
    {
      "cell_type": "code",
      "execution_count": null,
      "metadata": {
        "id": "nL3km45rqEKg"
      },
      "outputs": [],
      "source": [
        "#Programa de una maquina de refresco con 4 opciones. \n",
        "print(\"Puedes escoger entre la opciones 1.- 2.- 3.- 4.- \")\n",
        "refresco_elegido = int (input (\"Elige una opción: \"))\n",
        "if refresco_elegido == 1:\n",
        "  print(\" Has elegido opción 1 \")\n",
        "elif refresco_elegido == 2:\n",
        "  print( \"Has elegido la opción 2\")\n",
        "elif refresco_elegido == 3:\n",
        "  print( \"Has elegido la opción 3\")\n",
        "else:\n",
        "  print(\"Has elegido la opción 4\")\n",
        "print(\"Fin del programa\")"
      ]
    },
    {
      "cell_type": "code",
      "execution_count": null,
      "metadata": {
        "colab": {
          "base_uri": "https://localhost:8080/"
        },
        "id": "qTS8LbR37YO0",
        "outputId": "66891889-798e-48df-c4be-a4262fabeb59"
      },
      "outputs": [
        {
          "data": {
            "text/plain": [
              "True"
            ]
          },
          "execution_count": 1,
          "metadata": {},
          "output_type": "execute_result"
        }
      ],
      "source": [
        "#Operadores Lógicos\n",
        "8 == 4+4 and 8 == 4*2 and not 8 == 4*4\n"
      ]
    },
    {
      "cell_type": "code",
      "execution_count": null,
      "metadata": {
        "id": "A0wdfQxq-MiY"
      },
      "outputs": [],
      "source": [
        "#Debe cumplir con alguna de las dos condiciones 1.3 metros o 40.5 kilos\n",
        "altura = float (input(\"Dime tu altura en metros separando con un punto: \"))\n",
        "peso = float (input(\" dime tu peso separando con un punto: \"))\n",
        "if altura >= 1.3 or peso >= 40.5: \n",
        "  print(\"Puedes subir a la atracción\")\n",
        "else:\n",
        "  print(\"No puedes subir a la atracción\")\n",
        "print(\"Fin del programa\")\n"
      ]
    },
    {
      "cell_type": "code",
      "execution_count": null,
      "metadata": {
        "id": "lx0afKdm-JqV"
      },
      "outputs": [],
      "source": [
        "#Programa que pase de segundos a hora sy minutos\n",
        "segundos = int (input(\"Dime el tiempo en segundos: \"))\n",
        "minutos = segundos // 60\n",
        "segundos_restos = segundos % 60\n",
        "horas = minutos // 60 \n",
        "minutos_restos = minutos % 60\n",
        "print(\"Tiempo: \", horas, \"h,\", minutos_restos, \"m,\", segundos_restos, \"seg.\")\n"
      ]
    },
    {
      "cell_type": "code",
      "execution_count": null,
      "metadata": {
        "id": "YDwoNcd-BlXq"
      },
      "outputs": [],
      "source": [
        "#Proegrama para determinar si número es par o impar\n",
        "num = int (input(\"Introduce número\"))\n",
        "if num ==0:\n",
        "  print(\"El cero no es válido\")\n",
        "elif num % 2 ==0:\n",
        "  print(\"El numero es par\")\n",
        "else:\n",
        "  print(\"El número es impar\")"
      ]
    },
    {
      "cell_type": "code",
      "execution_count": null,
      "metadata": {
        "id": "FoBPyuX0JIz0"
      },
      "outputs": [],
      "source": [
        "#Programa que determine el mayor de tres números\n",
        "\"\"\"\n",
        "x = int (input(\"Ingresa primer número: \"))\n",
        "y = int (input(\"Ingresa segundo número: \"))\n",
        "z = int (input(\"Ingresa tercer número: \"))\n",
        "if x > y and x > z:\n",
        "    print(x, \"es mayor que\", y ,\"y\" , z)\n",
        "elif y > x and y > z:\n",
        "  print(y, \"es mayor que\", x ,\"y\" , z)\n",
        "else:\n",
        "  print(z, \"es mayor que\", y ,\"y\" , x)\n",
        "\n",
        "--------------------------------------------------\n",
        "\n",
        "x = int (input(\"Ingresa primer número: \"))\n",
        "y = int (input(\"Ingresa segundo número: \"))\n",
        "z = int (input(\"Ingresa tercer número: \"))\n",
        "if x > y:\n",
        "  if x > z:\n",
        "    print(x, \"es mayor que\", y ,\"y\" , z)\n",
        "if y > x:\n",
        "  if y > z:\n",
        "    print(y, \"es mayor que\", x ,\"y\" , z)\n",
        "if z > x:\n",
        "  if z > y:\n",
        "    print(z, \"es mayor que\", y ,\"y\" , x)\n",
        "\"\"\"\n",
        "\n",
        "#----------------------------------------------------\n",
        "\n",
        "x = int (input(\"Ingresa primer número: \"))\n",
        "y = int (input(\"Ingresa segundo número: \"))\n",
        "z = int (input(\"Ingresa tercer número: \"))\n",
        "if (x > y) and (x > z):\n",
        "  print(x, \"es mayor que\", y ,\"y\" , z)\n",
        "elif y > z:\n",
        "  print(y, \"es mayor que\", x ,\"y\" , z)\n",
        "else:\n",
        "  print(z, \"es mayor que\", y ,\"y\" , x)"
      ]
    },
    {
      "cell_type": "code",
      "execution_count": null,
      "metadata": {
        "id": "tMLvbt-8gkxB"
      },
      "outputs": [],
      "source": [
        "#Pedir un número del 0 al 100 y que imprima si está bien o no\n",
        "n1 = int (input(\"Introduce un número: \"))\n",
        "if 0 <= n1 <= 100:\n",
        "  print(\"El número está en rango\")\n",
        "else:\n",
        "  print(\"El número no está en rango\")\n"
      ]
    },
    {
      "cell_type": "code",
      "execution_count": null,
      "metadata": {
        "id": "vCLAZN0fzbRC"
      },
      "outputs": [],
      "source": [
        "0<= 1\n"
      ]
    },
    {
      "cell_type": "code",
      "execution_count": null,
      "metadata": {
        "id": "6XbimOm91iw5"
      },
      "outputs": [],
      "source": [
        "#Programa que pida contraseña y la verifique 2 veces\n",
        "cont1 = input(\"Ingresa contraseña: \")\n",
        "cont2 = input(\"Vuelve a ingresar contraseña: \")\n",
        "cont3 = input(\"Prueba ultima vez: \")\n",
        "if cont1 == cont2 == cont3:\n",
        "  print(\"La contraseña está correcta\")\n",
        "else:\n",
        "  print(\"Te has equivocado\")"
      ]
    },
    {
      "cell_type": "code",
      "execution_count": null,
      "metadata": {
        "id": "aYNrL1Pf8sSS"
      },
      "outputs": [],
      "source": [
        "#Programa a prueba de errores, donde se pida introducir solo números del 1 al 10\n",
        "num = input(\"Introduce número del 1 al 10: \")\n",
        "if num == \"0\" or num == \"1\" or num == \"3\" or num == \"4\" or num == \"5\" or \\\n",
        "num == \"6\" or num == \"7\" or num == \"8\" or num == \"9\" or num == \"10\":\n",
        "   print(\"Has intruducido un número correcto\")\n",
        "else:\n",
        "  print(\"no has intruducido un dato incorrecto\")"
      ]
    },
    {
      "cell_type": "markdown",
      "metadata": {
        "id": "5hNthXOR__8l"
      },
      "source": [
        "EJERCICIOS DE YOUTUBE NIVEL 6"
      ]
    },
    {
      "cell_type": "markdown",
      "metadata": {
        "id": "3JsARVn4AMgt"
      },
      "source": [
        "# NIVEL 6 - \n",
        "canal Manuel González Programar en Python  "
      ]
    },
    {
      "cell_type": "code",
      "execution_count": null,
      "metadata": {
        "id": "4bCrGvaOAtv1"
      },
      "outputs": [],
      "source": [
        "#Programa que imprima d 20 a 0\n",
        "n = 20\n",
        "while n >= 0:\n",
        "  print(n)\n",
        "  n=n-1\n",
        "print(\"Fin del programa\")\n"
      ]
    },
    {
      "cell_type": "code",
      "execution_count": null,
      "metadata": {
        "id": "a8HZ5yzW46NY"
      },
      "outputs": [],
      "source": [
        "#Programa que pida número enre 10 y 20 hasta que introduzcas un número fuera de rago y se termin el programa\n",
        "#ESTE EJERCICIO no lo logre porque no sab{ia que se podia pedir la variable dos veces en un mismo ejercicio\n",
        "print(\"Juego de 10 a 20.\")\n",
        "x = int (input(\"Introduce un número entre el 10 y el 20: \"))\n",
        "while x >= 10 and x <= 20:  # 10<= n >=20\n",
        "  print(\"Número correcto, seguimos jugando.\")\n",
        "  x = int (input(\"Introduce un número entre el 10 y el 20: \"))\n",
        "else:\n",
        "  print ( \"número incorrecto, ha terminado el juego.\")"
      ]
    },
    {
      "cell_type": "code",
      "execution_count": null,
      "metadata": {
        "id": "fNeWURt8Jt6u"
      },
      "outputs": [],
      "source": [
        " #Programa que adivine un número y diga cuantas veces lo intentaste\n",
        "num_secreto = 8\n",
        "contador = 0\n",
        "x = int (input(\"Adivina cual es el número secreto: \"))\n",
        "while x != num_secreto:\n",
        "  contador = contador + 1\n",
        "  print(\"Lo has intentado\", contador, \"veces.\")\n",
        "  x = int (input(\"Vuelve a intentarlo, adivina cual es el número secreto: \"))\n",
        "else:\n",
        "  contador = contador + 1\n",
        "  print(\"Has acertado, lo intentaste\", contador, \"veces.\")"
      ]
    },
    {
      "cell_type": "code",
      "execution_count": null,
      "metadata": {
        "colab": {
          "base_uri": "https://localhost:8080/"
        },
        "id": "TvIShumnZRDO",
        "outputId": "e67fea66-7f42-4465-9098-06f0a2d0bc44"
      },
      "outputs": [
        {
          "data": {
            "text/plain": [
              "3"
            ]
          },
          "execution_count": 4,
          "metadata": {},
          "output_type": "execute_result"
        }
      ],
      "source": [
        "# \n",
        "x = 1\n",
        "y = 2\n",
        "x += y\n",
        "x"
      ]
    },
    {
      "cell_type": "code",
      "execution_count": null,
      "metadata": {
        "id": "JsV6Z-wmcD5U"
      },
      "outputs": [],
      "source": [
        "#Sumar números pares del 1 al 20\n",
        "comprobacion = 2+4+6+8+10+12+14+16+18+20\n",
        "print(comprobacion)\n",
        "i = 1\n",
        "suma = 0\n",
        "while i <= 20:\n",
        "  if suma % 2 == 0:\n",
        "    suma += i\n",
        "  i +=2\n",
        "print(\"El total el: \", suma)"
      ]
    },
    {
      "cell_type": "code",
      "execution_count": null,
      "metadata": {
        "colab": {
          "base_uri": "https://localhost:8080/"
        },
        "id": "uqWFxcpXMd-B",
        "outputId": "70b33ef5-bcbe-4896-e8e3-8944fd994567"
      },
      "outputs": [
        {
          "name": "stdout",
          "output_type": "stream",
          "text": [
            "la comprobación es: 630\n",
            "Primer número9\n",
            "Segundo número9\n",
            "9\n"
          ]
        }
      ],
      "source": [
        "#Sumar números multiplos de tres\n",
        "comprobacion = 120+123+126+129+132\n",
        "print(\"la comprobación es:\", comprobacion)\n",
        "suma = 0\n",
        "x = int (input(\"Primer número\"))\n",
        "y = int (input(\"Segundo número\"))\n",
        "while x <= y:\n",
        "  if x % 3 == 0:\n",
        "    suma += x\n",
        "  x +=1\n",
        "print(suma)\n",
        "  \n",
        "\n"
      ]
    },
    {
      "cell_type": "code",
      "execution_count": null,
      "metadata": {
        "id": "yQhIyeMqlgR5"
      },
      "outputs": [],
      "source": [
        "#Programa que pida usuario y contraseña\n",
        "x = \"cesar\"\n",
        "y = \"123\"\n",
        "print(\"introduce usuario y contraseña: \")\n",
        "usuario = input(\"Ingresa usuario: \")\n",
        "contrasena = input (\"Introduce contraseña\")\n",
        "while usuario != x or contrasena != y:\n",
        "  print(\"Usuario y contraseña inválido\")\n",
        "  usuario = input (\"Introduce nuevamente el uaurio: \")\n",
        "  contrasena = input (\"introduce la contraseña: \")\n",
        "print(\"Estás dentro del programa\")"
      ]
    },
    {
      "cell_type": "code",
      "execution_count": null,
      "metadata": {
        "id": "wRWTBv1kqanH"
      },
      "outputs": [],
      "source": [
        "#Juego que pide numero del 1 al 5 y una vocal. Comienzas con 100 puntos, \n",
        "#si aciertas 1 de ellos te resta 2 y sino aciertas ninguno te resta 5.\n",
        "#al final decir cuantos puntos te quedan\n",
        "puntos = 100\n",
        "numero = \"5\"\n",
        "letra = \"u\"\n",
        "bandera = True\n",
        "while bandera:\n",
        "  intento_num = input (\"Introduce un número\")\n",
        "  intento_letra = input (\"Introduce una vocal\")\n",
        "  if intento_num != numero and intento_letra != letra:\n",
        "    puntos -= 5\n",
        "  elif intento_num != numero or intento_letra != letra:\n",
        "    puntos -= 2\n",
        "  else:\n",
        "    print(\"Has acertado, tu puntuación es:\", puntos)\n",
        "    bandera = False\n",
        "    \n",
        "\n"
      ]
    },
    {
      "cell_type": "markdown",
      "metadata": {
        "id": "NTQbvExDu0UH"
      },
      "source": [
        "# NIVEL 7"
      ]
    },
    {
      "cell_type": "code",
      "execution_count": null,
      "metadata": {
        "colab": {
          "base_uri": "https://localhost:8080/"
        },
        "id": "HM-yQ34Xu7bP",
        "outputId": "577aa932-41fa-4db5-c382-48e19b6df785"
      },
      "outputs": [
        {
          "name": "stdout",
          "output_type": "stream",
          "text": [
            "partitura\n"
          ]
        }
      ],
      "source": [
        "#Hacer una cadena de carcateres con la palabra partitura\n",
        "a =\"altura\"\n",
        "b = \"parte\"\n",
        "c = \"cristal\"\n",
        "d = b [:4] + c [2:3] + a [2:]\n",
        "print(d)"
      ]
    },
    {
      "cell_type": "code",
      "execution_count": null,
      "metadata": {
        "colab": {
          "base_uri": "https://localhost:8080/"
        },
        "id": "jI-_2Et5ApPl",
        "outputId": "21825303-120c-4ff2-f164-f01fe3ef3383"
      },
      "outputs": [
        {
          "name": "stdout",
          "output_type": "stream",
          "text": [
            "Las veces encontradas la o o la ó fueron:  15 veces\n"
          ]
        }
      ],
      "source": [
        "#Contar cuantas veces la letra o con y sin tilde aparecen en la cadena de caracteres\n",
        "cadena = \"muchos años después, frente al pelotón de fusilamiento, el coronel Aureliano Buendia había recordado aquella tarde remota en la que su padre lo llevó a concer el hielo\"\n",
        "longitud = len (cadena)\n",
        "total = 0\n",
        "n = 0\n",
        "while n <= longitud-1:\n",
        "  if cadena[n] == \"o\" or cadena[n] == \"ó\":\n",
        "    total +=1\n",
        "    n +=1\n",
        "  else:\n",
        "    n +=1\n",
        "print (\"Las veces encontradas la o o la ó fueron: \", total, \"veces\")"
      ]
    },
    {
      "cell_type": "code",
      "execution_count": null,
      "metadata": {
        "colab": {
          "base_uri": "https://localhost:8080/"
        },
        "id": "6LwGW4W2JoCs",
        "outputId": "7f9916c0-82c4-4594-d74a-6daf2b8e49d0"
      },
      "outputs": [
        {
          "name": "stdout",
          "output_type": "stream",
          "text": [
            "Introduce una palabra: murciélago\n",
            "La cantidad de vocales es: 5 y las consonantes son: 5\n"
          ]
        }
      ],
      "source": [
        "#Número de vocales y consonantes que tiene una palabra\n",
        "palabra = input (\"Introduce una palabra: \")\n",
        "total_vocales = 0\n",
        "total_cons = 0\n",
        "vocales = \"aeiouáéíóú\"\n",
        "n = 0\n",
        "while n <= len (palabra)-1:\n",
        "  if palabra [n] in vocales:\n",
        "    total_vocales += 1\n",
        "  else:\n",
        "    total_cons += 1\n",
        "  n += 1\n",
        "print (\"La cantidad de vocales es:\", total_vocales, \"y las consonantes son:\", total_cons)\n"
      ]
    },
    {
      "cell_type": "code",
      "execution_count": null,
      "metadata": {
        "colab": {
          "base_uri": "https://localhost:8080/"
        },
        "id": "I1A7thdvbxmy",
        "outputId": "72596f30-881f-47f1-edd2-6cc4f84dfc18"
      },
      "outputs": [
        {
          "name": "stdout",
          "output_type": "stream",
          "text": [
            "('gato', 'canario', 'tortuga')\n",
            "('gato', 'canario', 'tortuga')\n",
            "('gato', 'canario', 'tortuga')\n",
            "<class 'tuple'>\n"
          ]
        }
      ],
      "source": [
        "#TUPLA que contenga solo las mascotas\n",
        "mamiferos = (\"tigre\", \"gato\", \"leon\")\n",
        "aves = (\"aguila\", \"buitre\", \"canario\")\n",
        "reptiles = (\"tortuga\", \"serpiente\")\n",
        "mascotas = mamiferos [1:2] + aves [2:] + reptiles [0:1]\n",
        "mascotas2 = (mamiferos [1], aves [2], reptiles [0])\n",
        "mascotas3 = (mamiferos [1],) + (aves [2],) + (reptiles [0],)\n",
        "print (mascotas)\n",
        "print (mascotas2)\n",
        "print (mascotas3)\n",
        "print (type (mascotas))\n",
        "\n"
      ]
    },
    {
      "cell_type": "code",
      "execution_count": null,
      "metadata": {
        "colab": {
          "base_uri": "https://localhost:8080/"
        },
        "id": "UA8CgNB0jlXy",
        "outputId": "ca444993-bf03-46df-d0f9-ca3f7ab5655c"
      },
      "outputs": [
        {
          "name": "stdout",
          "output_type": "stream",
          "text": [
            "('Lunes', 'Martes', 'Miercoles', 'jueves', 'Viernes', 'Sabado', 'Domingo')\n",
            "['lunes', 'miercoles', 'viernes']\n"
          ]
        }
      ],
      "source": [
        "#Escoger la mejor opción para hacer tuplas o listas.\n",
        "dias_semana = (\"Lunes\", \"Martes\", \"Miercoles\", \"jueves\", \"Viernes\", \"Sabado\", \"Domingo\")\n",
        "dias_entrenamiento = [\"lunes\", \"miercoles\", \"viernes\"]\n",
        "print (dias_semana)\n",
        "print (dias_entrenamiento)"
      ]
    },
    {
      "cell_type": "code",
      "execution_count": null,
      "metadata": {
        "colab": {
          "base_uri": "https://localhost:8080/"
        },
        "id": "FN0Kod9copMo",
        "outputId": "8e4b8d58-683e-462d-fe74-d76fcab4e5a1"
      },
      "outputs": [
        {
          "name": "stdout",
          "output_type": "stream",
          "text": [
            "[1, 2, 3, 4, 5, 6, 7, 8, 9, 10, 11, 12, 13, 14, 15, 16, 17, 18, 19, 20, 21, 22, 23, 24, 25, 26, 27, 28, 29, 30, 31, 32, 33, 34, 35, 36, 37, 38, 39, 40, 41, 42, 43, 44, 45, 46, 47, 48, 49, 50, 51, 52, 53, 54, 55, 56, 57, 58, 59, 60, 61, 62, 63, 64, 65, 66, 67, 68, 69, 70, 71, 72, 73, 74, 75, 76, 77, 78, 79, 80, 81, 82, 83, 84, 85, 86, 87, 88, 89, 90, 91, 92, 93, 94, 95, 96, 97, 98, 99, 100]\n"
          ]
        }
      ],
      "source": [
        "#Hacer una lista que contenga los números del 1 al 100, usando el bucle while y partiendo de una lista vacía \n",
        "#NO la logré hacer porque en lugar de concatenar [i] concatené un [1] error básico de while\n",
        "numeros = []\n",
        "i = 1\n",
        "while i <= 100:\n",
        "  numeros += [i]\n",
        "  i +=1\n",
        "print (numeros)"
      ]
    },
    {
      "cell_type": "code",
      "execution_count": null,
      "metadata": {
        "colab": {
          "base_uri": "https://localhost:8080/"
        },
        "id": "_9i3wkJ2tbm2",
        "outputId": "d4431400-3454-475b-d362-a1d3287495d7"
      },
      "outputs": [
        {
          "name": "stdout",
          "output_type": "stream",
          "text": [
            "introduce un número entero: 18\n",
            "El número está en el rango, introduce otro número entero: 9\n",
            "Has fallado en el rango\n"
          ]
        }
      ],
      "source": [
        "#versión 1: Programa que pida número entero que esté en intervalo de 18 a 25, usand range\n",
        "n = int (input(\"introduce un número entero: \"))\n",
        "while n in range (18,26):\n",
        "   n = int (input(\"El número está en el rango, introduce otro número entero: \"))\n",
        "print (\"Has fallado en el rango\")"
      ]
    },
    {
      "cell_type": "code",
      "execution_count": null,
      "metadata": {
        "colab": {
          "base_uri": "https://localhost:8080/"
        },
        "id": "_is7dfYbwzlE",
        "outputId": "52fbcb2e-1662-4afb-b359-c8ff9f8c15ca"
      },
      "outputs": [
        {
          "name": "stdout",
          "output_type": "stream",
          "text": [
            "introduce un número entero: 25\n",
            "El número está en el rango\n",
            "introduce un número entero: 17\n",
            "Has fallado en el rango\n"
          ]
        }
      ],
      "source": [
        "#versión 2: Programa que pida número entero que esté en intervalo de 18 a 25, usand range\n",
        "bandera = True\n",
        "while bandera:\n",
        "  n = int (input(\"introduce un número entero: \"))\n",
        "  if n in range (18, 26):\n",
        "    print (\"El número está en el rango\")\n",
        "  else:\n",
        "    print (\"Has fallado en el rango\")\n",
        "    bandera = False"
      ]
    },
    {
      "cell_type": "code",
      "execution_count": null,
      "metadata": {
        "colab": {
          "base_uri": "https://localhost:8080/"
        },
        "id": "HafB13jsyquL",
        "outputId": "17ff9cd6-db40-496a-cddd-e4a4cb0111b3"
      },
      "outputs": [
        {
          "name": "stdout",
          "output_type": "stream",
          "text": [
            "Introduce un color: blanco\n",
            "Has acetado\n",
            "tienes  1 puntos\n",
            "Introduce un color: azul\n",
            "Has acetado\n",
            "tienes  2 puntos\n",
            "Introduce un color: gris\n",
            "Has perdido lograste  2 puntos\n"
          ]
        }
      ],
      "source": [
        "#Crear Juego de diivinar 5 colares, por cada colo acertado tienes un punto.\n",
        "bandera = True\n",
        "contador = 0\n",
        "lista_colores = [\"amarillo\", \"azul\", \"rojo\", \"blanco\", \"negro\"]\n",
        "while bandera:\n",
        "  x = input (\"Introduce un color: \")\n",
        "  if x in lista_colores:\n",
        "    contador += 1\n",
        "    print(\"Has acetado\")\n",
        "    print(\"tienes \", contador, \"puntos\")\n",
        "  else:\n",
        "    print (\"Has perdido lograste \", contador, \"puntos\")\n",
        "    bandera = False"
      ]
    },
    {
      "cell_type": "code",
      "execution_count": null,
      "metadata": {
        "id": "9I7CLuAA_Xhd"
      },
      "outputs": [],
      "source": []
    },
    {
      "cell_type": "markdown",
      "metadata": {
        "id": "eAdP6kO2NnuR"
      },
      "source": [
        "\n",
        "\n",
        "```\n",
        "# Tiene formato de código\n",
        "```\n",
        "\n",
        "# NIVEL 8 YOUTUBE"
      ]
    },
    {
      "cell_type": "code",
      "execution_count": null,
      "metadata": {
        "id": "l3fJ-ZloNxMA"
      },
      "outputs": [],
      "source": [
        "#Programa que haga una cuenta regresiva usando el bucle for\n",
        "\n",
        "for i in range (10,-1,-1):\n",
        "  print(i)\n",
        "\n",
        "\"\"\"\n",
        "for i in range (11):\n",
        "  print(10-i)\n",
        "\n",
        "Usando While\n",
        "\n",
        "i = 10\n",
        "while i >= 0:\n",
        "  print (i)\n",
        "  i -= 1\n",
        "\"\"\""
      ]
    },
    {
      "cell_type": "code",
      "execution_count": null,
      "metadata": {
        "id": "RnXx4LT3TCgg"
      },
      "outputs": [],
      "source": [
        "#Un programa que te pida 5 números y los sume con for, al final te muestra el resultado\n",
        "\n",
        "total = 0\n",
        "for i in range (5):\n",
        "  print (\"dime el número\", i+1)\n",
        "  num = int (input(\"número: \"))\n",
        "  total = total + num\n",
        "print(\"El total de los 5 números es \", total)\n"
      ]
    },
    {
      "cell_type": "code",
      "execution_count": null,
      "metadata": {
        "id": "yVUSv9G0Vnt6"
      },
      "outputs": [],
      "source": [
        "#Un programa que te pida 5 números y los sume con while, al final te muestra el resultado\n",
        "total = 0\n",
        "i = 1\n",
        "while i <= 5:\n",
        "  print (\"Dime el número \", i)\n",
        "  num = int (input(\"número: \"))\n",
        "  total = total + num\n",
        "  i += 1\n",
        "print (\"El total de los 5 números es: \", total) "
      ]
    },
    {
      "cell_type": "code",
      "execution_count": null,
      "metadata": {
        "colab": {
          "base_uri": "https://localhost:8080/"
        },
        "id": "Z8nMhAB4h90y",
        "outputId": "5a39aa22-70cf-4d3b-f4a1-b2dc9e925e1a"
      },
      "outputs": [
        {
          "name": "stdout",
          "output_type": "stream",
          "text": [
            "introduce un número: 102\n",
            "La suma total es: 102.0\n"
          ]
        }
      ],
      "source": [
        "#Un prorama que pida numeros hasta llegar a 100 y muestre el resultado al final\n",
        "suma = 0\n",
        "while suma < 100:\n",
        "  num = float (input(\"introduce un número: \"))\n",
        "  suma += num\n",
        "print( \"La suma total es:\", suma)\n",
        "\n"
      ]
    },
    {
      "cell_type": "code",
      "execution_count": null,
      "metadata": {
        "id": "27NgNT1bmjva"
      },
      "outputs": [],
      "source": [
        "#Programa que pida un número al usuario y que lo sume con los elementos de una lista y si con algún \n",
        "#elemento suma 100 cumple la condición - Usar for \n",
        "encontrado = True\n",
        "num = int (input(\"Introduce un número: \"))\n",
        "lista = [97, 36, 43, 52, 61, 75, 84, 28]\n",
        "for i in lista:\n",
        "  if num + i == 100:\n",
        "    encontrado = False\n",
        "if encontrado == False:\n",
        "  print(\"La suma es igual a 100\")\n",
        "else:\n",
        "  print(\"La suma no es igual a 100\")\n",
        "\n",
        "\n",
        "  \n"
      ]
    },
    {
      "cell_type": "code",
      "execution_count": null,
      "metadata": {
        "colab": {
          "base_uri": "https://localhost:8080/"
        },
        "id": "LmUG57K9Ykn7",
        "outputId": "a8bc5be8-3a36-4ae1-9b67-d3cd3d6603da"
      },
      "outputs": [
        {
          "name": "stdout",
          "output_type": "stream",
          "text": [
            "introduce un numero: 25\n",
            "El número cumple la condición\n"
          ]
        }
      ],
      "source": [
        "#Programa que pida un número al usuario y que lo sume con los elementos de una lista y si con algún \n",
        "#elemento suma 100 cumple la condición - Usar in\n",
        "\n",
        "num = int (input(\"introduce un numero: \"))\n",
        "lista = [97, 36, 43, 52, 61, 75, 84, 28]\n",
        "if 100 - num in lista:\n",
        "  print (\"El número cumple la condición\") \n",
        "else:\n",
        "  print (\"el número no cumple la condición\")"
      ]
    },
    {
      "cell_type": "code",
      "execution_count": null,
      "metadata": {
        "colab": {
          "base_uri": "https://localhost:8080/"
        },
        "id": "f35NrH39bD6I",
        "outputId": "797e367c-f660-4786-852a-01b19bdc0db2"
      },
      "outputs": [
        {
          "name": "stdout",
          "output_type": "stream",
          "text": [
            "El número está  3 veces en la lista\n"
          ]
        }
      ],
      "source": [
        "#Buscar cuantas veces está en número 43 en la lista con bucle for\n",
        "lista = [97, 36, 43, 52, 61, 43, 75, 84, 28, 43]\n",
        "num = 43\n",
        "contador = 0\n",
        "for i in lista:\n",
        "  if i == num:\n",
        "    contador += 1\n",
        "print(\"El número está \", contador, \"veces en la lista\")\n"
      ]
    },
    {
      "cell_type": "code",
      "execution_count": null,
      "metadata": {
        "id": "06tZH4tydH1E"
      },
      "outputs": [],
      "source": [
        "#Una tupl con los mese y queremos saber que meses tienen la letra b\n",
        "meses = (\"enero\", \"febrero\", \"marzo\", \"abril\", \"mayo\", \"junio\", \"julio\", \"agosto\", \"septiembre\", \"octubre\", \"noviembre\", \"dicimbre\")\n",
        "letra = \"b\"\n",
        "for mes in meses:\n",
        "  for i in mes:\n",
        "    if i == letra:\n",
        "      print (\"El mes\", mes, \"tiene la letra b\")\n",
        "    \n",
        "    \n"
      ]
    },
    {
      "cell_type": "code",
      "execution_count": null,
      "metadata": {
        "id": "hPPNhvABl9uP"
      },
      "outputs": [],
      "source": [
        "meses = (\"enero\", \"febrero\", \"marzo\", \"abril\", \"mayo\", \"junio\", \"julio\", \"agosto\", \"septiembre\", \"octubre\", \"noviembre\", \"dicimbre\")\n",
        "for mes in meses:\n",
        "  if \"b\" in mes:\n",
        "    print (\"El mes\", mes, \"tiene la letra b\")"
      ]
    },
    {
      "cell_type": "code",
      "execution_count": null,
      "metadata": {
        "id": "gwXsSfeaoaQ9"
      },
      "outputs": [],
      "source": [
        "#Decir en que posición está un número en una lista\n",
        "#NO LO LOGRE, no sabía como como comparar elemtno con cada posición de la lista \n",
        "\n",
        "lista = [2, 5, 90, 23, 45, 87, 54, 11, 38]\n",
        "elemento = 54\n",
        "for i in range (len(lista)):\n",
        "  if lista[i] == elemento:\n",
        "    print (\"El elemento 54 está en la posición \", i+1)\n",
        "    \n",
        "      \n",
        "    \n",
        "\n",
        "  \n"
      ]
    },
    {
      "cell_type": "code",
      "execution_count": null,
      "metadata": {
        "colab": {
          "base_uri": "https://localhost:8080/"
        },
        "id": "haSTEQhnxyUd",
        "outputId": "2198634b-7ec2-47dc-8e6a-4d8a247bca90"
      },
      "outputs": [
        {
          "name": "stdout",
          "output_type": "stream",
          "text": [
            "Dime un número: 5\n",
            "5 * 0 = 0\n",
            "5 * 1 = 5\n",
            "5 * 2 = 10\n",
            "5 * 3 = 15\n",
            "5 * 4 = 20\n",
            "5 * 5 = 25\n",
            "5 * 6 = 30\n",
            "5 * 7 = 35\n",
            "5 * 8 = 40\n",
            "5 * 9 = 45\n",
            "5 * 10 = 50\n"
          ]
        }
      ],
      "source": [
        "#Tabla de multiplicar con un número que ingrese el usuario\n",
        "num = int (input(\"Dime un número: \"))\n",
        "for i in range (11):\n",
        "  print(num, \"*\" , i, \"=\", num * i)\n"
      ]
    },
    {
      "cell_type": "code",
      "execution_count": null,
      "metadata": {
        "colab": {
          "base_uri": "https://localhost:8080/"
        },
        "id": "Hn206dFL1EiB",
        "outputId": "633b161e-b307-43a6-d82b-0f235dbcffe6"
      },
      "outputs": [
        {
          "name": "stdout",
          "output_type": "stream",
          "text": [
            "Temperatura correcta\n",
            "Temperatura correcta\n",
            "Temperatura correcta\n",
            "Temperatura correcta\n",
            "Temperatura correcta\n",
            "Temperatura incorrecta\n"
          ]
        }
      ],
      "source": [
        "#una lista de temperaturas y el bucle debe parar cuando esté fuera del rango entre 18 y 25\n",
        "temperaturas = [19, 22, 21, 24, 23, 27, 21, 20, 19, 18, 21, 20]\n",
        "for i in temperaturas:\n",
        "  if i <=18 or i >=25:\n",
        "    print(\"Temperatura incorrecta\") \n",
        "    break\n",
        "  else:\n",
        "    print(\"Temperatura correcta\")"
      ]
    },
    {
      "cell_type": "code",
      "execution_count": null,
      "metadata": {
        "colab": {
          "base_uri": "https://localhost:8080/"
        },
        "id": "YmoZugzB4T3-",
        "outputId": "548ccb47-9d04-4e94-c6a8-137a09232c01"
      },
      "outputs": [
        {
          "name": "stdout",
          "output_type": "stream",
          "text": [
            "La temperatura es correcta\n",
            "La temperatura es correcta\n",
            "La temperatura es correcta\n",
            "La temperatura es correcta\n",
            "La temperatura es correcta\n",
            "La temperatura es incorrecta\n"
          ]
        }
      ],
      "source": [
        "#una lista de temperaturas y el bucle debe parar cuando esté fuera del rango entre 18 y 25\n",
        "temperaturas = [19, 22, 21, 24, 23, 27, 21, 20, 19, 18, 21, 20]\n",
        "for j in temperaturas:\n",
        "  if 17 < j < 25: # j es mayor a 17 and j es menor a 25\n",
        "    print (\"La temperatura es correcta\")\n",
        "  else: \n",
        "    print(\"La temperatura es incorrecta\")\n",
        "    break"
      ]
    },
    {
      "cell_type": "code",
      "execution_count": null,
      "metadata": {
        "colab": {
          "base_uri": "https://localhost:8080/"
        },
        "id": "AeZqCt2p7s7a",
        "outputId": "e90809c7-31c5-40e6-c20c-3b6bdd6ed751"
      },
      "outputs": [
        {
          "name": "stdout",
          "output_type": "stream",
          "text": [
            "dime una letra: a\n",
            "Has acertado\n"
          ]
        }
      ],
      "source": [
        "#Juego de adivinar letra, cuando la descubres se para y si anota la w pierde y se termina el juego\n",
        "abecedario = \"a\"\n",
        "letra = input(\"dime una letra: \")\n",
        "while True:\n",
        "  if letra in abecedario:\n",
        "    print (\"Has acertado\")\n",
        "    break\n",
        "  elif letra == \"w\":\n",
        "    print(\"Has perdido\")\n",
        "    break\n",
        "  else:\n",
        "    letra = input(\"dime otra letra: \")\n"
      ]
    },
    {
      "cell_type": "code",
      "execution_count": null,
      "metadata": {
        "colab": {
          "base_uri": "https://localhost:8080/"
        },
        "id": "XBcmYMY4_UpL",
        "outputId": "ee443c0e-5d89-4a0a-bfb0-c6bd9e2094e5"
      },
      "outputs": [
        {
          "name": "stdout",
          "output_type": "stream",
          "text": [
            "Dime una letra: a\n",
            "has acertado\n"
          ]
        }
      ],
      "source": [
        "\n",
        "#Juego de adivinar letra, cuando la descubres se para y si anota la w pierde y se termina el juego - Con banderas\n",
        "abecedario = \"a\"\n",
        "letra = input(\"Dime una letra: \")\n",
        "bandera = True\n",
        "while bandera:\n",
        "  if letra == abecedario:\n",
        "    print(\"has acertado\")\n",
        "    bandera = False\n",
        "  elif letra == \"w\":\n",
        "    print(\"Has perdido, letra prohibida\")\n",
        "    bandera = False\n",
        "  else:\n",
        "    letra = input(\"Dime una letra: \")\n"
      ]
    },
    {
      "cell_type": "code",
      "execution_count": null,
      "metadata": {
        "colab": {
          "base_uri": "https://localhost:8080/"
        },
        "id": "bm9yVrZyCidE",
        "outputId": "32ced5ed-5873-4732-81b4-fcc7a8f97b80"
      },
      "outputs": [
        {
          "name": "stdout",
          "output_type": "stream",
          "text": [
            "El número 1 es positivo\n",
            "El número 4 es positivo\n",
            "El número -3 es negativo\n",
            "El número 5 es positivo\n",
            "El número 7 es positivo\n",
            "El número -2 es negativo\n",
            "El número 6 es positivo\n"
          ]
        }
      ],
      "source": [
        "#Programa que diga si los numeros son negativos o positvos y que no muestre el cero\n",
        "numeros = [1, 4, -3, 5, 0, 7, -2, 6]\n",
        "num_neg = []\n",
        "num_pos = []\n",
        "for i in numeros:\n",
        "  if i == 0 :\n",
        "    continue\n",
        "  elif i <-1:\n",
        "    print(\"El número\", i, \"es negativo\")\n",
        "  else:\n",
        "    print(\"El número\", i, \"es positivo\")\n",
        "  \n"
      ]
    },
    {
      "cell_type": "markdown",
      "metadata": {
        "id": "mPwEn16odmJu"
      },
      "source": [
        "# NIVEL 16 - FUNCIONES - YOUTUBE"
      ]
    },
    {
      "cell_type": "code",
      "execution_count": null,
      "metadata": {
        "colab": {
          "base_uri": "https://localhost:8080/"
        },
        "id": "zKsqntBfgtKE",
        "outputId": "38869393-3066-4744-c475-591f789dc3e4"
      },
      "outputs": [
        {
          "name": "stdout",
          "output_type": "stream",
          "text": [
            "Dime un número: 5\n",
            "El resultado del triple del doble de 5 es  30\n"
          ]
        }
      ],
      "source": [
        "#Define una función que tome como un parámetro y devuelva el triple del doble de número que sea solicitado al usuario\n",
        "def triple_doble (n):\n",
        "  total = (n*2)*3 \n",
        "  return total\n",
        "\n",
        "num = int (input (\"Dime un número: \"))\n",
        "\n",
        "print(\"El resultado del triple del doble de\", num, \"es \", triple_doble(num))"
      ]
    },
    {
      "cell_type": "code",
      "execution_count": null,
      "metadata": {
        "colab": {
          "base_uri": "https://localhost:8080/"
        },
        "id": "Lb7NttTAnt6O",
        "outputId": "0acf903b-80cf-4fa7-e2d5-24c7603976d8"
      },
      "outputs": [
        {
          "name": "stdout",
          "output_type": "stream",
          "text": [
            "Dime la primera cadenada: cada \n",
            "Dime la segunda cadenada: quien      \n",
            "Dime cuantas veces quieres repetirlas: 3\n",
            "cadaquien      cadaquien      cadaquien      \n"
          ]
        }
      ],
      "source": [
        "#Define un funcion que concatene dos cadenas de caracteres y que imprima por pantalla las veces que diga el usuario\n",
        "def cadena_caracteres_concatenadas (cadena1, cadena2, veces):\n",
        "  return (cadena1 + cadena2) * veces\n",
        "cad1 = input (\"Dime la primera cadenada: \").strip()\n",
        "cad2 = input (\"Dime la segunda cadenada: \")\n",
        "veces_cad =int (input (\"Dime cuantas veces quieres repetirlas: \"))\n",
        "print(cadena_caracteres_concatenadas(cad1, cad2, veces_cad))"
      ]
    },
    {
      "cell_type": "code",
      "execution_count": null,
      "metadata": {
        "colab": {
          "base_uri": "https://localhost:8080/"
        },
        "id": "XOLu8atUspPl",
        "outputId": "b937dc43-ccce-4898-f528-30a0226f4f8e"
      },
      "outputs": [
        {
          "name": "stdout",
          "output_type": "stream",
          "text": [
            "Introduce tu nombre: cesar\n",
            "**********************************************\n",
            "*                                            *\n",
            "*         Bienvenido al programa             *\n",
            "----------------- cesar ---------------------\n",
            "*                                            *\n",
            "**********************************************\n"
          ]
        }
      ],
      "source": [
        "#Hacer una función que de saldo al incio del programa con el nombre del usuario\n",
        "def inicio_programa (n):\n",
        "  print(\"**********************************************\")\n",
        "  print(\"*                                            *\")\n",
        "  print(\"*         Bienvenido al programa             *\")\n",
        "  print(\"-----------------\",n,\"---------------------\")\n",
        "  print(\"*                                            *\")\n",
        "  print(\"**********************************************\")\n",
        "nombre = input(\"Introduce tu nombre: \")\n",
        "inicio_programa (nombre)"
      ]
    },
    {
      "cell_type": "code",
      "execution_count": null,
      "metadata": {
        "colab": {
          "base_uri": "https://localhost:8080/"
        },
        "id": "z9ZGZdFT7PFa",
        "outputId": "afef2aef-2551-4b52-96bb-2c05054a93ac"
      },
      "outputs": [
        {
          "name": "stdout",
          "output_type": "stream",
          "text": [
            "Indique la cantidad de preguntas: 40\n",
            "indique la cantidad de aciertos: 30\n",
            "Indique el valor de cada fallo: 0.25\n"
          ]
        },
        {
          "data": {
            "text/plain": [
              "5.0"
            ]
          },
          "execution_count": 26,
          "metadata": {},
          "output_type": "execute_result"
        }
      ],
      "source": [
        "#un programa que calcule la nota de un examen en base a 10 y que indique cuantas preguntas tiene el examenes y a cuanto equivale cada fallo.\n",
        "def calculo_examen (preguntas, aciertos, valor_fallo):\n",
        "  calculo = (10 / preguntas) * aciertos - valor_fallo * (preguntas - aciertos)\n",
        "  return calculo\n",
        "cantidad_preguntas = int (input(\"Indique la cantidad de preguntas: \"))\n",
        "aciertos_alumno = int (input(\"indique la cantidad de aciertos: \"))\n",
        "valor_de_fallo = float (input(\"Indique el valor de cada fallo: \"))\n",
        "calculo_examen (cantidad_preguntas, aciertos_alumno, valor_de_fallo)"
      ]
    },
    {
      "cell_type": "code",
      "execution_count": null,
      "metadata": {
        "id": "OJ47FuS4Fkg-"
      },
      "outputs": [],
      "source": [
        "#Hacer un programa que compuebe si un número es multiplo de otro mediante dos return\n",
        "def es_multiplo_de (n1, n2):\n",
        "  if n1 % n2 == 0:\n",
        "    return True\n",
        "  return False\n",
        "n1 = int(input(\"Introduce el numero que quieres saber si es multiplo: \")) \n",
        "n2 = int(input(\"Multiplo de: \")) \n",
        "if es_multiplo_de (n1, n2):\n",
        "  print(n1, \"es multiplo de\", n2)\n",
        "else:\n",
        "  print(n1, \"no es multiplo de\", n2)\n"
      ]
    },
    {
      "cell_type": "code",
      "execution_count": null,
      "metadata": {
        "id": "8fedtZvYQ0fW"
      },
      "outputs": [],
      "source": [
        "#Un programa que cambie de grados F a C y viceversa, con un menú, buble while que permita ejecutar siempre y que indique si los datos son errorneos\n",
        "\n",
        "\n",
        "def cels_a_fahr (cels):\n",
        "  return (cels * 1.8) + 32\n",
        "\n",
        "def fahr_a_cels (fahr):\n",
        "  return (fahr - 32) / 1.8\n",
        "\n",
        "def menu ():\n",
        "  print (\"*******Opciones disponibles********\")\n",
        "  print (\"1.- Cambiar de Fahrenheit a Celsius\")\n",
        "  print (\"2.- Cambiar de Celsius a Fahrenheit\")\n",
        "  print (\"3.- Salir\")\n",
        "  print (\"************************************\")\n",
        "  opcion = input(\"-->>> \")\n",
        "  return opcion\n",
        "    \n",
        "def pedir_grados (escala):\n",
        "  if escala == \"1\":\n",
        "    grados = float (input(\"Indica °F: \"))\n",
        "  elif escala == \"2\":\n",
        "    grados = float (input(\"Indica °C: \"))\n",
        "  return grados\n",
        "\n",
        "\n",
        "def mostrar_resultados (escala, grados):\n",
        "  if escala == \"1\":\n",
        "    print (\"Son\", grados, \"Fahrenheit\")\n",
        "  elif escala == \"2\":\n",
        "    print (\"Son\", grados, \"Celsius\")\n",
        "\n",
        "while True:\n",
        "  op = menu ()\n",
        "  if op == \"3\":\n",
        "    break\n",
        "  elif op == \"1\" or op == \"2\":\n",
        "    gr = pedir_grados (op)\n",
        "    if op == \"1\":\n",
        "      conversion = fahr_a_cels (gr)\n",
        "    if op == \"2\":\n",
        "      conversion = cels_a_fahr (gr)\n",
        "    mostrar_resultados (op, conversion)\n",
        "    print()\n",
        "  else:\n",
        "    print(\"Introduce una opción correcta\")\n",
        "    print ()"
      ]
    },
    {
      "cell_type": "code",
      "execution_count": null,
      "metadata": {
        "colab": {
          "base_uri": "https://localhost:8080/"
        },
        "id": "jblMT0s0gu7t",
        "outputId": "5fce7eee-620a-4ab3-9991-f30029540671"
      },
      "outputs": [
        {
          "name": "stdout",
          "output_type": "stream",
          "text": [
            "*******Opciones disponibles********\n",
            "1.- Cambiar de Fahrenheit a Celsius\n",
            "2.- Cambiar de Celsius a Fahrenheit\n",
            "3.- Salir\n",
            "************************************\n",
            "-->>> 1\n",
            "Indica °F: 122\n",
            "Son 50.0 Fahrenheit\n",
            "\n",
            "*******Opciones disponibles********\n",
            "1.- Cambiar de Fahrenheit a Celsius\n",
            "2.- Cambiar de Celsius a Fahrenheit\n",
            "3.- Salir\n",
            "************************************\n",
            "-->>> 2\n",
            "Indica °C: 50\n",
            "Son 122.0 Celsius\n",
            "\n",
            "*******Opciones disponibles********\n",
            "1.- Cambiar de Fahrenheit a Celsius\n",
            "2.- Cambiar de Celsius a Fahrenheit\n",
            "3.- Salir\n",
            "************************************\n",
            "-->>> 3\n"
          ]
        }
      ],
      "source": [
        "#Un programa que cambie de grados F a C y viceversa, con un menú, buble while que permita ejecutar siempre y que indique si los datos son errorneos\n",
        "#CON MIS VARIABLES PARA ENTENDER EL CODIGO\n",
        "\n",
        "def cels_a_fahr (cels):\n",
        "  return (cels * 1.8) + 32\n",
        "\n",
        "def fahr_a_cels (fahr):\n",
        "  return (fahr - 32) / 1.8\n",
        "\n",
        "def menu ():\n",
        "  print (\"*******Opciones disponibles********\")\n",
        "  print (\"1.- Cambiar de Fahrenheit a Celsius\")\n",
        "  print (\"2.- Cambiar de Celsius a Fahrenheit\")\n",
        "  print (\"3.- Salir\")\n",
        "  print (\"************************************\")\n",
        "  opcion = input(\"-->>> \")\n",
        "  return opcion\n",
        "    \n",
        "def pedir_grados (escala):\n",
        "  if escala == \"1\":\n",
        "    grados = float (input(\"Indica °F: \"))\n",
        "  elif escala == \"2\":\n",
        "    grados = float (input(\"Indica °C: \"))\n",
        "  return grados\n",
        "\n",
        "\n",
        "def mostrar_resultados (escala, grados):\n",
        "  if escala == \"1\":\n",
        "    print (\"Son\", grados, \"Fahrenheit\")\n",
        "  elif escala == \"2\":\n",
        "    print (\"Son\", grados, \"Celsius\")\n",
        "\n",
        "while True:\n",
        "  mn = menu ()\n",
        "  if mn == \"3\":\n",
        "    break\n",
        "  elif mn == \"1\" or mn == \"2\":\n",
        "    pg = pedir_grados (mn)\n",
        "    if mn == \"1\":\n",
        "      faccaf = fahr_a_cels (pg)\n",
        "    if mn == \"2\":\n",
        "      faccaf = cels_a_fahr (pg)\n",
        "    mostrar_resultados (mn, faccaf)\n",
        "    print()\n",
        "  else:\n",
        "    print(\"Introduce una opción correcta\")\n",
        "    print ()"
      ]
    },
    {
      "cell_type": "code",
      "execution_count": null,
      "metadata": {
        "colab": {
          "base_uri": "https://localhost:8080/"
        },
        "id": "fpOUSgaFkHe3",
        "outputId": "cee51856-8976-404b-df22-4ca8d5110b62"
      },
      "outputs": [
        {
          "name": "stdout",
          "output_type": "stream",
          "text": [
            "primera vez\n",
            "b es intermedio\n",
            "\n",
            "Help on function intermedio in module __main__:\n",
            "\n",
            "intermedio(a, b, c)\n",
            "    Funcion que calcula que número es intermedio de tres\n",
            "\n",
            "segunda vez\n",
            "b es intermedio\n"
          ]
        }
      ],
      "source": [
        "#Programa que diga de tres números cual es el del medio, si son iguales que diga que es el numero repetido\n",
        "def intermedio (a,b,c):\n",
        "  \"\"\" Funcion que calcula que número es intermedio de tres\"\"\"\n",
        "\n",
        "  if (b >= a and b <= c) or (b <= a and b >= c):\n",
        "    print (\"b es intermedio\")\n",
        "  elif (c <= a and c >= b) or (c >= a and c <= b):\n",
        "    print (\"c es intermedio\")\n",
        "  else:\n",
        "    print (\"a es intermedio\")\n",
        "a, b, c = 1, 2, 3\n",
        "print(\"primera vez\")\n",
        "intermedio (a, b, c)\n",
        "print(\"\")\n",
        "help (intermedio)\n",
        "print(\"segunda vez\")\n",
        "intermedio (a, b, c)"
      ]
    },
    {
      "cell_type": "code",
      "execution_count": null,
      "metadata": {
        "colab": {
          "base_uri": "https://localhost:8080/"
        },
        "id": "59_0Y_XbiA-X",
        "outputId": "a710c04e-56b7-4070-dd44-11b034851830"
      },
      "outputs": [
        {
          "name": "stdout",
          "output_type": "stream",
          "text": [
            "Cuantos numeros quieres agregar: 3\n",
            "Agrega número: 5\n",
            "Agrega número: 3\n",
            "Agrega número: 1\n",
            "[5, 3, 1]\n"
          ]
        }
      ],
      "source": [
        "def agregar_lista():\n",
        "  lista = []\n",
        "  cant = int (input(\"Cuantos numeros quieres agregar: \"))\n",
        "  \n",
        "  for i in range(cant):\n",
        "    num = int (input(\"Agrega número: \"))\n",
        "    lista.append (num)\n",
        "  print (lista)\n",
        "agregar_lista ()"
      ]
    },
    {
      "cell_type": "code",
      "execution_count": null,
      "metadata": {
        "colab": {
          "base_uri": "https://localhost:8080/"
        },
        "id": "ctxFIcH1kYzm",
        "outputId": "c0a4819c-464d-4428-b07a-659d9b5aaadc"
      },
      "outputs": [
        {
          "name": "stdout",
          "output_type": "stream",
          "text": [
            "Cuantos datos quieres ingresar: 3\n",
            "Agrega un elemnto: Cesar \n",
            "Agrega su descripción: 38\n",
            "Agrega un elemnto: Cata\n",
            "Agrega su descripción: 33\n",
            "Agrega un elemnto: Camila\n",
            "Agrega su descripción: 15\n",
            "{'Cesar ': '38', 'Cata': '33', 'Camila': '15'}\n"
          ]
        }
      ],
      "source": [
        "def agregar_dicc ():\n",
        "\n",
        "  dicc = {}\n",
        "  cant = int (input(\"Cuantos datos quieres ingresar: \"))\n",
        "  for i in range (cant):\n",
        "    clave = (input(\"Agrega un elemnto: \"))\n",
        "    valor = (input (\"Agrega su descripción: \"))\n",
        "    dicc [clave] = valor\n",
        "  print(dicc)\n",
        "agregar_dicc ()"
      ]
    },
    {
      "cell_type": "markdown",
      "metadata": {
        "id": "cBiwo0f6Z2yN"
      },
      "source": [
        "# **AGENDA SIN METODOS** NIVEL 20"
      ]
    },
    {
      "cell_type": "code",
      "execution_count": null,
      "metadata": {
        "colab": {
          "base_uri": "https://localhost:8080/"
        },
        "id": "AiepGqeAOwUu",
        "outputId": "6894bf75-f226-466d-9c23-a05aa7f2aa8d"
      },
      "outputs": [
        {
          "name": "stdout",
          "output_type": "stream",
          "text": [
            "\n",
            "Escoge una opción del menú: \n",
            "-------------------------\n",
            "1.- Consultar\n",
            "2.- Añadir\n",
            "3.- Modificar\n",
            "4.- borrar\n",
            "5.- Salir\n",
            "--------------------------\n",
            "Escoge una opcion válida: 2\n",
            "Dime el nombre: Pedro\n",
            "Ese nombre ya existe en la agenda\n",
            "\n",
            "Escoge una opción del menú: \n",
            "-------------------------\n",
            "1.- Consultar\n",
            "2.- Añadir\n",
            "3.- Modificar\n",
            "4.- borrar\n",
            "5.- Salir\n",
            "--------------------------\n",
            "Escoge una opcion válida: 1\n",
            "Dime el nombre: Pedro\n",
            "Pedro : 123459\n",
            "\n",
            "Escoge una opción del menú: \n",
            "-------------------------\n",
            "1.- Consultar\n",
            "2.- Añadir\n",
            "3.- Modificar\n",
            "4.- borrar\n",
            "5.- Salir\n",
            "--------------------------\n",
            "Escoge una opcion válida: 5\n"
          ]
        }
      ],
      "source": [
        "\n",
        "#Hacer una agenda de teléfono con menú para consultar, añadir, modificar, borrar y salir\n",
        "\n",
        "diccionario = {\"María\": 123456,\n",
        "               \"José\": 456789, \n",
        "               \"Pedro\": 123459\n",
        "               }\n",
        "consultar = True\n",
        "while consultar:\n",
        "  print()\n",
        "  print(\"Escoge una opción del menú: \")\n",
        "  print(\"-------------------------\")\n",
        "  print(\"1.- Consultar\")\n",
        "  print(\"2.- Añadir\")\n",
        "  print(\"3.- Modificar\")\n",
        "  print(\"4.- borrar\")\n",
        "  print(\"5.- Salir\")\n",
        "  print(\"--------------------------\")\n",
        "\n",
        "  opcion = \"\"\n",
        "  while opcion not in (\"1\", \"2\", \"3\", \"4\", \"5\"):\n",
        "    opcion = input(\"Escoge una opcion válida: \")\n",
        "\n",
        "    if opcion == \"1\":\n",
        "      nombre = input (\"Dime el nombre: \")\n",
        "      if nombre in diccionario:\n",
        "        tel = diccionario [nombre]\n",
        "        print (nombre, \":\", tel)\n",
        "      else:\n",
        "        print()\n",
        "        print(\"Ese nombre no existe\")\n",
        "\n",
        "    elif opcion == \"2\":\n",
        "        nombre = input (\"Dime el nombre: \")\n",
        "        if nombre in diccionario:\n",
        "          print(\"Ese nombre ya existe en la agenda\")\n",
        "        else:\n",
        "          num = input (\"Dime el número: \")\n",
        "          diccionario [nombre] = num\n",
        "          print(\"El teléfono se ha añadido\")\n",
        "\n",
        "    elif opcion == \"3\":\n",
        "        nombre = input(\"Dime el nombre a modificar: \")\n",
        "        if nombre not in diccionario:\n",
        "          print(\"Ese nombre no está en la agenda\")\n",
        "        else:\n",
        "          num = input (\"Dime el nuevo número: \")\n",
        "          diccionario [nombre] = num\n",
        "          print(\"El numero ha sido modificao\")\n",
        "      \n",
        "    elif opcion == \"4\":\n",
        "        nombre = input (\"Dime el nombre a borrar: \")\n",
        "        if nombre not in diccionario:\n",
        "          print(\"Este nombre no está en la genda\")\n",
        "        else:\n",
        "          del diccionario [nombre]\n",
        "          print(\"El nombre se ha eliminado\")\n",
        "\n",
        "    elif opcion == \"5\":\n",
        "        consultar = False"
      ]
    },
    {
      "cell_type": "code",
      "execution_count": null,
      "metadata": {
        "id": "_0HS2KYCsr_M"
      },
      "outputs": [],
      "source": [
        "# Métodos de diccionarios\n",
        "dir(dict)"
      ]
    },
    {
      "cell_type": "code",
      "execution_count": null,
      "metadata": {
        "colab": {
          "base_uri": "https://localhost:8080/"
        },
        "id": "YvNI7JYctAmf",
        "outputId": "41878572-aba1-4d96-cf98-b863536d11fe"
      },
      "outputs": [
        {
          "name": "stdout",
          "output_type": "stream",
          "text": [
            "['María', 'José', 'Pedro']\n",
            "María\n",
            "José\n",
            "Pedro\n",
            "dict_values([123456, 456789, 123459])\n",
            "El valor está en el diccionario\n",
            "123456\n",
            "456789\n",
            "123459\n",
            "('María', 123456)\n",
            "('José', 456789)\n",
            "('Pedro', 123459)\n",
            "\n",
            "Forma adecuada de presentar los datos:\n",
            "María : 123456\n",
            "José : 456789\n",
            "Pedro : 123459\n",
            "\n"
          ]
        }
      ],
      "source": [
        "# Consulta de diccionario con metodos\n",
        "diccionario = {\"María\": 123456,\n",
        "               \"José\": 456789, \n",
        "               \"Pedro\": 123459  \n",
        "               }\n",
        "#vista_claves = diccionario.keys()\n",
        "vista_claves = list(diccionario.keys()) #lo covierte en una lista\n",
        "print(vista_claves)\n",
        "\n",
        "for claves in diccionario:\n",
        "  print(claves)\n",
        "\n",
        "print(diccionario.values())\n",
        "\n",
        "if 123459 in diccionario.values(): #buscar un valor \n",
        "  print(\"El valor está en el diccionario\")\n",
        "\n",
        "for valor in diccionario.values():\n",
        "  print(valor)\n",
        "\n",
        "for elemento in diccionario.items(): #imprime Tuplas\n",
        "  print(elemento)\n",
        "print()\n",
        "print(\"Forma adecuada de presentar los datos:\")\n",
        "for clave, valor in diccionario.items(): #Forma adecuada de presentar los datos\n",
        "  print(clave, \":\", valor)\n",
        "print()"
      ]
    },
    {
      "cell_type": "markdown",
      "metadata": {
        "id": "0k6eqFaTZcau"
      },
      "source": [
        "# **EJEMPLO DE AGENDA CON METODO** NIVEL 20"
      ]
    },
    {
      "cell_type": "code",
      "execution_count": null,
      "metadata": {
        "colab": {
          "base_uri": "https://localhost:8080/"
        },
        "id": "8jeIw4LhyFwL",
        "outputId": "025f9cbc-a197-4383-f933-e838a16601e1"
      },
      "outputs": [
        {
          "name": "stdout",
          "output_type": "stream",
          "text": [
            "\n",
            "Escoge una opción del menú: \n",
            "-------------------------\n",
            "1.- Consultar por nombre\n",
            "2.- Consultar por teléfono\n",
            "3.- Listar toda la agenda\n",
            "4.- Salir\n",
            "--------------------------\n",
            "Escoge una opcion válida: 1\n",
            "Dime el nombre: María\n",
            "123456 :María\n",
            "\n",
            "Escoge una opción del menú: \n",
            "-------------------------\n",
            "1.- Consultar por nombre\n",
            "2.- Consultar por teléfono\n",
            "3.- Listar toda la agenda\n",
            "4.- Salir\n",
            "--------------------------\n",
            "Escoge una opcion válida: 2\n",
            "Dime teléfono: 123459\n",
            "Pedro : 123459\n",
            "\n",
            "Escoge una opción del menú: \n",
            "-------------------------\n",
            "1.- Consultar por nombre\n",
            "2.- Consultar por teléfono\n",
            "3.- Listar toda la agenda\n",
            "4.- Salir\n",
            "--------------------------\n",
            "Escoge una opcion válida: 3\n",
            "María : 123456\n",
            "José : 456789\n",
            "Pedro : 123459\n",
            "\n",
            "Escoge una opción del menú: \n",
            "-------------------------\n",
            "1.- Consultar por nombre\n",
            "2.- Consultar por teléfono\n",
            "3.- Listar toda la agenda\n",
            "4.- Salir\n",
            "--------------------------\n",
            "Escoge una opcion válida: 4\n"
          ]
        }
      ],
      "source": [
        "#Hacer una agenda de teléfono con menú para consultar, añadir, modificar, borrar y salir\n",
        "# CON METODOS\n",
        "\n",
        "diccionario = {\"María\": 123456,\n",
        "               \"José\": 456789, \n",
        "               \"Pedro\": 123459\n",
        "               }\n",
        "consultar = True\n",
        "while consultar:\n",
        "  print()\n",
        "  print(\"Escoge una opción del menú: \")\n",
        "  print(\"-------------------------\")\n",
        "  print(\"1.- Consultar por nombre\")\n",
        "  print(\"2.- Consultar por teléfono\")\n",
        "  print(\"3.- Listar toda la agenda\")\n",
        "  print(\"4.- Salir\")\n",
        "  print(\"--------------------------\")\n",
        "\n",
        "  opcion = \"\"\n",
        "  while opcion not in (\"1\", \"2\", \"3\", \"4\"):\n",
        "    opcion = input(\"Escoge una opcion válida: \")\n",
        "\n",
        "    if opcion == \"1\":\n",
        "      nombre = input (\"Dime el nombre: \")\n",
        "      num = diccionario.get (nombre, \"Ese nombre no existe.\")\n",
        "      print(\"{} :{}\".format (num, nombre))\n",
        "\n",
        "    elif opcion == \"2\":\n",
        "        num = int (input (\"Dime teléfono: \"))\n",
        "        if num in diccionario.values():\n",
        "          for nombre in diccionario:\n",
        "            if diccionario[nombre] == num:\n",
        "              print(\"{} : {}\".format(nombre, num))\n",
        "        else:\n",
        "          print(\"El teléfono no está en la agenda\")\n",
        "\n",
        "    elif opcion == \"3\":\n",
        "        for nombre, num in diccionario.items(): \n",
        "          print(\"{} : {}\" .format(nombre, num))\n",
        "      \n",
        "    elif opcion == \"4\":\n",
        "        consultar = False"
      ]
    },
    {
      "cell_type": "code",
      "execution_count": null,
      "metadata": {
        "colab": {
          "base_uri": "https://localhost:8080/"
        },
        "id": "0JH4irw4rPBk",
        "outputId": "69b02779-0142-433f-f5c2-729123ce6cc0"
      },
      "outputs": [
        {
          "name": "stdout",
          "output_type": "stream",
          "text": [
            "['A', 'B', 'C', 'D', 'E:']\n",
            "[1, 2, 3, 4, 5]\n"
          ]
        }
      ],
      "source": [
        "#Convertir un diccionario en dos listas \n",
        "pares = {\"A\":1, \"B\": 2, \"C\":3, \"D\":4, \"E\":5}\n",
        "# letras =[]\n",
        "# numeros = []\n",
        "# for clave, valor in pares.items():\n",
        "#   letras.append(clave)\n",
        "#   numeros.append(valor)\n",
        "# print(letras)\n",
        "# print(numeros)\n",
        "\n",
        "\n",
        "letras = list(pares.keys())\n",
        "numeros = list(pares.values())\n",
        "print(letras)\n",
        "print(numeros)\n"
      ]
    },
    {
      "cell_type": "code",
      "execution_count": null,
      "metadata": {
        "colab": {
          "base_uri": "https://localhost:8080/"
        },
        "id": "ukwQS6K_tn-s",
        "outputId": "df5094d1-5d92-4fe9-c2c2-94b6bbf969ee"
      },
      "outputs": [
        {
          "name": "stdout",
          "output_type": "stream",
          "text": [
            "{'A': 1, 'B': 2, 'C': 3, 'D': 4, 'E': 5}\n"
          ]
        }
      ],
      "source": [
        "#Agregar dos listas en un diccionarios\n",
        "letras = ['A', 'B', 'C', 'D', 'E']\n",
        "numeros = [1, 2, 3, 4, 5]\n",
        "# pares = dict()\n",
        "# for i in range (len(letras)):\n",
        "#   pares[letras[i]] = numeros[i]\n",
        "# print(pares)\n",
        "\n",
        "pares = dict(zip(letras,numeros)) #zip crea un objeto iterable formado por tuplas con los elementos de las dos listas\n",
        "print(pares)"
      ]
    },
    {
      "cell_type": "code",
      "execution_count": null,
      "metadata": {
        "colab": {
          "base_uri": "https://localhost:8080/"
        },
        "id": "pOtNUbNqvmsl",
        "outputId": "4c551cc8-3bde-4742-97de-570bc238fc5b"
      },
      "outputs": [
        {
          "name": "stdout",
          "output_type": "stream",
          "text": [
            "h:3\n",
            "o:3\n",
            "y:2\n",
            " :9\n",
            "a:8\n",
            "s:3\n",
            "l:3\n",
            "i:1\n",
            "d:2\n",
            "e:4\n",
            "c:1\n",
            "u:2\n",
            "n:3\n",
            "m:1\n",
            "ñ:1\n",
            "t:1\n",
            "p:1\n"
          ]
        }
      ],
      "source": [
        "#Contar elementos de una cadena de caracteres con un diccionario\n",
        "frase = \"Hoy ha salido el sol y hace una mañana estupenda\"\n",
        "conteo = {}\n",
        "for letra in frase.lower(): #.lower formatea todas las letras en minusculas \n",
        "  if letra not in conteo:\n",
        "    conteo[letra] = 1\n",
        "  else:\n",
        "    conteo [letra] += 1\n",
        "\n",
        "for k, v in conteo.items():\n",
        "  print(\"{}:{}\".format(k,v))\n"
      ]
    },
    {
      "cell_type": "code",
      "execution_count": null,
      "metadata": {
        "colab": {
          "base_uri": "https://localhost:8080/"
        },
        "id": "1ibmImwnxX8c",
        "outputId": "a93a01bc-0b7c-4fb2-aad9-a2bb0076deb0"
      },
      "outputs": [
        {
          "name": "stdout",
          "output_type": "stream",
          "text": [
            "Articulo: borrador\n",
            "Hay 0 unidades de borrador\n",
            "{'cuadernos': 5, 'bolígrafos': 7, 'reglas': 3, 'gomas': 4, 'borrador': 0}\n"
          ]
        }
      ],
      "source": [
        "#Metodo setdefault: Agrega el material que no exista con el valor que definamos en el segundo paremetro\n",
        "materiales = {\n",
        "    \"cuadernos\" : 5,\n",
        "    \"bolígrafos\" : 7,\n",
        "    \"reglas\" : 3,\n",
        "    \"gomas\" : 4\n",
        "    }\n",
        "articulo = input(\"Articulo: \")\n",
        "#unidades = materiales.get(articulo, 0) #metodo get solo consulta o responde con el valor del segundo parametro\n",
        "unidades = materiales.setdefault(articulo, 0)\n",
        "print(\"Hay {} unidades de {}\".format(unidades, articulo))\n",
        "print(materiales)"
      ]
    },
    {
      "cell_type": "code",
      "execution_count": null,
      "metadata": {
        "colab": {
          "base_uri": "https://localhost:8080/"
        },
        "id": "4rIjRQsNz1K5",
        "outputId": "198a1aa2-217a-4a1a-c362-455b632e139b"
      },
      "outputs": [
        {
          "name": "stdout",
          "output_type": "stream",
          "text": [
            "h:1\n",
            "o:1\n",
            "y:1\n",
            " :1\n",
            "a:1\n",
            "s:1\n",
            "l:1\n",
            "i:1\n",
            "d:1\n",
            "e:1\n",
            "c:1\n",
            "u:1\n",
            "n:1\n",
            "m:1\n",
            "ñ:1\n",
            "t:1\n",
            "p:1\n"
          ]
        }
      ],
      "source": [
        "#Con setdefault Contar elementos de una cadena de caracteres con un diccionario\n",
        "frase = \"Hoy ha salido el sol y hace una mañana estupenda\"\n",
        "conteo = {}\n",
        "for letra in frase.lower(): #.lower formatea todas las letras en minusculas\n",
        "  conteo.setdefault(letra, 0) #Si está la letra no realiza ninguna accion y sino está la agrega en cero\n",
        "  conteo[letra] = 1\n",
        "\n",
        "  # if letra not in conteo:\n",
        "  #   conteo[letra] = 1\n",
        "  # else:\n",
        "  #   conteo [letra] += 1\n",
        "\n",
        "for k, v in conteo.items():\n",
        "  print(\"{}:{}\".format(k,v))"
      ]
    },
    {
      "cell_type": "code",
      "execution_count": null,
      "metadata": {
        "id": "5Vsh5jgZ0eV1"
      },
      "outputs": [],
      "source": [
        "#Un registro de las busquedas que se hacen en un diccionario, DE TODAS LAS BUSQUEDAS AUNQUE NO APAREZCAN\n",
        "prefijos = {\n",
        "    \"COLOMBIA\": 57,\n",
        "    \"ARGENTINA\": 54,\n",
        "    \"PERÚ\": 51,\n",
        "    \"MÉXICO\": 52,\n",
        "    \"BOLIVIA\": 591,\n",
        "    \"CHILE\": 56,\n",
        "    \"ESPAÑA\": 34,\n",
        "    \"ECUADOR\": 59\n",
        "    }\n",
        "\n",
        "busquedas ={}\n",
        "\n",
        "print(\"PREFIJOS INTERNACIONALES\")\n",
        "print(\"-------------------------\")\n",
        "while True:\n",
        "  pais = input(\"País ('q' salir): \").upper() #métdod upper convierte en mayúsculas\n",
        "  if pais ==\"Q\":\n",
        "    break\n",
        "  prefijo = prefijos.get(pais, \"No disponible\")\n",
        "\n",
        "  print()\n",
        "  print(\"{} : {}\".format (pais, prefijo))\n",
        "  print()\n",
        "  busquedas.setdefault(pais, 0)\n",
        "  busquedas [pais] += 1\n",
        "\n",
        "  print(\"----------------\")\n",
        "  print(\"Registro de busquedas: \")\n",
        "  for k, v in busquedas.items():\n",
        "    print(\"{} : {}\".format(k, v))\n",
        "  print(\"-----------------\")\n"
      ]
    },
    {
      "cell_type": "code",
      "execution_count": null,
      "metadata": {
        "id": "tDR9IB82_Qr1"
      },
      "outputs": [],
      "source": [
        "#método fromkeys: nos permite crear o inicializar un diccionario a partir de un iterable, segundo argumento lo asigna automaticamente sino agrega none\n",
        "minerales =[\"Pirita\", \"Topacio\", \"Cinabrio\", \"Obsidiana\", \"Manganita\", \"Albastro\", \"Turquesa\", \"Gelenna\"]\n",
        "coleccion = dict.fromkeys(minerales, 0)\n",
        "print(coleccion)\n",
        "\n"
      ]
    },
    {
      "cell_type": "code",
      "execution_count": null,
      "metadata": {
        "colab": {
          "base_uri": "https://localhost:8080/"
        },
        "id": "7og5ev3NAlJe",
        "outputId": "0aa4d6ea-0963-4713-c8b7-e383e524b725"
      },
      "outputs": [
        {
          "name": "stdout",
          "output_type": "stream",
          "text": [
            "{100: 50, 101: 50, 102: 50, 103: 50, 104: 50, 105: 50, 106: 50, 107: 50, 108: 50, 109: 50, 110: 50}\n"
          ]
        }
      ],
      "source": [
        "numeros = dict.fromkeys(range(100,111),50)\n",
        "print(numeros)"
      ]
    },
    {
      "cell_type": "code",
      "execution_count": null,
      "metadata": {
        "colab": {
          "base_uri": "https://localhost:8080/"
        },
        "id": "fLkE3fuYBFrK",
        "outputId": "49666989-8689-48fb-cd72-0fa0c09d7895"
      },
      "outputs": [
        {
          "name": "stdout",
          "output_type": "stream",
          "text": [
            "a:8\n",
            "b:0\n",
            "c:1\n",
            "d:2\n",
            "e:4\n",
            "f:0\n",
            "g:0\n",
            "h:3\n",
            "i:1\n",
            "j:0\n",
            "k:0\n",
            "l:3\n",
            "m:1\n",
            "n:3\n",
            "o:3\n",
            "p:1\n",
            "q:0\n",
            "r:0\n",
            "s:3\n",
            "t:1\n",
            "v:0\n",
            "w:0\n",
            "x:0\n",
            "y:2\n",
            "z:0\n",
            "á:0\n",
            "é:0\n",
            "í:0\n",
            "ó:0\n",
            "ú:0\n",
            ".:1\n",
            ",:0\n",
            " :9\n"
          ]
        }
      ],
      "source": [
        "#Contar elementos de una cadena de caracteres con un diccionario más todas las del alfabeto\n",
        "frase = \"Hoy ha salido el sol y hace una mañana estupenda.\"\n",
        "letras = \"abcdefghijklmnopqrstvwxyzáéíóú., \"\n",
        "conteo = dict.fromkeys (letras, 0)\n",
        "for letra in frase.lower():\n",
        "  #conteo.setdefault(letra, 0)\n",
        "  if letra in conteo:\n",
        "    conteo [letra] +=1\n",
        "\n",
        "for le, nu in conteo.items():\n",
        "   print(\"{}:{}\".format (le, nu))\n",
        " "
      ]
    },
    {
      "cell_type": "code",
      "execution_count": null,
      "metadata": {
        "colab": {
          "base_uri": "https://localhost:8080/"
        },
        "id": "TpeWJEDZUGyw",
        "outputId": "d41db3e7-0c69-4376-cba6-e3546159adba"
      },
      "outputs": [
        {
          "name": "stdout",
          "output_type": "stream",
          "text": [
            "Dime un nombre: Carlos\n",
            "{'Jorge': '4C', 'Isabel': 'B', 'Ana': '1D', 'Miguel': '5E', 'Sara': '2A'}\n",
            "no existe\n"
          ]
        }
      ],
      "source": [
        "#Eliminar elemntos en un diccionario\n",
        "alumnos = {\n",
        "    \"Jorge\": \"4C\",\n",
        "    \"Isabel\": \"B\",\n",
        "    \"Ana\":  \"1D\",\n",
        "    \"Miguel\": \"5E\",\n",
        "    \"Sara\":\"2A\"\n",
        "    }\n",
        "\n",
        "nom = input(\"Dime un nombre: \")\n",
        "nombre = alumnos.pop(nom, \"no existe\")\n",
        "print(alumnos)\n",
        "print(nombre)"
      ]
    },
    {
      "cell_type": "code",
      "execution_count": null,
      "metadata": {
        "colab": {
          "base_uri": "https://localhost:8080/"
        },
        "id": "WDkKicYgaRUF",
        "outputId": "380d8d93-5aea-4f64-ba38-c6eb6694e99b"
      },
      "outputs": [
        {
          "name": "stdout",
          "output_type": "stream",
          "text": [
            "Jorge:Ecuador\n",
            "Jorge:{'Telefono': 1111111, 'País': 'Ecuador', 'Aficiones': ['Futbol', 'Leer']}\n",
            "María:Colombia\n",
            "María:{'Teléfono': 2222222, 'País': 'Colombia', 'Aficiones': ['Gastronomía', 'Natación']}\n",
            "Tomás:España\n",
            "Tomás:{'Teléfono': 3333333, 'País': 'España', 'Aficiones': ['Cine', 'Pasear']}\n",
            "Carla:México\n",
            "Carla:{'Teléfono': 4444444, 'País': 'México', 'Aficiones': ['Ajedrez', 'Karate']}\n"
          ]
        }
      ],
      "source": [
        "# DICCIONARIOS ANIDADOS \n",
        "# agenda = {\"jorge\": 1111111,\n",
        "#           \"María\": 2222222,\n",
        "#           \"Tomás\": 3333333,\n",
        "#           \"Carla\": 4444444\n",
        "#           }\n",
        "\n",
        "agenda  = {\n",
        "    \"Jorge\": {\n",
        "        \"Telefono\": 1111111,\n",
        "        \"País\": \"Ecuador\",\n",
        "        \"Aficiones\": [\"Futbol\", \"Leer\"]\n",
        "    },\n",
        "    \"María\": {\n",
        "        \"Teléfono\": 2222222,\n",
        "        \"País\": \"Colombia\",\n",
        "        \"Aficiones\": [\"Gastronomía\", \"Natación\"]\n",
        "    },\n",
        "    \"Tomás\": {\n",
        "        \"Teléfono\": 3333333,\n",
        "        \"País\": \"España\",\n",
        "        \"Aficiones\": [\"Cine\", \"Pasear\"]\n",
        "    },\n",
        "    \"Carla\": {\n",
        "        \"Teléfono\": 4444444,\n",
        "        \"País\": \"México\",\n",
        "        \"Aficiones\": [\"Ajedrez\", \"Karate\"]\n",
        "    }\n",
        "  }\n",
        "\n",
        "# pais_maria= agenda[\"María\"] [\"País\"]\n",
        "# print(pais_maria)\n",
        "\n",
        "# aficiones_carla = agenda [\"Carla\"][\"Aficiones\"]\n",
        "# print(aficiones_carla)\n",
        "\n",
        "# for aficiones in aficiones_carla:\n",
        "#   print(aficiones)\n",
        "\n",
        "#Todos los miembros de la agenda con su país\n",
        "\n",
        "for nombre, datos in agenda.items():\n",
        "  print(\"{}:{}\".format(nombre,datos[\"País\"]))\n",
        "  print(\"{}:{}\".format(nombre,datos)) #Todo el diccionario"
      ]
    },
    {
      "cell_type": "code",
      "execution_count": null,
      "metadata": {
        "colab": {
          "base_uri": "https://localhost:8080/"
        },
        "id": "aMxPMhjKf5ql",
        "outputId": "e908dc53-ce25-4515-8563-17122d64c492"
      },
      "outputs": [
        {
          "name": "stdout",
          "output_type": "stream",
          "text": [
            "María\n",
            "----------------------------\n",
            "Jorge:Futbol\n",
            "María:Astronomía\n",
            "Tomás:Cine\n",
            "Carla:Ajedrez\n",
            "----------------------------\n",
            "Datos personales de Jorge\n",
            " - Aficiones:Futbol\n",
            " - Estudios:Agronomía\n",
            " - Música:Clásica\n",
            "Datos personales de María\n",
            " - Aficiones:Astronomía\n",
            " - Estudios:Informática\n",
            " - Música:Rock\n",
            "Datos personales de Tomás\n",
            " - Aficiones:Cine\n",
            " - Estudios:Informática\n",
            " - Música:Pop\n",
            "Datos personales de Carla\n",
            " - Aficiones:Ajedrez\n",
            " - Estudios:Agronomía\n",
            " - Música:Clásica\n",
            "----------------------------\n",
            "Datos personales de Jorge\n",
            " - Telefono:1111111\n",
            " - País:Ecuador\n",
            " - Personal:{'Aficiones': 'Futbol', 'Estudios': 'Agronomía', 'Música': 'Clásica'}\n",
            "Datos personales de María\n",
            " - Teléfono:2222222\n",
            " - País:Colombia\n",
            " - Personal:{'Aficiones': 'Astronomía', 'Estudios': 'Informática', 'Música': 'Rock'}\n",
            "Datos personales de Tomás\n",
            " - Teléfono:3333333\n",
            " - País:España\n",
            " - Personal:{'Aficiones': 'Cine', 'Estudios': 'Informática', 'Música': 'Pop'}\n",
            "Datos personales de Carla\n",
            " - Teléfono:4444444\n",
            " - País:México\n",
            " - Personal:{'Aficiones': 'Ajedrez', 'Estudios': 'Agronomía', 'Música': 'Clásica'}\n"
          ]
        }
      ],
      "source": [
        "# DICCIONARIOS ANIDADOS dentro de diccionarios anidados\n",
        "agenda  = {\n",
        "    \"Jorge\": {\n",
        "        \"Telefono\": 1111111,\n",
        "        \"País\": \"Ecuador\",\n",
        "        \"Personal\": {\n",
        "            \"Aficiones\": \"Futbol\",\n",
        "            \"Estudios\": \"Agronomía\",\n",
        "            \"Música\": \"Clásica\"\n",
        "        },\n",
        "    },\n",
        "    \"María\": {\n",
        "        \"Teléfono\": 2222222,\n",
        "        \"País\": \"Colombia\",\n",
        "        \"Personal\":{\n",
        "            \"Aficiones\": \"Astronomía\",\n",
        "            \"Estudios\": \"Informática\",\n",
        "            \"Música\": \"Rock\"\n",
        "        },\n",
        "    },\n",
        "    \"Tomás\": {\n",
        "        \"Teléfono\": 3333333,\n",
        "        \"País\": \"España\",\n",
        "        \"Personal\": {\n",
        "            \"Aficiones\": \"Cine\",\n",
        "            \"Estudios\": \"Informática\",\n",
        "            \"Música\": \"Pop\"\n",
        "        },\n",
        "    },\n",
        "    \"Carla\": {\n",
        "        \"Teléfono\": 4444444,\n",
        "        \"País\": \"México\",\n",
        "        \"Personal\":{\n",
        "            \"Aficiones\": \"Ajedrez\",\n",
        "            \"Estudios\": \"Agronomía\",\n",
        "            \"Música\": \"Clásica\"\n",
        "        },\n",
        "    }\n",
        "  }\n",
        "\n",
        "# Comprobar si hau algún miembro de la agenda que sea de Colombia y le guste la música Rock\n",
        "# Mostrar todos los miembros de la agenda con su afición\n",
        "# Mostrar todos los datos personales de cada miembro\n",
        "\n",
        "for nombre, datos in agenda.items():\n",
        "  if datos[\"País\"] == \"Colombia\" and \\\n",
        "  datos [\"Personal\"] [\"Música\"] == \"Rock\":\n",
        "    print(nombre)\n",
        "\n",
        "print(\"----------------------------\")\n",
        "\n",
        "for nombre, datos in agenda.items():\n",
        "  print(\"{}:{}\".format(nombre,datos[\"Personal\"][\"Aficiones\"]))\n",
        "\n",
        "print(\"----------------------------\")\n",
        "\n",
        "for nombre, datos in agenda.items():\n",
        "  print(\"Datos personales de {}\".format(nombre))\n",
        "  for categoria, informacion in datos[\"Personal\"].items():\n",
        "    print(\" - {}:{}\".format(categoria, informacion))\n",
        "\n",
        "print(\"----------------------------\")\n",
        "\n",
        "for nombre, datos in agenda.items():\n",
        "  print(\"Datos personales de {}\".format(nombre))\n",
        "  for categoria, informacion in datos.items():\n",
        "      print(\" - {}:{}\".format(categoria, informacion))"
      ]
    },
    {
      "cell_type": "code",
      "execution_count": null,
      "metadata": {
        "colab": {
          "base_uri": "https://localhost:8080/"
        },
        "id": "3dbUyr0ZjOXu",
        "outputId": "ae1a0f13-f212-4a71-ebe3-f51b00a7ca50"
      },
      "outputs": [
        {
          "name": "stdout",
          "output_type": "stream",
          "text": [
            "Datos personales de Tomás\n",
            " - Teléfono:3333333\n",
            " - País:España\n",
            " - Habitual:Si\n",
            "Datos personales de Carla\n",
            " - Teléfono:4444444\n",
            " - País:México\n",
            " - Habitual:Si\n"
          ]
        }
      ],
      "source": [
        "# Habitual dentro de diccionarios anidados\n",
        "datos_titulo = True\n",
        "agenda  = {\n",
        "    \"Jorge\": {\n",
        "        \"Telefono\": 1111111,\n",
        "        \"País\": \"Ecuador\",\n",
        "        \"Habitual\": \"No\",\n",
        "    },\n",
        "    \"María\": {\n",
        "        \"Teléfono\": 2222222,\n",
        "        \"País\": \"Colombia\",\n",
        "        \"Habitual\": \"No\",\n",
        "    },\n",
        "    \"Tomás\": {\n",
        "        \"Teléfono\": 3333333,\n",
        "        \"País\": \"España\",\n",
        "        \"Habitual\": \"Si\",\n",
        "    },\n",
        "    \"Carla\": {\n",
        "        \"Teléfono\": 4444444,\n",
        "        \"País\": \"México\",\n",
        "        \"Habitual\":\"Si\",\n",
        "    }\n",
        "  }\n",
        "\n",
        "for nombre, datos in agenda.items():\n",
        "  \n",
        "  for categoria, informacion in datos.items():\n",
        "    \n",
        "    if datos[\"Habitual\"] == \"Si\":\n",
        "      if datos_titulo== True:\n",
        "        print(\"Datos personales de {}\".format(nombre))\n",
        "        datos_titulo = False\n",
        "      print(\" - {}:{}\".format(categoria, informacion))\n",
        "  datos_titulo = True"
      ]
    },
    {
      "cell_type": "code",
      "execution_count": null,
      "metadata": {
        "colab": {
          "base_uri": "https://localhost:8080/",
          "height": 130
        },
        "id": "FRxBAYZwmvZp",
        "outputId": "4b94f2bd-124f-448a-bad6-896cd23d6214"
      },
      "outputs": [
        {
          "ename": "SyntaxError",
          "evalue": "ignored",
          "output_type": "error",
          "traceback": [
            "\u001b[0;36m  File \u001b[0;32m\"<ipython-input-76-1fd4a565adb7>\"\u001b[0;36m, line \u001b[0;32m10\u001b[0m\n\u001b[0;31m    print(list.\"{}:{}\".format(nombre,datos))\u001b[0m\n\u001b[0m               ^\u001b[0m\n\u001b[0;31mSyntaxError\u001b[0m\u001b[0;31m:\u001b[0m invalid syntax\n"
          ]
        }
      ],
      "source": [
        "# Lista dentro de diccionarios anidados\n",
        "agenda  = {\n",
        "    \"Jorge\": [\"Teléfono\", [1111111], \"País\",[\"Ecuador\"], \"Habitual\", [\"No\"]],\n",
        "    \"María\": [\"Teléfono\", [2222222], \"País\",[\"Colombia\"], \"Habitual\", [\"No\"]],\n",
        "    \"Tomás\": [\"Teléfono\", [3333333], \"País\",[\"España\"], \"Habitual\", [\"Si\"]],\n",
        "    \"Carla\": [\"Teléfono\", [4444444], \"País\",[\"México\"], \"Habitual\", [\"Si\"]]\n",
        "\n",
        "  }\n",
        "for nombre, datos in agenda.items():\n",
        "  print(\"{}:{}\".format(nombre,datos))"
      ]
    },
    {
      "cell_type": "markdown",
      "metadata": {
        "id": "E9CRHOIwf4nN"
      },
      "source": [
        "# Funciones Utilitarias"
      ]
    },
    {
      "cell_type": "code",
      "execution_count": null,
      "metadata": {
        "colab": {
          "base_uri": "https://localhost:8080/"
        },
        "id": "K6giPuBpiU0f",
        "outputId": "3cdcaf89-041e-4f3c-ed3a-59d33feb57d6"
      },
      "outputs": [
        {
          "name": "stdout",
          "output_type": "stream",
          "text": [
            "True\n"
          ]
        }
      ],
      "source": [
        "def is_only_digits (num):\n",
        "  for i in num:\n",
        "    aux = ord(i)\n",
        "    if aux not in range(48,58):\n",
        "      return False\n",
        "  return True\n",
        "\n",
        "num = \"123456789\"\n",
        "print(is_only_digits (num))\n"
      ]
    },
    {
      "cell_type": "code",
      "execution_count": null,
      "metadata": {
        "colab": {
          "base_uri": "https://localhost:8080/"
        },
        "id": "aA0u4f-kqcB6",
        "outputId": "2afbd449-9c17-4c7e-a647-b929b13b2726"
      },
      "outputs": [
        {
          "name": "stdout",
          "output_type": "stream",
          "text": [
            "False\n"
          ]
        }
      ],
      "source": [
        "def is_valid_date(date):\n",
        "\n",
        "  if len(date) !=10:\n",
        "    return False\n",
        "\n",
        "  if date[2] != \"/\" or date[5] != \"/\":\n",
        "    return False\n",
        "\n",
        "  dia = int(date[:2])\n",
        "  mes = int(date[3:5])\n",
        "  ano = int(date[6:])\n",
        "\n",
        "  if ano < 1900:\n",
        "    return False\n",
        "\n",
        "  if mes >=1 and mes <=12:\n",
        "    \n",
        "    if mes == 2:\n",
        "      \n",
        "      if not ano % 4 and (ano % 100 or not ano % 400):\n",
        "        \n",
        "        if dia >=1 and dia <= 29:\n",
        "          \n",
        "          return True\n",
        "        else:\n",
        "          \n",
        "          return False\n",
        "      elif dia >= 1 and dia <=28:\n",
        "        \n",
        "        return True\n",
        "      else:\n",
        "        \n",
        "        return False\n",
        "    elif mes == 4 or mes == 6 or mes == 9 or mes == 11:\n",
        "      \n",
        "      if dia >= 1 and dia <= 30:\n",
        "        \n",
        "        return True\n",
        "      else:\n",
        "        return False\n",
        "    elif dia >= 1 and dia <= 31:\n",
        "      \n",
        "      return True\n",
        "    else:\n",
        "      \n",
        "      return False\n",
        "  else:\n",
        "    return False\n",
        "    \n",
        "date = \"02/13/1988\"\n",
        "print(is_valid_date(date))"
      ]
    },
    {
      "cell_type": "code",
      "execution_count": null,
      "metadata": {
        "colab": {
          "base_uri": "https://localhost:8080/"
        },
        "id": "Sf7zDTRniGUB",
        "outputId": "6aedae05-75be-4890-a663-894582a7a366"
      },
      "outputs": [
        {
          "name": "stdout",
          "output_type": "stream",
          "text": [
            "True\n"
          ]
        }
      ],
      "source": [
        "def is_valid_name(name):\n",
        "\n",
        "  if len(name) < 2:\n",
        "    print(\"El nombre debe tener almenos dos letras\")\n",
        "    return False\n",
        "  for i in name:\n",
        "    aux = ord(i.lower())\n",
        "    if (aux < 97 or aux > 122) and aux != 241 :\n",
        "      return False\n",
        "  return True\n",
        "\n",
        "#97 hasta 122\n",
        "#164 ñ\n",
        "nombre = \"Begoña\"\n",
        "print(is_valid_name(nombre)) "
      ]
    },
    {
      "cell_type": "code",
      "execution_count": null,
      "metadata": {
        "colab": {
          "base_uri": "https://localhost:8080/"
        },
        "id": "MV7xRB7N4Wl2",
        "outputId": "6ac80a03-dc01-4f1e-96b8-fb238bb61fde"
      },
      "outputs": [
        {
          "name": "stdout",
          "output_type": "stream",
          "text": [
            "Dime el nombre: cesar luis\n",
            "dime el apellido: longart torres\n",
            "cesar luis longart torres\n"
          ]
        }
      ],
      "source": [
        "def is_valid_name(name):\n",
        "  \"\"\"Función utilitaria que valida cadena de caracteres para nombre y apellido\"\"\"\n",
        "  while True:\n",
        "    if len(name) > 1:\n",
        "      cont = 0\n",
        "      for i in name:\n",
        "        aux = ord(i.lower())\n",
        "        if (aux > 96 and aux < 123) or aux == 241 or aux == 32:\n",
        "          cont = cont + 1\n",
        "          if cont == len(name): \n",
        "            return name\n",
        "        else:\n",
        "          name = input(\"Intentalo nuevamente: \").strip()\n",
        "    else:\n",
        "      print(\"Al menos debe contener dos caracteres\")\n",
        "      name = input(\"Intentalo otra vez: \")\n",
        "    \n",
        "\n",
        "nombre = input(\"Dime el nombre: \").strip()\n",
        "nombre = is_valid_name(nombre)\n",
        "\n",
        "apellido = input(\"dime el apellido: \").strip()\n",
        "apellido = is_valid_name(apellido)\n",
        "\n",
        "print(nombre , apellido)"
      ]
    },
    {
      "cell_type": "code",
      "execution_count": null,
      "metadata": {
        "colab": {
          "base_uri": "https://localhost:8080/"
        },
        "id": "pFh35rT8BM9L",
        "outputId": "b254cb75-f214-4c7b-a83b-a8782e207950"
      },
      "outputs": [
        {
          "name": "stdout",
          "output_type": "stream",
          "text": [
            "Dime el nombre: c\n",
            "Al menos debe contener dos caracteres\n",
            "Intentalo otra vez: cesar\n",
            "cesar\n"
          ]
        }
      ],
      "source": [
        "\n",
        "def comprobar_name (nom):\n",
        "  while True:\n",
        "    if len(nom) > 1:\n",
        "      return nom\n",
        "    \n",
        "    else:\n",
        "      print(\"Al menos debe contener dos caracteres\")\n",
        "      nom = input(\"Intentalo otra vez: \")\n",
        "    \n",
        "\n",
        "nombre = input(\"Dime el nombre: \")\n",
        "nombre = comprobar_name(nombre)\n",
        "print(nombre)"
      ]
    },
    {
      "cell_type": "code",
      "execution_count": null,
      "metadata": {
        "colab": {
          "base_uri": "https://localhost:8080/"
        },
        "id": "KCRiU2-9thJ1",
        "outputId": "c81f3cdd-6e2e-4d3e-e1e3-a96860cbcc9a"
      },
      "outputs": [
        {
          "name": "stdout",
          "output_type": "stream",
          "text": [
            "Introduce Nif del nuevo cliente: 123456789\n",
            "-------------------------\n",
            "El último caracter debe ser una letra.\n",
            "-------------------------\n",
            "Introduce Nif del nuevo cliente: 123\n",
            "-------------------------\n",
            "Introduce un NIF valido, debe tener nueve caracteres.\n",
            "-------------------------\n",
            "Introduce Nif del nuevo cliente: 123456op9\n",
            "-------------------------\n",
            "Introduce un NIF valido, debe tener ocho digitos y una letra.\n",
            "-------------------------\n",
            "Introduce Nif del nuevo cliente: 12345678o\n"
          ]
        },
        {
          "data": {
            "text/plain": [
              "True"
            ]
          },
          "execution_count": 3,
          "metadata": {},
          "output_type": "execute_result"
        }
      ],
      "source": [
        "def is_only_digits (num):\n",
        "  for i in num:\n",
        "    aux = ord(i)\n",
        "    if aux not in range(48,58):\n",
        "      return False\n",
        "  return True\n",
        "\n",
        "\n",
        "def is_valid_nif (nif):\n",
        "  while True:\n",
        "    \n",
        "    valido = len(nif) == 9\n",
        "    if valido:\n",
        "      nif_aux = nif[:8]\n",
        "      letra = ord(nif[8:].upper())\n",
        "      \n",
        "      if is_only_digits (nif_aux):\n",
        "        \n",
        "        if letra >= 65 and letra <= 90:\n",
        "          return True\n",
        "        else:\n",
        "          print(\"-------------------------\")\n",
        "          print(\"El último caracter debe ser una letra.\")\n",
        "          print(\"-------------------------\")\n",
        "          nif = input(\"Introduce Nif del nuevo cliente: \")\n",
        "      else:\n",
        "        print(\"-------------------------\")\n",
        "        print(\"Introduce un NIF valido, debe tener ocho digitos y una letra.\")\n",
        "        print(\"-------------------------\")\n",
        "        nif = input(\"Introduce Nif del nuevo cliente: \")\n",
        "    else:\n",
        "      print(\"-------------------------\")\n",
        "      print(\"Introduce un NIF valido, debe tener nueve caracteres.\")\n",
        "      print(\"-------------------------\")\n",
        "      nif = input(\"Introduce Nif del nuevo cliente: \")\n",
        "\n",
        "nif = input(\"Introduce Nif del nuevo cliente: \")\n",
        "is_valid_nif (nif)\n"
      ]
    },
    {
      "cell_type": "code",
      "execution_count": null,
      "metadata": {
        "colab": {
          "base_uri": "https://localhost:8080/"
        },
        "id": "czYVNKE5kpUR",
        "outputId": "d3bbad6e-ec44-4e77-bb24-9045c12b402d"
      },
      "outputs": [
        {
          "data": {
            "text/plain": [
              "True"
            ]
          },
          "execution_count": 10,
          "metadata": {},
          "output_type": "execute_result"
        }
      ],
      "source": [
        "\n",
        "def is_valid_phone (phone):\n",
        "  if len(phone) == 9:\n",
        "    if phone[0] == \"9\" or phone[0] == \"6\":\n",
        "      return is_only_digits (phone)\n",
        "\n",
        "    else:\n",
        "      return False\n",
        "      \n",
        "  else:\n",
        "    return False\n",
        "\n",
        "telefono = \"912283445\"\n",
        "is_valid_phone (telefono)"
      ]
    },
    {
      "cell_type": "code",
      "execution_count": null,
      "metadata": {
        "colab": {
          "base_uri": "https://localhost:8080/"
        },
        "id": "Or6ejIIZtaMk",
        "outputId": "701cabc6-94d3-4930-cb76-356b32c95f90"
      },
      "outputs": [
        {
          "data": {
            "text/plain": [
              "True"
            ]
          },
          "execution_count": 21,
          "metadata": {},
          "output_type": "execute_result"
        }
      ],
      "source": [
        "import re\n",
        "def is_valid_email(email):\n",
        "  if re.match(\"^[(a-z0-9\\_\\-\\.)]+@[(a-z0-9\\_\\-\\.)]+\\.[(a-z)]{2,15}$\", email.lower()):\n",
        "    return True\n",
        "  else:\n",
        "    return False\n",
        "correo = \"123ABc@email.com\"\n",
        "is_valid_email (correo)"
      ]
    },
    {
      "cell_type": "code",
      "execution_count": null,
      "metadata": {
        "colab": {
          "base_uri": "https://localhost:8080/"
        },
        "id": "lN8tGuIuXbXh",
        "outputId": "29f4a2cb-d03a-4580-ee31-0f0b04cbe63b"
      },
      "outputs": [
        {
          "name": "stdout",
          "output_type": "stream",
          "text": [
            "77841238t    | Cesar      | Longart      | Vigo      | 9999999999      | si      | 14/11/2022      | cesar@email.com      | "
          ]
        }
      ],
      "source": [
        "dic_clientes = {\n",
        "    \"77841238t\" : {\n",
        "        \"nombre\": \"Cesar\",\n",
        "        \"apellido\" : \"Longart\",\n",
        "        \"direccion\" : \"Vigo\",\n",
        "        \"telefono\": \"9999999999\",\n",
        "        \"habitual\" : \"si\",\n",
        "        \"fecha\" : \"14/11/2022\",\n",
        "        \"correo\" : \"cesar@email.com\"\n",
        "    }\n",
        "}\n",
        "\n",
        "\n",
        "def print_client (nif):\n",
        "  datos_aux = dic_clientes.get (nif, False)\n",
        "  if datos_aux == False:\n",
        "    print(\"El NIE no existe en el registro\")\n",
        "  else:\n",
        "      for nif, datos in dic_clientes.items():\n",
        "        print(nif,\"   |\" , end=\" \")\n",
        "        for datos1, informacion in datos.items():\n",
        "          print(informacion,\"     |\", end=\" \")\n",
        "        \n",
        "\n",
        "nif = \"77841238t\"\n",
        "print_client(nif)\n"
      ]
    },
    {
      "cell_type": "code",
      "execution_count": null,
      "metadata": {
        "colab": {
          "base_uri": "https://localhost:8080/"
        },
        "id": "ialnmVLZZG4d",
        "outputId": "782733c2-f804-4c42-f7ee-d50848bcf6bf"
      },
      "outputs": [
        {
          "name": "stdout",
          "output_type": "stream",
          "text": [
            "-----------------------------------------------Listado de clientes------------------------------------------------\n",
            "NIF          |Nombre      |Apellido     |Dirección   |Teléfon          |Habitual  |Fecha            |Correo                   \n"
          ]
        }
      ],
      "source": [
        "def print_header (title, pad_chard):\n",
        "  espacio = 57 + (len(title)//2)\n",
        "  print_cabecera_1 = title.rjust(espacio, pad_chard).ljust(114, pad_chard)\n",
        "  print_cabecera_2 = \"NIF          |Nombre      |Apellido     |Dirección   |Teléfon          |Habitual  |Fecha            |Correo                   \"\n",
        "\n",
        "  return print_cabecera_1 + \"\\n\" + print_cabecera_2\n",
        "\n",
        "title = \"Listado de clientes\"\n",
        "caracter =\"-\"\n",
        "print(print_header(title, caracter))"
      ]
    },
    {
      "cell_type": "code",
      "source": [
        "dic_clientes = {\n",
        "    None:{},\n",
        "    \"77841238t\" : {\n",
        "        \"nombre\": \"Cesar\",\n",
        "        \"apellido\" : \"Longart\",\n",
        "        \"direccion\" : \"Vigo\",\n",
        "        \"telefono\": \"9999999999\",\n",
        "        \"habitual\" : \"si\",\n",
        "        \"fecha\" : \"14/11/2022\",\n",
        "        \"correo\" : \"cesar@email.com\"\n",
        "    },\n",
        "    \"12345678p\" : {\n",
        "        \"nombre\": \"Cata\",\n",
        "        \"apellido\" : \"Lagos\",\n",
        "        \"direccion\" : \"Vigo\",\n",
        "        \"telefono\": \"111111111\",\n",
        "        \"habitual\" : \"si\",\n",
        "        \"fecha\" : \"24/02/2023\",\n",
        "        \"correo\" : \"cata@email.com\"\n",
        "    }\n",
        "}\n",
        "\n",
        "\n",
        "def print_client ():\n",
        "  nif_cliente = \"77841238t\"\n",
        "  datos_aux = dic_clientes.get (nif_cliente, False)\n",
        "  print(print_header(title, caracter))\n",
        "  if datos_aux == False:\n",
        "    print(\"El NIE no existe en el registro\")\n",
        "  else:\n",
        "    for nif, datos in dic_clientes.items():\n",
        "      if nif == None:\n",
        "        continue\n",
        "      elif nif_cliente == nif:\n",
        "        print(nif,\"   |\" , end=\" \")\n",
        "        for datos1, informacion in datos.items():\n",
        "          print(informacion,\"     |\", end=\" \")\n",
        "        \n",
        "def print_header (title, pad_chard):\n",
        "  espacio = 57 + (len(title)//2)\n",
        "  print_cabecera_1 = title.rjust(espacio, pad_chard).ljust(114, pad_chard)\n",
        "  print_cabecera_2 = \"NIF          |Nombre      |Apellido      |Dirección  |Teléfon          |Habitual |Fecha            |Correo                   \"\n",
        "\n",
        "  return print_cabecera_1 + \"\\n\" + print_cabecera_2\n",
        "\n",
        "title = \"Listado de clientes\"\n",
        "caracter =\"-\"\n",
        "\n",
        "print_client()\n",
        "\n",
        "\n",
        "\n",
        "def todos_clientes():\n",
        "  \"\"\"Función para mostrar todos los clientes\"\"\"\n",
        "  print(\"\\n\")\n",
        "  print(print_header(title, caracter))\n",
        "  for nif, datos in dic_clientes.items():\n",
        "      if nif == None:\n",
        "        continue\n",
        "      print(nif,\"   |\" , end=\" \")\n",
        "      for datos1, informacion in datos.items():\n",
        "        print(informacion,\"     |\", end=\" \")\n",
        "      print(\"\\n\")\n",
        " \n",
        " \n",
        "  # dato_titulo = True\n",
        "  # for nif, datos in dic_clientes.items():\n",
        "  #   if nif == None:\n",
        "  #       continue\n",
        "  #   for datos1, informacion in datos.items():\n",
        "  #     if dato_titulo == True:\n",
        "  #       print()\n",
        "  #       print(\"Datos de cliente NIF {}\".format(nif))\n",
        "  #       print(\"----------------------------------\")\n",
        "  #       dato_titulo = False\n",
        "  #     print(\"{} : {}\" .format(datos1, informacion))\n",
        "  #   dato_titulo = True   \n",
        "\n",
        "\n",
        "todos_clientes()\n",
        "\n"
      ],
      "metadata": {
        "colab": {
          "base_uri": "https://localhost:8080/"
        },
        "id": "Nz0oErXOxXTd",
        "outputId": "ae8c526a-c2a4-4cb2-e494-5c83ce4bc1b9"
      },
      "execution_count": null,
      "outputs": [
        {
          "output_type": "stream",
          "name": "stdout",
          "text": [
            "-----------------------------------------------Listado de clientes------------------------------------------------\n",
            "NIF          |Nombre      |Apellido      |Dirección  |Teléfon          |Habitual |Fecha            |Correo                   \n",
            "77841238t    | Cesar      | Longart      | Vigo      | 9999999999      | si      | 14/11/2022      | cesar@email.com      | \n",
            "\n",
            "-----------------------------------------------Listado de clientes------------------------------------------------\n",
            "NIF          |Nombre      |Apellido      |Dirección  |Teléfon          |Habitual |Fecha            |Correo                   \n",
            "77841238t    | Cesar      | Longart      | Vigo      | 9999999999      | si      | 14/11/2022      | cesar@email.com      | \n",
            "\n",
            "12345678p    | Cata      | Lagos      | Vigo      | 111111111      | si      | 24/02/2023      | cata@email.com      | \n",
            "\n"
          ]
        }
      ]
    },
    {
      "cell_type": "code",
      "execution_count": null,
      "metadata": {
        "colab": {
          "base_uri": "https://localhost:8080/"
        },
        "id": "w83SEeR5Vkiw",
        "outputId": "ca2a4a0b-82d5-437f-82d7-647517bfd2cc"
      },
      "outputs": [
        {
          "name": "stdout",
          "output_type": "stream",
          "text": [
            "{'nombre': None, 'apellido': None, 'direccion': None, 'telefono': None, 'habitual': None, 'fecha': None, 'correo': None}\n"
          ]
        }
      ],
      "source": [
        "#Diccionario vacio para crear un nuevo ciente\n",
        "dic_clientes = {\n",
        "        \"nombre\": None,\n",
        "        \"apellido\" : None,\n",
        "        \"direccion\" : None,\n",
        "        \"telefono\": None,\n",
        "        \"habitual\" : None,\n",
        "        \"fecha\" : None,\n",
        "        \"correo\" : None\n",
        "    }\n",
        "\n",
        "print(dic_clientes)"
      ]
    },
    {
      "cell_type": "code",
      "execution_count": null,
      "metadata": {
        "colab": {
          "base_uri": "https://localhost:8080/"
        },
        "id": "0ctzWDFDlEpf",
        "outputId": "d1712fcc-b8a0-4261-905c-477ce0ca4229"
      },
      "outputs": [
        {
          "output_type": "stream",
          "name": "stdout",
          "text": [
            "12345678p    | Cata    | Lagos    | Vigo    | 111111111    | False    | 24/02/2023    | cata@email.com    | "
          ]
        }
      ],
      "source": [
        "#Solo versión de LISTA\n",
        "dic_clientes = [\n",
        "    {\n",
        "        \"nif\": \"77841238t\",\n",
        "        \"nombre\": \"Cesar\",\n",
        "        \"apellido\" : \"Longart\",\n",
        "        \"direccion\" : \"Vigo\",\n",
        "        \"telefono\": \"9999999999\",\n",
        "        \"habitual\" : True,\n",
        "        \"fecha\" : \"14/11/2022\",\n",
        "        \"correo\" : \"cesar@email.com\"\n",
        "    },\n",
        "    {\n",
        "        \"nif\" : \"12345678p\",\n",
        "        \"nombre\": \"Cata\",\n",
        "        \"apellido\" : \"Lagos\",\n",
        "        \"direccion\" : \"Vigo\",\n",
        "        \"telefono\": \"111111111\",\n",
        "        \"habitual\" : False,\n",
        "        \"fecha\" : \"24/02/2023\",\n",
        "        \"correo\" : \"cata@email.com\"\n",
        "    }\n",
        "]\n",
        "def exist_client(buscar): \n",
        "  cont = 1\n",
        "  for i in range(len(dic_clientes)):\n",
        "    diccionario = dic_clientes[i]\n",
        "    valor = diccionario [\"nif\"]\n",
        "    if buscar == valor:\n",
        "      return True\n",
        "    elif cont == len(dic_clientes):\n",
        "      return False \n",
        "    cont += 1\n",
        "    \n",
        "\n",
        "\n",
        "nif = \"12345678p\"\n",
        "\n",
        "\n",
        "# print(dic_clientes[1])\n",
        "if exist_client(nif):\n",
        "  for diccionario in dic_clientes:\n",
        "    if diccionario[\"nif\"] == nif:\n",
        "      for datos, informacion in diccionario.items():\n",
        "        print(informacion, \"   |\", end=\" \")\n",
        "else:\n",
        "  print(\"No existe NIF\")"
      ]
    },
    {
      "cell_type": "code",
      "source": [
        "\n",
        "dic_clientes = [\n",
        "    {\n",
        "        \"nif\": \"77841238t\",\n",
        "        \"nombre\": \"Cesar\",\n",
        "        \"apellido\" : \"Longart\",\n",
        "        \"direccion\" : \"Vigo\",\n",
        "        \"telefono\": \"9999999999\",\n",
        "        \"habitual\" : True,\n",
        "        \"fecha\" : \"14/11/2022\",\n",
        "        \"correo\" : \"cesar@email.com\"\n",
        "    },\n",
        "    {\n",
        "        \"nif\" : \"12345678p\",\n",
        "        \"nombre\": \"Cata\",\n",
        "        \"apellido\" : \"Lagos\",\n",
        "        \"direccion\" : \"Vigo\",\n",
        "        \"telefono\": \"111111111\",\n",
        "        \"habitual\" : False,\n",
        "        \"fecha\" : \"24/02/2023\",\n",
        "        \"correo\" : \"cata@email.com\"\n",
        "    }\n",
        "]\n",
        "\n",
        "\n",
        "print(dic_clientes)\n"
      ],
      "metadata": {
        "colab": {
          "base_uri": "https://localhost:8080/"
        },
        "id": "qVMzSx6ULcH2",
        "outputId": "059ea928-44bc-46e9-cdf2-67967964229b"
      },
      "execution_count": null,
      "outputs": [
        {
          "output_type": "stream",
          "name": "stdout",
          "text": [
            "[{'nif': '77841238t', 'nombre': 'Cesar', 'apellido': 'Longart', 'direccion': 'Vigo', 'telefono': '9999999999', 'habitual': True, 'fecha': '14/11/2022', 'correo': 'cesar@email.com'}, {'nif': '12345678p', 'nombre': 'Cata', 'apellido': 'Lagos', 'direccion': 'Vigo', 'telefono': '111111111', 'habitual': False, 'fecha': '24/02/2023', 'correo': 'cata@email.com'}]\n"
          ]
        }
      ]
    },
    {
      "cell_type": "markdown",
      "metadata": {
        "id": "OkMgaf-pVhz0"
      },
      "source": [
        "*****************************************************************************************************************************"
      ]
    },
    {
      "cell_type": "markdown",
      "metadata": {
        "id": "NsQ1iH9rViHr"
      },
      "source": []
    },
    {
      "cell_type": "code",
      "execution_count": null,
      "metadata": {
        "colab": {
          "base_uri": "https://localhost:8080/"
        },
        "id": "aJfJgKSdGVUz",
        "outputId": "47301689-aa0e-48f6-ddd0-f49494957d24"
      },
      "outputs": [
        {
          "name": "stdout",
          "output_type": "stream",
          "text": [
            "cherry\n",
            "banana\n",
            "apple\n"
          ]
        }
      ],
      "source": [
        "fruits = [\"apple\", \"banana\", \"cherry\"]\n",
        "for i in range(len(fruits)-1, -1, -1):\n",
        "  print(fruits[i])\n"
      ]
    },
    {
      "cell_type": "code",
      "execution_count": null,
      "metadata": {
        "colab": {
          "base_uri": "https://localhost:8080/"
        },
        "id": "zx-OY8ZGXVVt",
        "outputId": "37b2083f-a879-480e-c86d-2ecf6ca639e6"
      },
      "outputs": [
        {
          "name": "stdout",
          "output_type": "stream",
          "text": [
            "{'banana': 6, 'cherry': 6}\n"
          ]
        }
      ],
      "source": [
        "fruits = [\"apple\", \"banana\", \"cherry\"]\n",
        "fruit_lengths = {fruit: len(fruit) for fruit in fruits if len(fruit) > 5}\n",
        "print(fruit_lengths)"
      ]
    },
    {
      "cell_type": "code",
      "execution_count": null,
      "metadata": {
        "colab": {
          "base_uri": "https://localhost:8080/"
        },
        "id": "k-7FzM6btBG1",
        "outputId": "7392396a-1b44-4065-dcc2-15acb2e86cdb"
      },
      "outputs": [
        {
          "name": "stdout",
          "output_type": "stream",
          "text": [
            "<class 'list'>\n",
            "<class 'NoneType'>\n"
          ]
        }
      ],
      "source": [
        "#No entiendo\n",
        "cadena = \"1 2 3 4\"\n",
        "lista_enteros = [int(x) for x in cadena.split()]\n",
        "lista_enteros.append(5)\n",
        "print(type(lista_enteros))\n",
        "x = None\n",
        "print(type(x))"
      ]
    },
    {
      "cell_type": "code",
      "execution_count": null,
      "metadata": {
        "colab": {
          "base_uri": "https://localhost:8080/"
        },
        "id": "tupqUN8agDBY",
        "outputId": "e6550bed-648d-4400-f06f-04e0ef9e43c2"
      },
      "outputs": [
        {
          "name": "stdout",
          "output_type": "stream",
          "text": [
            "Dime tu nombre: c\n",
            "1\n",
            "c\n"
          ]
        }
      ],
      "source": [
        "n = input(\"Dime tu nombre: \").strip()\n",
        "print(len(n))\n",
        "print(n)"
      ]
    },
    {
      "cell_type": "code",
      "execution_count": null,
      "metadata": {
        "colab": {
          "base_uri": "https://localhost:8080/"
        },
        "id": "_Qc3-fegrinn",
        "outputId": "1bc6fe1e-9f94-4698-c114-4fc07725d6c5"
      },
      "outputs": [
        {
          "name": "stdout",
          "output_type": "stream",
          "text": [
            "**********Cesar***************\n",
            "\n",
            "**********Cesar\n"
          ]
        }
      ],
      "source": [
        "cadena = \"Cesar\"\n",
        "espacio = 10 + len(cadena)\n",
        "caracter = \"*\"\n",
        "\n",
        "resultado = cadena.rjust(espacio,caracter).ljust(espacio,caracter)\n",
        "print(cadena.rjust(espacio,caracter) + \"\".ljust(espacio,caracter))\n",
        "print()\n",
        "print(resultado) i"
      ]
    },
    {
      "cell_type": "markdown",
      "metadata": {
        "id": "LapMlyjlSTRg"
      },
      "source": [
        "# **EXPRESIONES REGULARES** (secuencias de caracteres) sirven para hacer  busquedas"
      ]
    },
    {
      "cell_type": "markdown",
      "metadata": {
        "id": "l7q8ZlaRNuu4"
      },
      "source": [
        "https://www.youtube.com/watch?v=qpwn3gRtxCo\n",
        "\n",
        "\n",
        "https://www.youtube.com/watch?v=UCmQWZR5wA0\n"
      ]
    },
    {
      "cell_type": "code",
      "execution_count": null,
      "metadata": {
        "colab": {
          "base_uri": "https://localhost:8080/"
        },
        "id": "1wMAlgOBSRj3",
        "outputId": "1b532176-7c12-48e5-c8b1-7278304a4b9a"
      },
      "outputs": [
        {
          "name": "stdout",
          "output_type": "stream",
          "text": [
            "<re.Match object; span=(8, 16), match='aprender'>\n",
            "\n",
            "He encontrado el texto\n",
            "8\n",
            "16\n",
            "(8, 16)\n"
          ]
        }
      ],
      "source": [
        "import re\n",
        "\n",
        "cadena = \"Vamos a aprender expresiones regulares en Python\"\n",
        "\n",
        "#metodo Search()\n",
        "print(re.search(\"aprender\", cadena)) #primero se define los caracteres que se buscan y despues en que variable se va a buscar\n",
        "#Devuelve un objeto si encuentra el texto y devuelve None sino lo encuentra\n",
        "\n",
        "texto_buscar = \"aprender\"\n",
        "\n",
        "if re.search(texto_buscar, cadena) is not None:\n",
        "  print()\n",
        "  print(\"He encontrado el texto\")\n",
        "else:\n",
        "  print()\n",
        "  print(\"No he encontrado el texto\")\n",
        "\n",
        "texto_encontrado = re.search(texto_buscar, cadena)\n",
        "print(texto_encontrado.start())\n",
        "print(texto_encontrado.end())\n",
        "print(texto_encontrado.span())"
      ]
    },
    {
      "cell_type": "code",
      "execution_count": null,
      "metadata": {
        "colab": {
          "base_uri": "https://localhost:8080/"
        },
        "id": "32hdzn0gVmLs",
        "outputId": "d07a4414-e488-4c6b-b4d2-368bbd5bde46"
      },
      "outputs": [
        {
          "name": "stdout",
          "output_type": "stream",
          "text": [
            "2\n"
          ]
        }
      ],
      "source": [
        "import re\n",
        "\n",
        "cadena = \"Vamos a aprender expresiones regulares en Python. Python es un lenguaje de sintaxis sencillo.\"\n",
        "\n",
        "texto_buscar = \"Python\"\n",
        "print(len(re.findall(texto_buscar, cadena)))"
      ]
    },
    {
      "cell_type": "code",
      "execution_count": null,
      "metadata": {
        "colab": {
          "base_uri": "https://localhost:8080/"
        },
        "id": "VE2HHDvdAdIP",
        "outputId": "0c5f5ee3-6feb-4679-ff7b-f066752f328d"
      },
      "outputs": [
        {
          "name": "stdout",
          "output_type": "stream",
          "text": [
            "Paso 2\n"
          ]
        }
      ],
      "source": [
        "def crear_cliente():\n",
        "  print(\"Paso 1\")\n",
        "  return True\n",
        "\n",
        "def borrar_cliente():\n",
        "  print(\"Paso 2\")\n",
        "  return False\n",
        "\n",
        "cases = {\n",
        "    \"1\" : crear_cliente,\n",
        "    \"2\" : borrar_cliente\n",
        "}\n",
        "\n",
        "op = \"2\"\n",
        "if op in cases:\n",
        "    cases [op]()\n",
        "else:\n",
        "    print(\"La fruta ingresada no está en el diccionario\")"
      ]
    },
    {
      "cell_type": "code",
      "execution_count": null,
      "metadata": {
        "colab": {
          "base_uri": "https://localhost:8080/"
        },
        "id": "GUD3kcVhvry7",
        "outputId": "ba5ae8cd-e7bf-4d7c-c516-e56c5595241e"
      },
      "outputs": [
        {
          "name": "stdout",
          "output_type": "stream",
          "text": [
            "Seleccione una opción: 1\n",
            "Llama a la función seleccionada\n"
          ]
        }
      ],
      "source": [
        "#USAR EL METODO GET.\n",
        "\n",
        "def crear_cliente():\n",
        "  return True\n",
        "\n",
        "def borrar_cliente():\n",
        "  return True\n",
        "\n",
        "def exec_selected (op):\n",
        "  op_aux = cases.get (op, False)\n",
        "  if op_aux == True:\n",
        "    print(\"Llama a la función seleccionada\")\n",
        "    cases [\"1\"]\n",
        "  else:\n",
        "    print(\"ESCOJA UNA OPCIÓN VALIDA\")\n",
        "\n",
        "cases = {\n",
        "    \"1\" : crear_cliente(),\n",
        "    \"2\" : borrar_cliente()\n",
        "}\n",
        "\n",
        "def menu():\n",
        "  op = input(\"Seleccione una opción: \")\n",
        "\n",
        "  exec_selected (op)\n",
        "\n",
        "menu()\n"
      ]
    },
    {
      "cell_type": "markdown",
      "metadata": {
        "id": "7KNL1Iugh2YW"
      },
      "source": [
        "# Ejercicio Feedback"
      ]
    },
    {
      "cell_type": "markdown",
      "metadata": {
        "id": "taignueAk7b4"
      },
      "source": [
        "Ejercicio completo"
      ]
    },
    {
      "cell_type": "code",
      "execution_count": null,
      "metadata": {
        "colab": {
          "background_save": true,
          "base_uri": "https://localhost:8080/"
        },
        "id": "8MxZhFkybOAS",
        "outputId": "6bf28ee8-f781-4530-e14f-252b22754eb4"
      },
      "outputs": [
        {
          "name": "stdout",
          "output_type": "stream",
          "text": [
            "-------------------------\n",
            "Introduce un NIF valido, debe tener nueve caracteres.\n",
            "-------------------------\n",
            "cliente 12345678p\n",
            "12345678p Prueba\n"
          ]
        }
      ],
      "source": [
        "def is_only_digits (num):\n",
        "  \"\"\" Función utilitaria que verifica si todos los caracteres son numéricos\"\"\"\n",
        "  for i in num:\n",
        "    aux = ord(i)\n",
        "    if aux not in range(48,58):\n",
        "      return False\n",
        "  return True\n",
        "\n",
        "def is_valid_nif(nif):\n",
        "    \"\"\" Función utilitaria que verifica si el NIF es correcto, se utiliza un bucle para pedir nuevamente el NIF si no cumple con los requisitos\"\"\"\n",
        "    while True:\n",
        "        valido = len(nif) == 9\n",
        "        if valido:\n",
        "            nif_aux = nif[:8]\n",
        "            letra = ord(nif[8:].upper())\n",
        "            if is_only_digits(nif_aux):\n",
        "                if letra >= 65 and letra <= 90:\n",
        "                    return True, nif\n",
        "                else:\n",
        "                    print(\"-------------------------\")\n",
        "                    print(\"El último caracter debe ser una letra.\")\n",
        "                    print(\"-------------------------\")\n",
        "                    nif = input(\"Introduce el NIF del nuevo cliente: \").strip()\n",
        "            else:\n",
        "                print(\"-------------------------\")\n",
        "                print(\"Introduce un NIF valido, debe tener ocho digitos y una letra.\")\n",
        "                print(\"-------------------------\")\n",
        "                nif = input(\"Introduce el NIF del nuevo cliente: \").strip()\n",
        "        else:\n",
        "            print(\"-------------------------\")\n",
        "            print(\"Introduce un NIF valido, debe tener nueve caracteres.\")\n",
        "            print(\"-------------------------\")\n",
        "            nif = input(\"Introduce el NIF del nuevo cliente: \").strip()\n",
        "\n",
        "\n",
        "\n",
        "\n",
        "\n",
        "dic_nif = {}\n",
        "nif_cliente = input (\"Dime nif: \")\n",
        "nif_cliente = (is_valid_nif(nif_cliente)[1])\n",
        "# if is_valid_nif(nif_cliente):\n",
        "#   print(type(is_valid_nif(nif_cliente)))\n",
        "#   print(\"paso 1\")\n",
        "print(\"cliente\", nif_cliente)\n",
        "#   print(\"nif\", nif)\n",
        "#   nif_cliente = nif\n",
        "print(nif_cliente, \"Prueba\")\n",
        "val = input (\"Dime val: \")\n",
        "dic_nif [nif] = val\n",
        "print(dic_nif)"
      ]
    },
    {
      "cell_type": "code",
      "execution_count": null,
      "metadata": {
        "id": "rMyusHPGeq_B"
      },
      "outputs": [],
      "source": [
        "#*********************************VERSIÓN FINAL CON DICCIONARIOS ********************************************************************\n",
        "\n",
        "\n",
        "#***********************************Funciones utilitarias****************************************************************************\n",
        "\n",
        "def is_only_digits (num):\n",
        "  \"\"\" Función utilitaria que verifica si todos los caracteres son numéricos\"\"\"\n",
        "  for i in num:\n",
        "    aux = ord(i)\n",
        "    if aux not in range(48,58):\n",
        "      return False\n",
        "  return True\n",
        "\n",
        "\n",
        "def is_valid_nif ():\n",
        "  \"\"\" Función utilitaria que verifica si el NIF es correcto, se utiliza un bucle para pedir nuevamente el NIF si no cumple con los requisitos\"\"\"\n",
        "  while True:\n",
        "    nif = input(\"Introduce Nif del nuevo cliente: \").strip()\n",
        "    valido = len(nif) == 9\n",
        "    if valido:\n",
        "      nif_aux = nif[:8]\n",
        "      letra = ord(nif[8:].upper())\n",
        "      \n",
        "      if is_only_digits (nif_aux):\n",
        "        \n",
        "        if letra >= 65 and letra <= 90:\n",
        "          return True\n",
        "        else:\n",
        "          print(\"-------------------------\")\n",
        "          print(\"El último caracter debe ser una letra.\")\n",
        "          print(\"-------------------------\")\n",
        "      else:\n",
        "        print(\"-------------------------\")\n",
        "        print(\"Introduce un NIF valido, debe tener ocho digitos y una letra.\")\n",
        "        print(\"-------------------------\")\n",
        "\n",
        "    else:\n",
        "      print(\"-------------------------\")\n",
        "      print(\"Introduce un NIF valido, debe tener nueve caracteres.\")\n",
        "      print(\"-------------------------\")\n",
        "\n",
        "def is_valid_name(name):\n",
        "  \"\"\"Función utilitaria que valida cadena de caracteres para nombre y apellido\"\"\"\n",
        "  while True:\n",
        "    if len(name) > 1:\n",
        "      cont = 0\n",
        "      for i in name:\n",
        "        aux = ord(i.lower())\n",
        "        if (aux > 96 and aux < 123) or aux == 241 or aux == 32:\n",
        "          cont = cont + 1\n",
        "          if cont == len(name): \n",
        "            return name\n",
        "        else:\n",
        "          name = input(\"Intentalo nuevamente: \").strip()\n",
        "    else:\n",
        "      print(\"Al menos debe contener dos caracteres\")\n",
        "      name = input(\"Intentalo otra vez: \")\n",
        "\n",
        "#************************************Diccionario vacio*******************************************************************************\n",
        "dic_clientes = {\n",
        "        \"nombre\": None,\n",
        "        \"apellido\" : None,\n",
        "        \"direccion\" : None,\n",
        "        \"telefono\": None,\n",
        "        \"habitual\" : None,\n",
        "        \"fecha\" : None,\n",
        "        \"correo\" : None\n",
        "    }\n",
        "\n",
        "#******************************Funciones Principales del menú**********************************************************************\n",
        "def exec_selected (op):\n",
        "  if op == \"1\":\n",
        "    crear_cliente()\n",
        "  elif op == \"2\":\n",
        "    eliminar_cliente()\n",
        "  elif op == \"3\":\n",
        "    mostrar_cliente()\n",
        "  elif op == \"4\":\n",
        "    listar_clientes()\n",
        "  elif op == \"5\":\n",
        "    clientes_habituales()\n",
        "  elif op == \"6\":\n",
        "    salir = salir_fun ()\n",
        "  else:\n",
        "          print()\n",
        "          print(\"Debe seleccionar una opción de 1 a 6\")\n",
        "          print()\n",
        "\n",
        "\n",
        "def crear_cliente():\n",
        "  \"\"\" Funcion para opción 1, llama a funciones utilitarias para validar y agrega los datos al diccionario dic_clientes\"\"\"\n",
        "  nif = is_valid_nif()\n",
        "  apellidos = input (\"Introduce apellido de cliente: \").strip()\n",
        "  apellidos = is_valid_name(apellidos)\n",
        "  nombre = input (\"Introduce nombre de cliente: \").strip()\n",
        "  nombre = is_valid_name(nombre)\n",
        "  direccion = input (\"Introduce dirección: \").strip()\n",
        "  telefono = pedir_telefono ()\n",
        "  correo = input(\"Introduce correo electrónico: \")\n",
        "  habitual = pedir_habitual ()\n",
        "  fecha = pedir_fecha ()\n",
        "  \n",
        "  dic_clientes [nif] = {\"Apellidos\" : apellidos, \"Nombre\" : nombre,\\\n",
        "                        \"Dirección\" : direccion, \"Teléfono\" : telefono,\\\n",
        "                        \"Correo electrónico\" : correo, \"Cliente habitual\" : habitual, \"Fecha\" : fecha }\n",
        "  \n",
        "  print(\"--------------------------------------------------------\")\n",
        "  print(\"Se han creado los datos del cliente con NIF:\", \"{}\" .format(nif))\n",
        "  print(\"--------------------------------------------------------\")\n",
        "\n",
        "#función para eliminar cliente\n",
        "def eliminar_cliente():\n",
        "  nif_eliminar = input (\"Indique el NIF a eliminar: \")\n",
        "  nif_aux = dic_clientes.pop(nif_eliminar, False)\n",
        "  if nif_aux == False:\n",
        "    print(\"El NIE no existe en el registro\")\n",
        "  else:\n",
        "    print(\"--------------------------------------------------------\")\n",
        "    print(\"Se han eliminado los datos del cliente NIF {}\".format(nif_eliminar))\n",
        "    print(\"--------------------------------------------------------\")\n",
        "\n",
        "#función para mostrar un solo cliente         \n",
        "def mostrar_cliente():\n",
        "  buscar = input (\"Introduce NIF: \")\n",
        "  datos_aux = dic_clientes.get (buscar, False)\n",
        "  if datos_aux == False:\n",
        "    print(\"El NIE no existe en el registro\")\n",
        "  else:\n",
        "    dato_titulo = True\n",
        "    for nif, datos in dic_clientes.items():\n",
        "      for datos1, informacion in datos.items():\n",
        "        if buscar == nif:\n",
        "          if dato_titulo == True:\n",
        "            print()\n",
        "            print(\"Datos de cliente NIF {}\".format(nif))\n",
        "            print(\"----------------------------------\")\n",
        "            dato_titulo = False\n",
        "          print(\"{} : {}\" .format(datos1, informacion))\n",
        "      dato_titulo = True\n",
        "\n",
        "#función para mostrar todos los clientes\n",
        "def listar_clientes():\n",
        "  dato_titulo = True\n",
        "  for nif, datos in dic_clientes.items():\n",
        "    for datos1, informacion in datos.items():\n",
        "      if dato_titulo == True:\n",
        "        print()\n",
        "        print(\"Datos de cliente NIF {}\".format(nif))\n",
        "        print(\"----------------------------------\")\n",
        "        dato_titulo = False\n",
        "      print(\"{} : {}\" .format(datos1, informacion))\n",
        "    dato_titulo = True      \n",
        "\n",
        "#función para mostrar todos los clientes habituales\n",
        "def clientes_habituales():\n",
        "  dato_titulo = True\n",
        "  for nif, datos in dic_clientes.items():\n",
        "    for datos1, informacion in datos.items():\n",
        "      if datos[\"Cliente habitual\"] == True:\n",
        "        if dato_titulo == True:\n",
        "          print()\n",
        "          print(\"Datos de cliente habitual NIF {}\".format(nif))\n",
        "          print(\"----------------------------------\")\n",
        "          dato_titulo = False\n",
        "        print(\"{} : {}\" .format(datos1, informacion))\n",
        "    dato_titulo = True\n",
        "\n",
        "#función para salir el programa\n",
        "def salir_fun():\n",
        "  print()\n",
        "  print(\"----------------------------\")\n",
        "  print(\"** Ha salido del programa **\")\n",
        "  print(\"----------------------------\")\n",
        "  print()\n",
        "  return True\n",
        "\n",
        "\n",
        "\n",
        "\n",
        "\n",
        "def menu():\n",
        "  salir = False\n",
        "  while not (salir):\n",
        "    print()\n",
        "    print(\"__________________\")\n",
        "    print(\"------ MENU ------\")\n",
        "    print(\"__________________\")\n",
        "    print()\n",
        "    print(\"1. Agregar cliente \\n\"\n",
        "          \"2. Eliminar cliente \\n\"\n",
        "          \"3. Mostrar cliente \\n\"\n",
        "          \"4. Mostrar todos los clientes \\n\"\n",
        "          \"5. Mostrar clientes habituales \\n\"\n",
        "          \"6. Salir \\n     \")\n",
        "\n",
        "    op = input(\"Seleccione una opción: \").strip()\n",
        "\n",
        "    exec_selected (op)\n",
        "\n",
        "menu()\n",
        "\n",
        "\n"
      ]
    },
    {
      "cell_type": "code",
      "execution_count": null,
      "metadata": {
        "id": "Kd-j8j5ek4VB"
      },
      "outputs": [],
      "source": [
        "#TERMINADO CON DICCIONARIOS ANIDADOS\n",
        "#Se crea un diccionario anidado con dos clientes de prueba\n",
        "dic_clientes = {\n",
        "    \"77841238t\": {\n",
        "      \"Apellidos\": \"Longart Torres\",\n",
        "      \"Nombre\": \"Cesar\",\n",
        "      \"Dirección\": \"Vigo\",\n",
        "      \"Teléfono\": \"612283445\",\n",
        "      \"Correo electrónico\": \"cesar@gmail.com\",\n",
        "      \"Cliente habitual\": True,\n",
        "      \"Fecha\": \"'12/12/2023'\"\n",
        "      },\n",
        "    \"12345678q\": {\n",
        "      \"Apellidos\": \"Lagos\",\n",
        "      \"Nombre\": \"Catalina\",\n",
        "      \"Dirección\": \"Rioja\",\n",
        "      \"Teléfono\": \"123456789\",\n",
        "      \"Correo electrónico\": \"Cata@gmail.com\",\n",
        "      \"Cliente habitual\": False,\n",
        "      \"Fecha\": \"'12/05/2022'\"\n",
        "      }\n",
        "    }\n",
        "  \n",
        "#función para validar letra del NIF\n",
        "def es_letra (x):\n",
        "  x = ord(x)\n",
        "  return (x >=65 and x <= 90) or (x >= 97 and x <= 122)\n",
        "\n",
        "#función para validar digitos numéricos del NIF y el número de teléfono\n",
        "def es_numero (x):\n",
        "  num = \"0123456789\"\n",
        "  for i in range(len(num)):\n",
        "      if (x == num[i]):\n",
        "          return True\n",
        "  return False\n",
        "\n",
        "#Función para validar NIF \n",
        "def pedir_validar_nif ():\n",
        "  while True:    \n",
        "    nif = input(\"Introduce Nif del nuevo cliente: \")\n",
        "    valido = len(nif) == 9\n",
        "    if valido:\n",
        "        for i in range (len(nif)):\n",
        "            if i <8:  \n",
        "              if not es_numero (nif [i]):\n",
        "                valido = False\n",
        "                  \n",
        "            else:\n",
        "              if not es_letra (nif [i]):\n",
        "                valido = False          \n",
        "    if valido:\n",
        "      return nif\n",
        "\n",
        "#Función para validar el número de teléfono\n",
        "def pedir_telefono():\n",
        "  while True:\n",
        "    telefono = input(\"Introduce teléfono: \")\n",
        "    valido = len(telefono) == 9\n",
        "    if valido:\n",
        "      for i in range (len(telefono)):\n",
        "        if not es_numero (telefono[i]):\n",
        "          valido = False\n",
        "    if valido:\n",
        "      return telefono\n",
        "\n",
        "#Función para validar los clientes habituales\n",
        "def pedir_habitual ():\n",
        "  while True:\n",
        "    habitual = input (\"¿El cliente es habitual? Si / No \").strip()\n",
        "    if habitual != \"Si\" and habitual != \"No\":\n",
        "      print(\"Selecciona una opción correcta\")\n",
        "    else:\n",
        "      if habitual == \"Si\":\n",
        "        return True\n",
        "      else:\n",
        "        return False\n",
        "\n",
        "#función para validar la fecha\n",
        "def pedir_fecha():\n",
        "  num = \"0123456789\"\n",
        "  while True:\n",
        "    fecha = input (\"Intrduce fecha entre comillas simples en este formato: '12/05/2023'\")\n",
        "    if len(fecha) == 12:  \n",
        "      if fecha [0] != \"'\" or fecha [11] != \"'\":\n",
        "        print(\"Introduce el formato correcto de la fecha\")\n",
        "      elif fecha [3] != \"/\" or fecha [6] != \"/\":\n",
        "        print(\"Introduce el formato correcto de la fecha\")\n",
        "      elif fecha [1] not in num or fecha[2] not in num or fecha [4] not in num or fecha [5] not in num \\\n",
        "      or fecha [7] not in num or fecha [8] not in num or fecha [9] not in num or fecha [10] not in num:\n",
        "        print(\"Introduce una fecha correcta\")\n",
        "      else:\n",
        "        return fecha\n",
        "    print(\"Introduce una fecha correcta\")\n",
        "\n",
        "#Función para crear el cliente\n",
        "def crear_cliente():\n",
        "  nif = pedir_validar_nif()\n",
        "  apellidos = input (\"Introduce apellido de cliente: \")    \n",
        "  nombre = input (\"Introduce nombre de cliente: \")\n",
        "  direccion = input (\"Introduce dirección: \")\n",
        "  telefono = pedir_telefono ()\n",
        "  correo = input(\"Introduce correo electrónico: \")\n",
        "  habitual = pedir_habitual ()\n",
        "  fecha = pedir_fecha ()\n",
        "  \n",
        "  dic_clientes [nif] = {\"Apellidos\" : apellidos, \"Nombre\" : nombre,\\\n",
        "                        \"Dirección\" : direccion, \"Teléfono\" : telefono,\\\n",
        "                        \"Correo electrónico\" : correo, \"Cliente habitual\" : habitual, \"Fecha\" : fecha }\n",
        "  \n",
        "  print(\"--------------------------------------------------------\")\n",
        "  print(\"Se han creado los datos del cliente con NIF:\", \"{}\" .format(nif))\n",
        "  print(\"--------------------------------------------------------\")\n",
        "\n",
        "#función para eliminar cliente\n",
        "def eliminar_cliente():\n",
        "  nif_eliminar = input (\"Indique el NIF a eliminar: \")\n",
        "  nif_aux = dic_clientes.pop(nif_eliminar, False)\n",
        "  if nif_aux == False:\n",
        "    print(\"El NIE no existe en el registro\")\n",
        "  else:\n",
        "    print(\"--------------------------------------------------------\")\n",
        "    print(\"Se han eliminado los datos del cliente NIF {}\".format(nif_eliminar))\n",
        "    print(\"--------------------------------------------------------\")\n",
        "\n",
        "#función para mostrar un solo cliente         \n",
        "def mostrar_cliente():\n",
        "  buscar = input (\"Introduce NIF: \")\n",
        "  datos_aux = dic_clientes.get (buscar, False)\n",
        "  if datos_aux == False:\n",
        "    print(\"El NIE no existe en el registro\")\n",
        "  else:\n",
        "    dato_titulo = True\n",
        "    for nif, datos in dic_clientes.items():\n",
        "      for datos1, informacion in datos.items():\n",
        "        if buscar == nif:\n",
        "          if dato_titulo == True:\n",
        "            print()\n",
        "            print(\"Datos de cliente NIF {}\".format(nif))\n",
        "            print(\"----------------------------------\")\n",
        "            dato_titulo = False\n",
        "          print(\"{} : {}\" .format(datos1, informacion))\n",
        "      dato_titulo = True\n",
        "\n",
        "#función para mostrar todos los clientes\n",
        "def listar_clientes():\n",
        "  dato_titulo = True\n",
        "  for nif, datos in dic_clientes.items():\n",
        "    for datos1, informacion in datos.items():\n",
        "      if dato_titulo == True:\n",
        "        print()\n",
        "        print(\"Datos de cliente NIF {}\".format(nif))\n",
        "        print(\"----------------------------------\")\n",
        "        dato_titulo = False\n",
        "      print(\"{} : {}\" .format(datos1, informacion))\n",
        "    dato_titulo = True      \n",
        "\n",
        "#función para mostrar todos los clientes habituales\n",
        "def clientes_habituales():\n",
        "  dato_titulo = True\n",
        "  for nif, datos in dic_clientes.items():\n",
        "    for datos1, informacion in datos.items():\n",
        "      if datos[\"Cliente habitual\"] == True:\n",
        "        if dato_titulo == True:\n",
        "          print()\n",
        "          print(\"Datos de cliente habitual NIF {}\".format(nif))\n",
        "          print(\"----------------------------------\")\n",
        "          dato_titulo = False\n",
        "        print(\"{} : {}\" .format(datos1, informacion))\n",
        "    dato_titulo = True\n",
        "\n",
        "#función para salir el programa\n",
        "def salir_fun():\n",
        "  print()\n",
        "  print(\"----------------------------\")\n",
        "  print(\"** Ha salido del programa **\")\n",
        "  print(\"----------------------------\")\n",
        "  print()\n",
        "  return True\n",
        "\n",
        "#función que muestra el menú\n",
        "def menu():\n",
        "  salir = False\n",
        "  while not (salir):\n",
        "      print()\n",
        "      print(\"__________________\")\n",
        "      print(\"------ MENU ------\")\n",
        "      print(\"__________________\")\n",
        "      print()\n",
        "      print(\"1. Agregar cliente \\n\"\n",
        "            \"2. Eliminar cliente \\n\"\n",
        "            \"3. Mostrar cliente \\n\"\n",
        "            \"4. Mostrar todos los clientes \\n\"\n",
        "            \"5. Mostrar clientes habituales \\n\"\n",
        "            \"6. Salir \\n     \")\n",
        "\n",
        "      op = input(\"Seleccione una opción: \")\n",
        "\n",
        "      if op == \"1\":\n",
        "          crear_cliente()\n",
        "      elif op == \"2\":\n",
        "          eliminar_cliente()\n",
        "      elif op == \"3\":\n",
        "          mostrar_cliente()\n",
        "      elif op == \"4\":\n",
        "          listar_clientes()\n",
        "      elif op == \"5\":\n",
        "          clientes_habituales()\n",
        "      elif op == \"6\":\n",
        "          salir = salir_fun ()\n",
        "      else:\n",
        "          print()\n",
        "          print(\"Debe seleccionar una opción de 1 a 6\")\n",
        "          print()\n",
        "\n",
        "menu()\n",
        "\n",
        "#TERMINADO CON DICCIONARIOS ANIDADOS"
      ]
    },
    {
      "cell_type": "markdown",
      "metadata": {
        "id": "fF3bbOkoCrhJ"
      },
      "source": [
        "la solución adopatada comeinza asignando la plantilla ofrecida en el ejercicio, las modificaciones hechas a dicha plantilla fueron:\n",
        "1.- Modificación de los nombres de cada una de las opciones presentadas al usuario para que sean intuitivas las opciones.\n",
        "2.- La variale op que se encarga de almacenar la opcion elegida por el usuario originalmente era de tipo entero, se modifico a tipo caracter ya que si se introducia un dato difente a un entero el programa se arrojaba un error y se detenia.\n",
        "2.- Los nombre de las funciones a las cuales llama cada una de las opciones se modificaron para que el codigo sea más facil de leer.\n",
        "\n",
        "Dentro de la primera funcion crear cliente:\n",
        " \n",
        "1.- Crear cliente: se define la funcion crear_cliente para crear el perfil de un cliente y validan los datos de los campos NIE, teléfono, habitual y fecha a través de funciones independientes.\n",
        "\n",
        "1.1.- función pedir_validar_nif: inicia con un while que mantendrá en bucle mientras el NIE introducido no cumple con las condiciones correctas y termimina el bucle al ejecutar el return, por lo cual se valida que la variable que tenga nueve carcateres por medio de la función len y comparandola con el entero 9. Si esta validación resulta True se almacena en una variable llamada valido, se ejecuta una iteración con por cada uno de los caracteres del nif hasta el caracter 8 que pertenecen a los caracteres númericos y se llama a la funcion es_numero, dentro de esta función se itera una cadena de caracteres con los numeros del cero al nueve, la finalidad es comparar cada caracter de la variable nif con cada uno de los caracteres númericos definidos en la constante num. Si todos los caracteres se validan devuelven un True y si no es el caso retornan un False lo cual romperá el bucle for de la función pedir_validar_nif y el bucle iniciará pidiendo nuevamente un nuevo NIF. Si la función es_numero devuelve un True se ejecuta el else que llama a la funcion es_letra, esta función solo recibe el ultimo caracter de la variable nif, dentro de la función es_letra se convierte el caracter en entero y se compara con los valores de la tabla ascii que comprenden las letras minusculas o las mayusculas. Si la función devuelve True el condicional pregunta si no es True por lo cual pasa a la ultima condicional que pregunta si valido True y como es valido se ejecuta el retunr enviando la variable nif.\n",
        "\n",
        "1.2.- En las variables apellidos, nombre, direccion y correo simplemente se realiza un input para que el usuario asigne los datos y se registran como una cadena de caracteres.\n",
        "\n",
        "1.3.- En la variable telefono se ejecuta la funcion pedir_telefono , se ejecuta un while que se detendrá con el return de la variable telefono. al solicitar al usuario que ingrese el telefono se asignarán los datos a una cadena de carceteres y se validará que contenga 9 digitos a través de la función len y el resultado se almacena en la variable valido. A continuación se ejecuta una condicional, si valido es True se itera dentrpo de los caracteres de la variable telefono y se llama a la funcion es_numero que se utilizó anteriormente para validar la variable nif. Si la función es_numero devuelve un False entra en el condicional y convierte la variable valido en False y vuelve a pedir el telefono al usuario, de lo contrario si devuelve True continua al condicional si valido es True y se ejecuta el return telefono.\n",
        "\n",
        "1.4.- La variable habitual ejecuta la funcion pedir_habitual. Se ejecuta un while y se solicita al usuario ingresar alguna de las dos opciones \"Si\" o \"No\", se ejecuta un condicional que si es diferente a Si o a No entonces entra al condicional y se imprime un mensaje que indica que debe seleccionar una opción correcta y vuelve a pedir al usuario el valor de la variable. Si el usuario ingresa un valor permitido se ejecuta un condicional que ejecuta un return con True o False dependiendo de que valor haya elejido, quedando asignado un valor booleano a la variable como lo eige el ejercicio. \n",
        "\n",
        "1.5.- La variable fecha ejecuta la función pedir_fecha la cual incia con un while que se ejecuta mientras que sea True y se rompe al ejecutar el return de la variable fecha.Se pide alusuario ingresar la fecha en el formato solicitado por el ejercicio. la primera condicionar si la cadena de caracteres tiene 12 digitos, despues se ejecuta otra condicional que verifica si los caracteres de la posiciones 0 y 11 son comillas simples, después si los caracteres de las posiciones 3 y 6 son barras y el resto de las posiciones se compara con la constante num que teiene como valores todos los numeros. Si se validan las tres condicionales se ejecuta el return fecha, sino se ejecuta el else que imprime un mensaje en pantalla comentando que introduzca una fecha correcta y se vuelve a ejecutar el while.\n",
        "\n",
        "Una vez ya obtenidos y validadas todas las variables llamamos al diccionario declarado al inicio de todo y se asiga la variable nif entre corchetes para que se agregue como una nueva clave al diccionario, despues del signo igual se abre una llave para asigar al diccionario anidado las claves que van a definir la descripción de los datos y despues de los dos puntos se aigna la variable correspondiente a la descripción. Con esto ya estamos asigando los valores de las variables a el diccionario e imprimimos un mensaje n pantalla informando que se han creado los datos del nif correspondiente. Se ejecuta el retun dic_clientes para que los datos se guarden en el diccionario fuera de la función crear_cliente.\n",
        "\n",
        "2.- Eliminar cliente: se define la función eliminar_cliente inicia solicitando al usuario el NIE del usuario que desa eliminar, se asigna a la variable nif_eliminar, se ejecuta el metodo .pop en el diccionario y el resultado se asigna auna variable nif_aux  y en los atributos se define primero la variable nir_eliminar para que busque dentro del diccionario ese valor y como segundo  atributo se asigna False que en caso de no encontrar el valor buscado devuelva ese valor booleano. A continuación se ejecuta un condicional que evalua si la variable es False se imprime en pantalla que el nif no existe, de lo contrario else que imprime en pantalla que se ha eliminado los datos del cliente que contiene la variable nif_eliminar.\n",
        "\n",
        "3.- Buscar cliente: se define la función buscar_cliente se define la variable buscar para pedir al usuario el nif que desea visualizar, en la variable datos_aux se ejecuta el metodo get en el diccionario y como atributo se le pasa la variable buscar y como segundo atributo False. Después se evalua con una condicional si el valor de datos_aux es igual a False, en ese caso se imprime un mensaje comentando que ese nif no existe en el registro, de lo contrario un else y se define una variable dato_titulo con valor True, esta variable nos servirá de control mas adelante. Se realiza una iteración de clave y valor con el metodo items dentro del diccionario, de inmediato otra iteración con el metodo items esta vez dentro del diccionario aninado. Se ejecuta una condicción que si la variable buscar es igual a la clave de la primera iteración que entre y se ejecuta otra condicional que si dato_titulo es verdadera imprima en pantalla el mensaje datos de cliente con la variable nif, de inmediato se cambia el valor de dato_titulo a False para que esta cpondición no se vuelva a ejecutar. Al vorver a iterar el for se ejecuta el condicional si buscar es igual a nif y se ejecutan mientras sea True las impresiones en pantalla de los datos de ese diccionario anidado.\n",
        "\n",
        "4.- Listar clientes: Se define la función listar_clientes la cual comienza con una variable llamada dato_titulo con valor True la cual nos servirá de control, a continuación se realiza una iteración por el diccionario clave, valor con el metodo items y una segunda iteración clave, valor con el metodo items dentro del diccionario anidado. Se ejecuta la condición que si dato_titulo es igual a True imprima en pantalla los datos de cliente de la clave del primer for que corresponde al número de nif del primer cliente, acontinuación se asiga el valor False a la variable dato_titulo para que no se imprima ese mensaje mientras el segundo for se esté ejecutando. Al ejecutar por ultima vez el segundo for están en pantalla todos los datos de la primera clave y al salir de ese ciclo se le asigna a la variable dato_titulo el valor de True para que el proceso comience con la siguiente clave del primer for. De está manera conseguimos mostrar en pantalla de forma ordenada todos los datos de todos los clientes.\n",
        "\n",
        "5.- Clientes habituales: Se define la funcion clinetes_habituales la cual comienza con una variable llamada dato_titulo con valor True la cual nos servirá de control, a continuación se realiza una iteración por el diccionario clave, valor con el metodo items y una segunda iteración clave, valor con el metodo items dentro del diccionario anidado. Se ejecuta una condicional que verifica si el valor de la clave llamada \"cliente habitual\" del diccionario anido corresponde al valor True, si es False no se ejecuta nada por lo cual se continua con la siguiente clave del diccionario principal que correponde a otro nif. Cuando la clave llamada \"cliente habitual\" del diccionario anidado corresponde con el valor True se valida si la variable dato_titulo es True y se procede a imprimir por pantalla el titulo de los datos de ese cliente que dice Datos del cliente habitual del valor de la clave del primer diccionario que corresponde al nif, inmediatamente se cambia el valor a False de la variable dato_titulo para que no se vuelva a imprimir en esta iteración. A continuación se imprimen todos los datos del diccionario anidado que correspondan a esa clave del diccionario cipal. Al terminar de mostrar todos los datos pasa a la siguiente iteración del primer for.\n",
        "\n",
        "6.- Salir: se define la función salir_fun se imprime un mensaje al usuario que confirma que ha salido del programa y se ejecuta un return con valor True. Ese valor True se le asigna a la variable salir que se encuentra dentro de la función manu que hace romper el while que permite estár en el bucle dentro del menu pidiendo una opción.\n",
        "\n",
        "\n",
        "\n",
        "\n",
        "\n"
      ]
    },
    {
      "cell_type": "code",
      "execution_count": null,
      "metadata": {
        "id": "Z-bLcX2kKSb6"
      },
      "outputs": [],
      "source": [
        "#CON LISTA DENTRO DE DICCIONARIO\n",
        "#lista definida que mostrará el nombre de los atributos de cada dato del cliente\n",
        "lista_atributos = [\"Apellidos\", \"Nombre\", \"Dirección\", \"Teléfono\", \"Correo electrónico\", \"Cliente_habitual\", \"Fecha\" ]\n",
        "\n",
        "#diccionari creado con dos clientes de ejemplo con una lista anidada dentro del diccionario donde se almacenan los datos de los clientes\n",
        "dic_clientes = {\n",
        "    \"77841238t\": [\"Longart Torres\", \"Cesar\", \"Vigo\", \"612283445\", \"cesar@gmail.com\", True, \"'12/12/2023'\"],\n",
        "    \"12345678q\": [\"Lagos\", \"Catalina\", \"Rioja\", \"123456789\", \"Cata@gmail.com\", False, \"'12/05/2022'\" ]\n",
        "    }\n",
        "  \n",
        "#función para validar la letra del NIF\n",
        "def es_letra (x):\n",
        "  x = ord(x)\n",
        "  return (x >=65 and x <= 90) or (x >= 97 and x <= 122)\n",
        "\n",
        "#función para validar los digitos numéricos del NIF y del número de teléfono\n",
        "def es_numero (x):\n",
        "  num = \"0123456789\"\n",
        "  for i in range(len(num)):\n",
        "      if (x == num[i]):\n",
        "          return True\n",
        "  return False\n",
        "\n",
        "#función para validar NIF\n",
        "def pedir_validar_nif ():\n",
        "  while True:    \n",
        "    nif = input(\"Introduce Nif del nuevo cliente: \")\n",
        "    valido = len(nif) == 9\n",
        "    if valido:\n",
        "        for i in range (len(nif)):\n",
        "            if i <8:  \n",
        "              if not es_numero (nif [i]):\n",
        "                valido = False\n",
        "                  \n",
        "            else:\n",
        "              if not es_letra (nif [i]):\n",
        "                valido = False          \n",
        "    if valido:\n",
        "      return nif\n",
        "\n",
        "#función para validar número de teléfono\n",
        "def pedir_telefono():\n",
        "  while True:\n",
        "    telefono = input(\"Introduce teléfono: \")\n",
        "    valido = len(telefono) == 9\n",
        "    if valido:\n",
        "      for i in range (len(telefono)):\n",
        "        if not es_numero (telefono[i]):\n",
        "          valido = False\n",
        "    if valido:\n",
        "      return telefono\n",
        "\n",
        "#función para mostrar clientes habituales\n",
        "def pedir_habitual ():\n",
        "  while True:\n",
        "    habitual = input (\"¿El cliente es habitual? Si / No \")\n",
        "    if habitual != \"Si\" and habitual != \"No\":\n",
        "      print(\"Selecciona una opción correcta\")\n",
        "    else:\n",
        "      if habitual == \"Si\":\n",
        "        return True\n",
        "      else:\n",
        "        return False\n",
        "\n",
        "#función para validar fecha\n",
        "def pedir_fecha():\n",
        "  num = \"0123456789\"\n",
        "  while True:\n",
        "    fecha = input (\"Intrduce fecha entre comillas simples en este formato: '12/05/2023'\")\n",
        "    if len(fecha) == 12:  \n",
        "      if fecha [0] != \"'\" or fecha [11] != \"'\":\n",
        "        print(\"Introduce el formato correcto de la fecha\")\n",
        "      elif fecha [3] != \"/\" or fecha [6] != \"/\":\n",
        "        print(\"Introduce el formato correcto de la fecha\")\n",
        "      elif fecha [1] not in num or fecha[2] not in num or fecha [4] not in num or fecha [5] not in num \\\n",
        "      or fecha [7] not in num or fecha [8] not in num or fecha [9] not in num or fecha [10] not in num:\n",
        "        print(\"Introduce una fecha correcta\")\n",
        "      else:\n",
        "        return fecha\n",
        "    print(\"Introduce una fecha correcta\")\n",
        "\n",
        "#función para crear cliente\n",
        "def crear_cliente():\n",
        "  nif = pedir_validar_nif()\n",
        "  apellidos = input (\"Introduce apellido de cliente: \")    \n",
        "  nombre = input (\"Introduce nombre de cliente: \")\n",
        "  direccion = input (\"Introduce dirección: \")\n",
        "  telefono = pedir_telefono ()\n",
        "  correo = input(\"Introduce correo electrónico: \")\n",
        "  habitual = pedir_habitual ()\n",
        "  fecha = pedir_fecha ()\n",
        "  \n",
        "  dic_clientes = [apellidos, nombre, direccion, telefono, correo, habitual, fecha ]\n",
        "  \n",
        "  print(\"--------------------------------------------------------\")\n",
        "  print(\"Se han creado los datos del cliente con NIF:\", \"{}\" .format(nif))\n",
        "  print(\"--------------------------------------------------------\")\n",
        "\n",
        "#función para eliminar cliente\n",
        "def eliminar_cliente():\n",
        "  nif_eliminar = input (\"Indique el NIF a eliminar: \")\n",
        "  nif_aux = dic_clientes.pop(nif_eliminar, False)\n",
        "  if nif_aux == False:\n",
        "    print(\"El NIE no existe en el registro\")\n",
        "  else:\n",
        "    print(\"--------------------------------------------------------\")\n",
        "    print(\"Se han eliminado los datos del cliente NIF {}\".format(nif_eliminar))\n",
        "    print(\"--------------------------------------------------------\")\n",
        "\n",
        "#función para mostrar cliente         \n",
        "def mostrar_cliente():\n",
        "  buscar = input (\"Introduce NIF: \")\n",
        "  datos_aux = dic_clientes.get (buscar, False)\n",
        "  if datos_aux == False:\n",
        "    print(\"El NIE no existe en el registro\")\n",
        "  else:\n",
        "    dato_titulo = True\n",
        "    for nif, tabla in dic_clientes.items():\n",
        "      for i, j in zip(lista_atributos,tabla):\n",
        "        if buscar == nif:\n",
        "          if dato_titulo == True:\n",
        "            print()\n",
        "            print(\"Datos de cliente NIF {}\".format(nif))\n",
        "            print(\"----------------------------------\")\n",
        "            dato_titulo = False\n",
        "          print(\"{} : {}\" .format(i, j))\n",
        "      dato_titulo = True\n",
        "\n",
        "#función para mostrar todos los clientes\n",
        "def listar_clientes():\n",
        "  dato_titulo = True\n",
        "  for nif, tabla in dic_clientes.items():\n",
        "    for i, j in zip(lista_atributos,tabla):\n",
        "      if dato_titulo == True:\n",
        "          print()\n",
        "          print(\"Datos del NIF: \", nif)\n",
        "          print(\"---------------------\")\n",
        "          dato_titulo = False\n",
        "      print(i, \":\", j)\n",
        "    dato_titulo = True\n",
        "\n",
        "#función para mstrar todos los clientes habituales\n",
        "def clientes_habituales():\n",
        "  dato_titulo = True\n",
        "  for nif, tabla in dic_clientes.items():\n",
        "    for i, j in zip(lista_atributos,tabla):\n",
        "      \n",
        "      if tabla[5] == True:\n",
        "        \n",
        "        if dato_titulo == True:\n",
        "          print()\n",
        "          print(\"Datos de cliente habitual NIF {}\".format(nif))\n",
        "          print(\"----------------------------------\")\n",
        "          dato_titulo = False\n",
        "        print(\"{} : {}\" .format(i, j))\n",
        "    dato_titulo = True\n",
        "\n",
        "#función para salir del programa\n",
        "def salir_fun():\n",
        "  print()\n",
        "  print(\"----------------------------\")\n",
        "  print(\"** Ha salido del programa **\")\n",
        "  print(\"----------------------------\")\n",
        "  print()\n",
        "  return True\n",
        "\n",
        "#función para mostrar el menú\n",
        "def menu():\n",
        "  salir = False\n",
        "  while not (salir):\n",
        "      print()\n",
        "      print(\"__________________\")\n",
        "      print(\"------ MENU ------\")\n",
        "      print(\"__________________\")\n",
        "      print()\n",
        "      print(\"1. Agregar cliente \\n\"\n",
        "            \"2. Eliminar cliente \\n\"\n",
        "            \"3. Mostrar cliente \\n\"\n",
        "            \"4. Mostrar todos los clientes \\n\"\n",
        "            \"5. Mostrar clientes habituales \\n\"\n",
        "            \"6. Salir \\n     \")\n",
        "\n",
        "      op = input(\"Seleccione una opción: \")\n",
        "\n",
        "      if op == \"1\":\n",
        "          crear_cliente()\n",
        "      elif op == \"2\":\n",
        "          eliminar_cliente()\n",
        "      elif op == \"3\":\n",
        "          mostrar_cliente()\n",
        "      elif op == \"4\":\n",
        "          listar_clientes()\n",
        "      elif op == \"5\":\n",
        "          clientes_habituales()\n",
        "      elif op == \"6\":\n",
        "          salir = salir_fun ()\n",
        "      else:\n",
        "          print()\n",
        "          print(\"Debe seleccionar una opción de 1 a 6\")\n",
        "          print()\n",
        "\n",
        "menu()\n",
        "#CON LISTA DENTRO DE DICCIONARIO"
      ]
    },
    {
      "cell_type": "code",
      "source": [
        "#Eliminar datos dentro de una lista con un diccionario anidado\n",
        "\n",
        "def eliminar_cliente():\n",
        "    \"\"\"Función para eliminar cliente.\"\"\"\n",
        "    nif_eliminar = input (\"Indique el NIF a eliminar: \")\n",
        "    for i in range (len(dic_clientes)):\n",
        "      clave = dic_clientes[i]\n",
        "      valor = clave[\"nif\"]\n",
        "      if valor == nif_eliminar:\n",
        "        dic_clientes.pop(i)\n",
        "        #dic_clientes.pop(i)\n",
        "        #dic_clientes.remove(dic_clientes[i])\n",
        "        print(\"--------------------------------------------------------\")\n",
        "        print(\"Se han eliminado los datos del cliente NIF {}\".format(nif_eliminar))\n",
        "        print(\"--------------------------------------------------------\")\n",
        "          \n",
        "      else:\n",
        "          print(\"El NIE no existe en el registro\")\n",
        "          break\n",
        "\n",
        "dic_clientes = [\n",
        "    {\n",
        "        \"nif\": \"77841238t\",\n",
        "        \"nombre\": \"Cesar\",\n",
        "        \"apellido\" : \"Longart\",\n",
        "        \"direccion\" : \"Vigo\",\n",
        "        \"telefono\": \"9999999999\",\n",
        "        \"habitual\" : True,\n",
        "        \"fecha\" : \"14/11/2022\",\n",
        "        \"correo\" : \"cesar@email.com\"\n",
        "    },\n",
        "    {\n",
        "        \"nif\" : \"12345678p\",\n",
        "        \"nombre\": \"Cata\",\n",
        "        \"apellido\" : \"Lagos\",\n",
        "        \"direccion\" : \"Vigo\",\n",
        "        \"telefono\": \"111111111\",\n",
        "        \"habitual\" : False,\n",
        "        \"fecha\" : \"24/02/2023\",\n",
        "        \"correo\" : \"cata@email.com\"\n",
        "    }\n",
        "]\n",
        "\n",
        "eliminar_cliente()"
      ],
      "metadata": {
        "colab": {
          "base_uri": "https://localhost:8080/"
        },
        "id": "HL18t2xX2YWl",
        "outputId": "9157a56b-5fd2-44da-b17a-36f2012c2717"
      },
      "execution_count": null,
      "outputs": [
        {
          "output_type": "stream",
          "name": "stdout",
          "text": [
            "Indique el NIF a eliminar: 12345678p\n",
            "El NIE no existe en el registro\n"
          ]
        }
      ]
    },
    {
      "cell_type": "code",
      "source": [
        "lista = [\"casa\", \"carro\", \"bici\"]\n",
        "buscar = \"bici\"\n",
        "index = lista.index(buscar)\n",
        "print(index)"
      ],
      "metadata": {
        "colab": {
          "base_uri": "https://localhost:8080/"
        },
        "id": "7XWblRwG8dRq",
        "outputId": "81fb2919-ee3a-4a88-9203-065f5347e9a3"
      },
      "execution_count": null,
      "outputs": [
        {
          "output_type": "stream",
          "name": "stdout",
          "text": [
            "2\n"
          ]
        }
      ]
    },
    {
      "cell_type": "code",
      "source": [
        "def is_valid_name(name):\n",
        "  \"\"\"Función utilitaria que valida cadena de caracteres para nombre y apellido\"\"\"\n",
        "  if len(name) <= 1:\n",
        "    \n",
        "    return False\n",
        "  print(len(name))\n",
        "  for i in name:\n",
        "    print(\"Paso 2\")\n",
        "    aux = ord(i.lower())\n",
        "    if (aux <= 96 or aux >= 123) and aux != 241 and aux != 32:\n",
        "      return False\n",
        "  return True\n",
        "\n",
        "name= \"Cesar\"\n",
        "print(is_valid_name(name))"
      ],
      "metadata": {
        "colab": {
          "base_uri": "https://localhost:8080/"
        },
        "id": "MuRVASWmC9v6",
        "outputId": "d162e014-a43a-4d14-c109-5a8f0a3e7880"
      },
      "execution_count": null,
      "outputs": [
        {
          "output_type": "stream",
          "name": "stdout",
          "text": [
            "5\n",
            "Paso 2\n",
            "Paso 2\n",
            "Paso 2\n",
            "Paso 2\n",
            "Paso 2\n",
            "True\n"
          ]
        }
      ]
    },
    {
      "cell_type": "code",
      "execution_count": null,
      "metadata": {
        "id": "5Cy2kJrmVIhg"
      },
      "outputs": [],
      "source": [
        "#PRUEBA PARA UNIR TABLAS\n",
        "lista_atributos = [\"Apellidos\", \"Nombre\", \"Dirección\", \"Teléfono\", \"Correo electrónico\", \"Cliente habitual\", \"Fecha\" ]\n",
        "\n",
        "dic_clientes = {\n",
        "    \"77841238t\": [\"Longart Torres\", \"Cesar\", \"Vigo\", \"612283445\", \"cesar@gmail.com\", True, \"'12/12/2023'\"],\n",
        "    \"12345678q\": [\"Lagos\", \"Catalina\", \"Rioja\", \"123456789\", \"Cata@gmail.com\", False, \"'12/05/2022'\" ]\n",
        "    }\n",
        "\n",
        "nif = \"98765432o\"\n",
        "apellidos = \"Pérez\"\n",
        "nombre = \"Carlos\"\n",
        "direccion = \"Madrid\"\n",
        "telefono = 123456789\n",
        "correo = \"carlos@gmail.com\"\n",
        "habitual = True\n",
        "fecha = \"'12/03/2022'\"\n",
        "\n",
        "dic_clientes [nif] = [apellidos, nombre, direccion, telefono, correo, habitual, fecha ]\n",
        "\n",
        "dato_titulo = True\n",
        "for nif, tabla in dic_clientes.items():\n",
        "  for i, j in zip(lista_atributos,tabla):\n",
        "    if dato_titulo == True:\n",
        "        print()\n",
        "        print(\"Datos del NIF: \", nif)\n",
        "        print(\"---------------------\")\n",
        "        dato_titulo = False\n",
        "    print(i, \":\", j)\n",
        "  dato_titulo = True\n"
      ]
    },
    {
      "cell_type": "code",
      "execution_count": null,
      "metadata": {
        "colab": {
          "base_uri": "https://localhost:8080/"
        },
        "id": "bPC1pwXzSHz7",
        "outputId": "ba62b141-a6e3-4f97-9add-69877c5c7cb0"
      },
      "outputs": [
        {
          "name": "stdout",
          "output_type": "stream",
          "text": [
            "cosas : ['casa', 'perro', 'gato']\n",
            "casa\n",
            "perro\n",
            "gato\n"
          ]
        }
      ],
      "source": [
        "lista = {\"cosas\":[\"casa\", \"perro\", \"gato\"]}\n",
        "for dic, tabla in lista.items():\n",
        "  print(dic, \":\",tabla)\n",
        "  for i in tabla:\n",
        "    print(i)\n",
        "\n",
        "  "
      ]
    },
    {
      "cell_type": "code",
      "execution_count": null,
      "metadata": {
        "colab": {
          "base_uri": "https://localhost:8080/"
        },
        "id": "jdQgq6qa8iMG",
        "outputId": "96f0c32f-6182-454e-e72b-b5bd0fe916c2"
      },
      "outputs": [
        {
          "name": "stdout",
          "output_type": "stream",
          "text": [
            "False\n"
          ]
        }
      ],
      "source": [
        "es_letra = False\n",
        "\n",
        "if not es_letra:\n",
        "  print(False)\n"
      ]
    },
    {
      "cell_type": "code",
      "execution_count": null,
      "metadata": {
        "colab": {
          "base_uri": "https://localhost:8080/"
        },
        "id": "OUFu03BS71_V",
        "outputId": "027a7d56-4257-4ab2-d0c8-ddfbffc939a1"
      },
      "outputs": [
        {
          "name": "stdout",
          "output_type": "stream",
          "text": [
            "['Y', 'Z']\n",
            "['A', 'Z']\n",
            "------\n",
            "['A', 'Z']\n"
          ]
        }
      ],
      "source": [
        "def ejercicio (a):\n",
        "  print(a)\n",
        "  x[0]= \"A\"\n",
        "  print(a)\n",
        "x = [\"Y\",\"Z\"]\n",
        "ejercicio (x)\n",
        "print(\"------\")\n",
        "print(x)"
      ]
    },
    {
      "cell_type": "code",
      "execution_count": null,
      "metadata": {
        "colab": {
          "base_uri": "https://localhost:8080/"
        },
        "id": "LnQnJzVR_j0B",
        "outputId": "5642dff9-c25f-405d-e96d-52128aa50302"
      },
      "outputs": [
        {
          "name": "stdout",
          "output_type": "stream",
          "text": [
            "20\n",
            "30\n"
          ]
        }
      ],
      "source": [
        "dic= {\"c2\":20, \"c3\":30}\n",
        "for i in dic:\n",
        "  print(dic[i])"
      ]
    },
    {
      "cell_type": "markdown",
      "metadata": {
        "id": "fs1GHj8OkSw9"
      },
      "source": [
        "Pruebas de ejercicio Feedback"
      ]
    },
    {
      "cell_type": "code",
      "execution_count": null,
      "metadata": {
        "id": "7eLsJpICQ8-8"
      },
      "outputs": [],
      "source": [
        "nif = input ( \"Introduzca NIF: \")\n",
        "def es_numero (x):\n",
        "  num = \"1234567890\"\n",
        "  for i in range (8):\n",
        "    #print (nif [i], \"primer Range\")\n",
        "    for j in range (10):\n",
        "      #print(num [j], \"Segundo Range\")\n",
        "      if nif [i] == num [j]:\n",
        "      #print(True)\n",
        "        numero = True\n",
        "  return numero\n",
        "if es_numero (nif) == False:\n",
        "  nif = (input( \"NIF erroneo, vuelva a ingresra NIF: \"))"
      ]
    },
    {
      "cell_type": "code",
      "execution_count": null,
      "metadata": {
        "id": "bFOYHlD3ivC5"
      },
      "outputs": [],
      "source": [
        "x = \"77841238t\"\n",
        "if len (x) == 9:\n",
        "  num = \"0123456789\"\n",
        "  for i in range(len(x) - 1):\n",
        "    #print(x[i])\n",
        "    if x [i] in num:\n",
        "      #return True\n",
        "      print(\"True\")\n",
        "      \n",
        "else:\n",
        "  print(\"Falso\")\n",
        "  #return False\n"
      ]
    },
    {
      "cell_type": "code",
      "execution_count": null,
      "metadata": {
        "colab": {
          "base_uri": "https://localhost:8080/"
        },
        "id": "PyOxXfYGtMwa",
        "outputId": "a05d74f5-3f63-4dc5-c1bb-3338a625f1c5"
      },
      "outputs": [
        {
          "name": "stdout",
          "output_type": "stream",
          "text": [
            "5\n",
            "{'a': 1, 'b': 2, 'c': 3, 'd': 4, 'e': 5}\n",
            "{'b': 2, 'c': 3, 'd': 4, 'e': 5}\n"
          ]
        }
      ],
      "source": [
        "#Eliminar elementos de diccionario\n",
        "midiccionario = {'a': 1, 'b':2, 'c': 3, 'd':4, 'e':5}\n",
        "tamano = len(midiccionario)\n",
        "print(tamano)\n",
        "print(midiccionario)\n",
        "# del midiccionario ['a']\n",
        "# tamano = len(midiccionario)\n",
        "# print(tamano)\n",
        "# print(midiccionario)\n",
        "\n",
        "# otra forma de eliminar\n",
        "midiccionario.pop ('a')\n",
        "print(midiccionario)"
      ]
    },
    {
      "cell_type": "code",
      "execution_count": null,
      "metadata": {
        "colab": {
          "base_uri": "https://localhost:8080/"
        },
        "id": "zD54Yi3NzOhj",
        "outputId": "81e564a0-358f-47a4-a940-1c557a2f13ba"
      },
      "outputs": [
        {
          "name": "stdout",
          "output_type": "stream",
          "text": [
            "a : 1\n",
            "b : 2\n",
            "c : 3\n",
            "d : 4\n",
            "e : 5\n"
          ]
        }
      ],
      "source": [
        "#Listado de Todos los clientes\n",
        "midiccionario = {'a': 1, 'b':2, 'c': 3, 'd':4, 'e':5}\n",
        "for clave, valor in midiccionario.items():\n",
        "  print(clave, \":\", valor)"
      ]
    },
    {
      "cell_type": "code",
      "execution_count": null,
      "metadata": {
        "colab": {
          "base_uri": "https://localhost:8080/"
        },
        "id": "FAGjhoBY0key",
        "outputId": "e45db43f-fc5e-4338-dc36-2c6cb821b35b"
      },
      "outputs": [
        {
          "name": "stdout",
          "output_type": "stream",
          "text": [
            "Dime NIF: b\n",
            "b : 2\n"
          ]
        }
      ],
      "source": [
        "#Mostrar Cliente\n",
        "midiccionario = {'a': 1, 'b':2, 'c': 3, 'd':4, 'e':5}\n",
        "buscar = input(\"Dime NIF: \")\n",
        "for i, j in midiccionario.items():\n",
        "  if i == buscar:\n",
        "    print(i,\":\",j)\n",
        "    "
      ]
    },
    {
      "cell_type": "code",
      "execution_count": null,
      "metadata": {
        "colab": {
          "base_uri": "https://localhost:8080/"
        },
        "id": "UaZ8G7_U3ZQC",
        "outputId": "174aa50b-243c-4f67-8da8-606f035bead6"
      },
      "outputs": [
        {
          "name": "stdout",
          "output_type": "stream",
          "text": [
            "Dime par o impar: par\n",
            "b : 2\n",
            "d : 4\n"
          ]
        }
      ],
      "source": [
        "#Listar clientes habituales\n",
        "midiccionario = {'a': 1, 'b':2, 'c': 3, 'd':4, 'e':5}\n",
        "buscar = input(\"Dime par o impar: \")\n",
        "for i, j in midiccionario.items():\n",
        "  if buscar == \"par\":\n",
        "    if j % 2 == 0:\n",
        "      print(i,\":\",j)\n",
        "    "
      ]
    },
    {
      "cell_type": "code",
      "execution_count": null,
      "metadata": {
        "id": "dQFexhTI54vf"
      },
      "outputs": [],
      "source": [
        "nif = input(\"NIF: \")\n",
        "agenda = {\n",
        "    \"77841238t\": {\n",
        "        \"nombre\": \"Cesar\",\n",
        "        \"apellido\": \"Longart\",\n",
        "           }\n",
        "  }\n",
        "\n",
        "#{77841238t : { \"nombre\" : \"Cesar\" , \"apellido\" : \"Longart\", }}\n",
        "\n",
        "if nif in agenda:\n",
        "          print(\"Ese nombre ya existe en la agenda\")\n",
        "        else:\n",
        "          nombre = input(\"Nombre: \")\n",
        "          apellido = input(\"Apellido: \")\n",
        "          num = input (\"Dime el número: \")\n",
        "          agenda [nif] = apellido\n",
        "          agenda [apellido] =  \n",
        "          print(\"El teléfono se ha añadido\")"
      ]
    },
    {
      "cell_type": "code",
      "execution_count": null,
      "metadata": {
        "colab": {
          "base_uri": "https://localhost:8080/"
        },
        "id": "DUcBFuMXv0-v",
        "outputId": "78d98328-f043-417c-c282-3a3ed9ba47b3"
      },
      "outputs": [
        {
          "name": "stdout",
          "output_type": "stream",
          "text": [
            "{'Jorge': {'Telefono': 1111111, 'País': 'Ecuador', 'Aficiones': 'Futbol'}, 'María': {'Teléfono': 2222222, 'País': 'Colombia', 'Aficiones': 'Astronomía'}, 'Tomás': {'Teléfono': 3333333, 'País': 'España', 'Aficiones': 'Cine'}, 'Carla': {'Teléfono': 4444444, 'País': 'México', 'Aficiones': 'Ajedrez'}}\n",
            "{'Jorge': {'Telefono': 1111111, 'País': 'Ecuador', 'Aficiones': 'Futbol'}, 'María': {'Teléfono': 2222222, 'País': 'Colombia', 'Aficiones': 'Astronomía'}, 'Tomás': {'Teléfono': 3333333, 'País': 'España', 'Aficiones': 'Cine'}, 'Carla': {'Teléfono': 4444444, 'País': 'México', 'Aficiones': 'Ajedrez'}, 'César': {'Teléfono': 5555555, 'País': 'Venezuela', 'Aficiones': 'Música'}}\n"
          ]
        }
      ],
      "source": [
        "from traitlets.config.loader import ArgParseConfigLoader\n",
        "#metodos de diccionario para AGREGAR datos\n",
        "# DICCIONARIOS ANIDADOS dentro de diccionarios anidados\n",
        "agenda  = {\n",
        "    \"Jorge\": {\n",
        "        \"Telefono\": 1111111,\n",
        "        \"País\": \"Ecuador\",\n",
        "        \"Aficiones\": \"Futbol\",\n",
        "    },\n",
        "    \"María\": {\n",
        "        \"Teléfono\": 2222222,\n",
        "        \"País\": \"Colombia\",\n",
        "        \"Aficiones\": \"Astronomía\",\n",
        "    },\n",
        "    \"Tomás\": {\n",
        "        \"Teléfono\": 3333333,\n",
        "        \"País\": \"España\",\n",
        "        \"Aficiones\": \"Cine\",     \n",
        "    },\n",
        "    \"Carla\": {\n",
        "        \"Teléfono\": 4444444,\n",
        "        \"País\": \"México\",\n",
        "        \"Aficiones\": \"Ajedrez\",\n",
        "    }\n",
        "  }\n",
        "print (agenda)\n",
        "\n",
        "nombre = \"César\"\n",
        "telefono = 5555555\n",
        "pais = \"Venezuela\"\n",
        "afiociones = \"Música\"\n",
        "\n",
        "#diccionario_aux =  {\"Teléfono\": telefono, \"País\": pais, \"Aficiones\": afiociones} \n",
        "#agenda [nombre] = diccionario_aux\n",
        "\n",
        "agenda [nombre] = {\"Teléfono\": telefono, \"País\": pais, \"Aficiones\": afiociones}\n",
        "\n",
        "print(agenda)\n",
        "\n",
        "\n",
        "\n",
        "\n"
      ]
    },
    {
      "cell_type": "code",
      "execution_count": null,
      "metadata": {
        "colab": {
          "base_uri": "https://localhost:8080/"
        },
        "id": "GN0oEMZacqb6",
        "outputId": "c4ed397f-8096-4837-b6a4-bd3cef218c6b"
      },
      "outputs": [
        {
          "name": "stdout",
          "output_type": "stream",
          "text": [
            "{'77841238t': {'Apellidos': 'Longart Torres', 'Nombre': 'Cesar', 'Dirección': 'Vigo', 'Teléfono': '612283445', 'Correo electrónico': 'cesar@gmail.com', 'Cliente_habitual': True, 'Fecha': \"'12/12/2023'\"}, '12345678q': {'Apellidos': 'Lagos', 'Nombre': 'Catalina', 'Dirección': 'Rioja', 'Teléfono': '123456789', 'Correo electrónico': 'Cata@gmail.com', 'Cliente_habitual': False, 'Fecha': \"'12/05/2022'\"}}\n",
            "{'77841238t': {'Apellidos': 'Longart Torres', 'Nombre': 'Cesar', 'Dirección': 'Vigo', 'Teléfono': '612283445', 'Correo electrónico': 'cesar@gmail.com', 'Cliente_habitual': True, 'Fecha': \"'12/12/2023'\"}, '12345678q': {'Apellidos': 'Lagos', 'Nombre': 'Catalina', 'Dirección': 'Rioja', 'Teléfono': '123456789', 'Correo electrónico': 'Cata@gmail.com', 'Cliente_habitual': False, 'Fecha': \"'12/05/2022'\"}}\n"
          ]
        }
      ],
      "source": [
        "dic_clientes = {'77841238t': {\n",
        "                    'Apellidos': 'Longart Torres',\n",
        "                    'Nombre': 'Cesar',\n",
        "                    'Dirección': 'Vigo',\n",
        "                    'Teléfono': '612283445',\n",
        "                    'Correo electrónico': 'cesar@gmail.com',\n",
        "                    'Cliente_habitual': True,\n",
        "                    'Fecha': \"'12/12/2023'\"\n",
        "                  },\n",
        "                '12345678q': {\n",
        "                    'Apellidos': 'Lagos',\n",
        "                    'Nombre': 'Catalina',\n",
        "                    'Dirección': 'Rioja',\n",
        "                    'Teléfono': '123456789',\n",
        "                    'Correo electrónico': 'Cata@gmail.com',\n",
        "                    'Cliente_habitual': False,\n",
        "                    'Fecha': \"'12/05/2022'\"\n",
        "                  }\n",
        "                    \n",
        "                }\n",
        "\n",
        "#eliminar = input (\"NIF: \")\n",
        "print(dic_clientes)\n",
        "dic_clientes.pop(123456 , \"No existe NIF\")\n",
        "print(dic_clientes)"
      ]
    },
    {
      "cell_type": "markdown",
      "metadata": {
        "id": "QL0izJdsD1JH"
      },
      "source": [
        "# NIVEL 9 - MÓDULOS "
      ]
    },
    {
      "cell_type": "code",
      "execution_count": null,
      "metadata": {
        "colab": {
          "base_uri": "https://localhost:8080/"
        },
        "id": "W1SxRTgdEAkf",
        "outputId": "127c1440-c61e-415e-f16d-ae70acea9954"
      },
      "outputs": [
        {
          "name": "stdout",
          "output_type": "stream",
          "text": [
            "Dime rádio: 2.5\n",
            "el área del cículo es:  19.634954084936208\n"
          ]
        }
      ],
      "source": [
        "#PROGRAMA QUE CALCULE EL ÁREA DE UN CIRCULO\n",
        "# import math\n",
        "# #dir (math)\n",
        "# radio = float(input(\"Dime rádio: \"))\n",
        "# area = math.pi * (radio**2)\n",
        "# print(area)\n",
        "\n",
        "from math import pi #Solo importando la función que nos interesa y no todo el módulo\n",
        "radio = float(input(\"Dime rádio: \"))\n",
        "area = pi * (radio**2)\n",
        "print(\"el área del cículo es: \",area)"
      ]
    },
    {
      "cell_type": "code",
      "execution_count": null,
      "metadata": {
        "colab": {
          "base_uri": "https://localhost:8080/"
        },
        "id": "raqrKbUSF1cf",
        "outputId": "27339d94-0cea-4fb9-a844-3fb1311b4051"
      },
      "outputs": [
        {
          "name": "stdout",
          "output_type": "stream",
          "text": [
            "Dime el valor del cateto A: 3\n",
            "Dime el valor del cateto B: 4\n",
            "La hipotenusa es: 5.0\n"
          ]
        }
      ],
      "source": [
        "#Calcular la hipotenusa del un triángulo rectángulo con metodo math\n",
        "from math import sqrt\n",
        "cate_a = float (input(\"Dime el valor del cateto A: \"))\n",
        "cate_b = float (input(\"Dime el valor del cateto B: \"))\n",
        "hipo = sqrt (cate_a ** 2 + cate_b ** 2)\n",
        "print (\"La hipotenusa es:\", hipo)"
      ]
    },
    {
      "cell_type": "code",
      "execution_count": null,
      "metadata": {
        "colab": {
          "base_uri": "https://localhost:8080/"
        },
        "id": "x6U8Bxjpd-pg",
        "outputId": "fd40e453-fbe3-4736-d29b-3082955bc87a"
      },
      "outputs": [
        {
          "name": "stdout",
          "output_type": "stream",
          "text": [
            "dime un valor: 3\n",
            "dime otro valor: 7\n",
            "El permietro es:  33.8359883929281\n"
          ]
        }
      ],
      "source": [
        "#Calcular el perimetro de una elipse\n",
        "import math\n",
        "r = float (input(\"dime un valor: \"))\n",
        "s = float (input(\"dime otro valor: \"))\n",
        "p = 2 * math.pi * math.sqrt((r**2 + s**2)/2)\n",
        "print(\"El permietro es: \", p)"
      ]
    },
    {
      "cell_type": "code",
      "execution_count": null,
      "metadata": {
        "colab": {
          "base_uri": "https://localhost:8080/"
        },
        "id": "xHVNx1Mdgyzg",
        "outputId": "6761dcf8-f01c-4b48-e8ad-7ca84d5cd06d"
      },
      "outputs": [
        {
          "name": "stdout",
          "output_type": "stream",
          "text": [
            "7\n"
          ]
        }
      ],
      "source": [
        "#Módulo random\n",
        "import random\n",
        "#dir (random)\n",
        "print(random.randint(1,10)) #Del primero hasta el útimo argumento incluido del 1 al 10"
      ]
    },
    {
      "cell_type": "code",
      "execution_count": null,
      "metadata": {
        "id": "NQPmLRquh8Yj"
      },
      "outputs": [],
      "source": [
        "# Un juego para adivinar un número aleatorio con 7 intentos y que diga si es mayor o menor \n",
        "import random\n",
        "x = random.randint(1,100)\n",
        "#print(x)\n",
        "intentos = 0\n",
        "while intentos <7:\n",
        "  intentos += 1\n",
        "  num = int (input (\"Dime un número del 1 al 100: \"))\n",
        "  if x < num:\n",
        "    print(\"No has acertado, el número secreto es menor\")  \n",
        "    print (\"te quedan \",7 - intentos, \"intentos.\")\n",
        "    print(\"---------------------\")\n",
        "  elif x > num:\n",
        "    print(\"No has acertado, el número secreto es mayor\")  \n",
        "    print (\"te quedan \",7 - intentos, \"intentos.\")\n",
        "    print(\"----------------------\")\n",
        "  else:\n",
        "    print(\"Has acertado, el número es el\", x)\n",
        "    break\n",
        "print(\"---------------------\")\n",
        "print(\"Ha terminado el juego.\")\n",
        "print(\"---------------------\")\n"
      ]
    },
    {
      "cell_type": "code",
      "execution_count": null,
      "metadata": {
        "colab": {
          "base_uri": "https://localhost:8080/"
        },
        "id": "Rq1Wmeq_sUqF",
        "outputId": "7dd37b9c-de51-4593-f259-5a8bd6b48d7c"
      },
      "outputs": [
        {
          "name": "stdout",
          "output_type": "stream",
          "text": [
            "3\n",
            "b\n"
          ]
        }
      ],
      "source": [
        "#Funcion Choice\n",
        "import random\n",
        "print(random.choice([1,2,3]))\n",
        "print(random.choice([\"a\",\"b\",\"c\"]))"
      ]
    },
    {
      "cell_type": "code",
      "execution_count": null,
      "metadata": {
        "colab": {
          "base_uri": "https://localhost:8080/"
        },
        "id": "dAA8Yso2tOgG",
        "outputId": "98320069-5829-41ab-ae51-bc020ba06a9e"
      },
      "outputs": [
        {
          "name": "stdout",
          "output_type": "stream",
          "text": [
            "BIENVENIDO AL JUEGO\n",
            "ADIVINA UN NÚMERO DEL 1 AL 100\n",
            "TIENES 7 OPCIONES\n",
            "------------------\n",
            "69\n",
            "Dime un número: 1\n",
            "Muy baja tu opción \n",
            "Te quedan 6 intentos.\n",
            "...................................\n",
            "Dime un número: 99\n",
            "baja ese número \n",
            "Te quedan 5 intentos.\n",
            "...................................\n",
            "Dime un número: 69\n",
            "Has acertado con 3 intentos.\n",
            "FIN DEL JUEGO\n",
            "--------------\n"
          ]
        }
      ],
      "source": [
        "#Un juego para adivinar un número igual que el anterior pero que en lugar de decir\n",
        "#demaciado alto o bajo, diga frases divertidas.\n",
        "import random\n",
        "x = random.randint (1,100)\n",
        "resp_baja = random.choice ([\"Estás muy bajo\", \n",
        "                            \"Muy baja tu opción\", \n",
        "                            \"Más bajo que una suela\"])\n",
        "\n",
        "resp_alta = random.choice ([\"Estás por las nuebes\", \n",
        "                            \"Muy alto\", \n",
        "                            \"baja ese número\"])\n",
        "contador = 0\n",
        "print(\"BIENVENIDO AL JUEGO\\n\"\n",
        "      \"ADIVINA UN NÚMERO DEL 1 AL 100\\n\"\n",
        "      \"TIENES 7 OPCIONES\")\n",
        "print(\"------------------\")\n",
        "print(x)\n",
        "jugando = True\n",
        "while jugando :\n",
        "  contador += 1\n",
        "  num = int (input(\"Dime un número: \"))\n",
        "  if contador < 7:\n",
        "    if x > num:\n",
        "      print(resp_baja,\"\\n\"\n",
        "            \"Te quedan\", 7- contador, \"intentos.\")\n",
        "      print(\"...................................\")\n",
        "    elif x < num:\n",
        "      print(resp_alta,\"\\n\"\n",
        "            \"Te quedan\", 7- contador, \"intentos.\")\n",
        "      print(\"...................................\")\n",
        "    elif x == num:\n",
        "      print(\"Has acertado con\", contador, \"intentos.\")\n",
        "      jugando = False\n",
        "  else:\n",
        "    print(\"no te quedan intentos\\n\"\n",
        "          \"Has perdido! El número secreto era el\", x)\n",
        "    jugando = False\n",
        "print(\"FIN DEL JUEGO\\n\"\n",
        "      \"--------------\")"
      ]
    },
    {
      "cell_type": "code",
      "execution_count": null,
      "metadata": {
        "colab": {
          "base_uri": "https://localhost:8080/"
        },
        "id": "EI5ZInakKSbR",
        "outputId": "a3f8039d-3db6-49c0-b68d-48906f2a1f6f"
      },
      "outputs": [
        {
          "name": "stdout",
          "output_type": "stream",
          "text": [
            "En un total de  [100] tiradas, el resultado es:\n",
            " 44 veces cara\n",
            " 56 veces cruz\n",
            "---Gana Cara---\n"
          ]
        }
      ],
      "source": [
        "#Programa que simula 100 tiradas de una moneda y comprueba cuantas veces sale cada resultado\n",
        "import random\n",
        "contador_cara = 0\n",
        "contador_cruz = 0\n",
        "for i in range(100):\n",
        "  moneda = random.choice([\"cara\", \"cruz\"])\n",
        "  if moneda == \"cara\":\n",
        "    contador_cara += 1\n",
        "  elif moneda == \"cruz\":\n",
        "    contador_cruz += 1\n",
        "print(\"En un total de \",[i+1], \"tiradas, el resultado es:\\n\",\n",
        "      contador_cara, \"veces cara\\n\",\n",
        "      contador_cruz, \"veces cruz\")\n",
        "if contador_cara > contador_cruz:\n",
        "  print(\"---Gana Cara---\")\n",
        "if contador_cruz == contador_cara:\n",
        "  print(\"---Es un empate---\")\n",
        "else:\n",
        "  print(\"---Gana Cara---\")"
      ]
    },
    {
      "cell_type": "code",
      "execution_count": null,
      "metadata": {
        "id": "_SGr54uGg5n4"
      },
      "outputs": [],
      "source": [
        "#juego de Piedra, pael o tijeras\n",
        "import random\n",
        "contador_pc = 0\n",
        "contador_jugador= 0\n",
        "juego = True\n",
        "revancha = True\n",
        "\n",
        "print(\"JUEGO DE PIEDRA, PAPEL O TIJERAS\\n\"\n",
        "\"El Mejor de tres rondas gana.\")\n",
        "print()\n",
        "\n",
        "while revancha:\n",
        "\n",
        "  \n",
        "\n",
        "  while juego:\n",
        "    if contador_jugador == 3:\n",
        "      print(\"Has ganado\", contador_jugador, \"a\", contador_pc)\n",
        "      juego = False\n",
        "      contador_jugador= 0\n",
        "      contador_pc = 0\n",
        "    elif contador_pc == 3:\n",
        "      print(\"Has perdido\", contador_pc, \"a\", contador_jugador)\n",
        "      juego = False\n",
        "      contador_jugador= 0\n",
        "      contador_pc = 0\n",
        "    else:\n",
        "        print()\n",
        "        jugador = input(\"¿Piedra, Papel o Tijeras?\")\n",
        "        pc = random.choice ([\"Piedra\", \"Papel\", \"Tijeras\"])\n",
        "        if jugador == pc:\n",
        "          print(\"------------------\")\n",
        "          print(\"El Pc ha elegido\", pc, \",es un empate.\")\n",
        "          print(\"jugador:\", contador_jugador, \"puntos.\\n\"\n",
        "          \"PC     :\", contador_pc, \"puntos\")\n",
        "          print(\"------------------\")\n",
        "        elif jugador == \"Piedra\" and pc == \"Papel\":\n",
        "          contador_pc +=1\n",
        "          print(\"------------------\")\n",
        "          print(\"El Pc ha elegido\", pc)\n",
        "          print(\"jugador:\", contador_jugador, \"puntos.\\n\"\n",
        "          \"PC     :\", contador_pc, \"puntos\")\n",
        "          print(\"------------------\")\n",
        "        elif jugador == \"Piedra\" and pc == \"Tijeras\":\n",
        "          contador_jugador +=1\n",
        "          print(\"------------------\")\n",
        "          print(\"El Pc ha elegido\", pc)\n",
        "          print(\"jugador:\", contador_jugador, \"puntos.\\n\"\n",
        "          \"PC     :\", contador_pc, \"puntos\")\n",
        "          print(\"------------------\")\n",
        "        elif jugador == \"Papel\" and pc == \"Piedra\":\n",
        "          contador_jugador +=1\n",
        "          print(\"------------------\")\n",
        "          print(\"El Pc ha elegido\", pc)\n",
        "          print(\"jugador:\", contador_jugador, \"puntos.\\n\"\n",
        "          \"PC     :\", contador_pc, \"puntos\")\n",
        "          print(\"------------------\")\n",
        "        elif jugador == \"Papel\" and pc == \"Tijeras\":\n",
        "          contador_pc +=1\n",
        "          print(\"------------------\")\n",
        "          print(\"El Pc ha elegido\", pc)\n",
        "          print(\"jugador.\", contador_jugador, \"puntos.\\n\"\n",
        "          \"PC     :\", contador_pc, \"puntos\")\n",
        "          print(\"------------------\")\n",
        "        elif jugador == \"Tijeras\" and pc == \"Papel\":\n",
        "          contador_jugador +=1\n",
        "          print(\"------------------\")\n",
        "          print(\"El Pc ha elegido\", pc)\n",
        "          print(\"jugador:\", contador_jugador, \"puntos.\\n\"\n",
        "          \"PC     :\", contador_pc, \"puntos\")\n",
        "          print(\"------------------\")\n",
        "        elif jugador == \"Tijeras\" and pc == \"Piedra\":\n",
        "          contador_pc +=1\n",
        "          print(\"------------------\")\n",
        "          print(\"El Pc ha elegido\", pc)\n",
        "          print(\"jugador:\", contador_jugador, \"puntos.\\n\"\n",
        "          \"PC     :\", contador_pc, \"puntos\")\n",
        "        else:\n",
        "          print(\"Elige una opción correcta\")\n",
        "\n",
        "\n",
        "\n",
        "\n",
        "  \n",
        "  respuesta = input (\"El juego ha terminado ¿Quieres seguir jugando? s/n: \")\n",
        "  if respuesta == \"n\":\n",
        "    juego = False\n",
        "    revancha = False\n",
        "  elif respuesta == \"s\":\n",
        "    juego = True\n",
        "  elif respuesta != \"s\" or respuesta != \"n\":\n",
        "    respuesta = input (\"Debes seleccionar una opción válida: s/n: \")\n",
        "    if respuesta == \"n\":\n",
        "      juego = False\n",
        "      revancha = False\n",
        "    elif respuesta == \"s\":\n",
        "      juego = True\n",
        "print(\"----------------\")\n",
        "print(\"FIN DEL PROGRAMA\")\n",
        "print(\"----------------\")"
      ]
    },
    {
      "cell_type": "code",
      "execution_count": null,
      "metadata": {
        "colab": {
          "base_uri": "https://localhost:8080/"
        },
        "id": "2yXAydWXZHBn",
        "outputId": "326b1641-cf86-425d-e9f3-ef264f1d7947"
      },
      "outputs": [
        {
          "name": "stdout",
          "output_type": "stream",
          "text": [
            "1680715572.6503167\n",
            "54.03535148698768\n"
          ]
        },
        {
          "data": {
            "text/plain": [
              "2024"
            ]
          },
          "execution_count": 6,
          "metadata": {},
          "output_type": "execute_result"
        }
      ],
      "source": [
        "#Modulo Time\n",
        "import time\n",
        "#dir (time)\n",
        "print(time.time())\n",
        "print(time.time() / 60 / 60 / 24 / 360)\n",
        "1970 + 54"
      ]
    },
    {
      "cell_type": "code",
      "execution_count": null,
      "metadata": {
        "id": "Zc6EqPNmd7yO"
      },
      "outputs": [],
      "source": [
        "#Programa donde solo pase el tiempo\n",
        "import time\n",
        "inicio = time.time()\n",
        "while True:\n",
        "  print(\"Estamos jugando...\")\n",
        "  final = time.time()\n",
        "  if final - inicio >= 0.01: #0.01 segundo\n",
        "    break\n",
        "print(\"Fin del juego\")\n",
        "print(\"Tiempo de juego\", final - inicio)"
      ]
    },
    {
      "cell_type": "code",
      "execution_count": null,
      "metadata": {
        "id": "pdKG0NbJaJNm"
      },
      "outputs": [],
      "source": [
        "#Programa que haga haga varias operaciones al azar en 10 segundos con contador\n",
        "import random\n",
        "import time\n",
        "\n",
        "print(\"-------------------------------------------------------\")\n",
        "print(\"ADIVINA LA MAYOR CANTIDAD DE OPERACIONES EN 10 SEGUNDOS\")\n",
        "print(\"-------------------------------------------------------\")\n",
        "input (\"Presiona Enter para inciar --->\")\n",
        "inicio = time.time()\n",
        "aciertos = 0\n",
        "\n",
        "\n",
        "while True:\n",
        "  \n",
        "  if final - inicio >= 10:\n",
        "    print(\"Ha terminado el juego\")\n",
        "    print(\"La cantidad de aciertos son:\", aciertos)\n",
        "    break\n",
        "  else:\n",
        "    \n",
        "    num1 = random.randint (1,9)\n",
        "    num2 = random.randint (1,9)\n",
        "    opera = random.choice([\"+\", \"*\"])\n",
        "    \n",
        "    if opera == \"+\":\n",
        "      #print(num1, \"+\", num2, end=\" \")\n",
        "      print(num1, \"+\", num2)\n",
        "      suma = num1 + num2\n",
        "    elif opera == \"*\":\n",
        "     #print(num1, \"*\", num2, end= \" \")\n",
        "      print(num1, \"*\", num2)\n",
        "      suma = num1 * num2\n",
        "\n",
        "    #resultado = int(input(\"= \"))\n",
        "    resultado = int(input(\"Dime el resultado: \"))\n",
        "\n",
        "    if suma == resultado:\n",
        "      aciertos += 1\n",
        "      print()\n",
        "      print(\"Has acertado\")\n",
        "      print(\"-------------\")\n",
        "    else:\n",
        "      print()\n",
        "      print(\"Has fallado\")\n",
        "      print(\"-------------\")\n",
        "  final = time.time()\n"
      ]
    },
    {
      "cell_type": "code",
      "execution_count": null,
      "metadata": {
        "colab": {
          "base_uri": "https://localhost:8080/"
        },
        "id": "IKH1KdrRrWYG",
        "outputId": "fe7db768-cee9-473e-e9ce-8c4ce991d150"
      },
      "outputs": [
        {
          "name": "stdout",
          "output_type": "stream",
          "text": [
            "+\n",
            "+\n"
          ]
        }
      ],
      "source": [
        "opera = random.choice([\"+\", \"*\"])\n",
        "print(opera)\n",
        "suma = \"+\"\n",
        "print(suma)"
      ]
    },
    {
      "cell_type": "code",
      "execution_count": null,
      "metadata": {
        "colab": {
          "base_uri": "https://localhost:8080/"
        },
        "id": "26DCoxiDs_4z",
        "outputId": "cf2c505e-88e5-4458-b697-8b614af62226"
      },
      "outputs": [
        {
          "name": "stdout",
          "output_type": "stream",
          "text": [
            "Cominzo del programa\n",
            "Final del programa\n",
            "Tiempo detenido 5.0055694580078125\n"
          ]
        }
      ],
      "source": [
        "#Función sleep del módula time\n",
        "import time\n",
        "\n",
        "print(\"Cominzo del programa\")\n",
        "inicio = time.time()\n",
        "time.sleep(5)\n",
        "\n",
        "\n",
        "print(\"Final del programa\")\n",
        "final = time.time()\n",
        "print(\"Tiempo detenido\", final - inicio)"
      ]
    },
    {
      "cell_type": "code",
      "execution_count": null,
      "metadata": {
        "colab": {
          "base_uri": "https://localhost:8080/"
        },
        "id": "Y-4xegyOuYDM",
        "outputId": "e24f5926-18af-4032-ad5d-bfcfd2a6f0ff"
      },
      "outputs": [
        {
          "name": "stdout",
          "output_type": "stream",
          "text": [
            "10\n",
            "9\n",
            "8\n",
            "7\n",
            "6\n",
            "5\n",
            "4\n",
            "3\n",
            "2\n",
            "1\n",
            "0\n",
            "Tiempo 10.014581203460693\n"
          ]
        }
      ],
      "source": [
        "#Un programa que lleva una cuenta regresiva desde los 10 segundo hasta 0\n",
        "import time\n",
        "# inicio = time.time()\n",
        "# for i in range(10):\n",
        "#   time.sleep(1)\n",
        "#   final = time.time()\n",
        "#   #restan = round ( 11 - (final - inicio)) \n",
        "#   print()\n",
        "#   print(\"Quedan\",round (11-(final-inicio)), \"segundos\")\n",
        "# print()\n",
        "# print(\"Fin del programa\")\n",
        "\n",
        "inicio = time.time()\n",
        "for i in range(10,-1,-1):\n",
        "  print(i)\n",
        "  time.sleep(1)\n",
        "final = time.time()\n",
        "print(\"Tiempo\", final - inicio-1)"
      ]
    },
    {
      "cell_type": "code",
      "execution_count": null,
      "metadata": {
        "colab": {
          "base_uri": "https://localhost:8080/"
        },
        "id": "mZgsndIPbxnL",
        "outputId": "5c5072cd-cfdc-46ed-f8a7-7581673bc763"
      },
      "outputs": [
        {
          "name": "stdout",
          "output_type": "stream",
          "text": [
            "10.0\n",
            "9.5\n",
            "9.0\n",
            "8.5\n",
            "8.0\n",
            "7.5\n",
            "7.0\n",
            "6.5\n",
            "6.0\n",
            "5.5\n",
            "5.0\n",
            "4.5\n",
            "4.0\n",
            "3.5\n",
            "3.0\n",
            "2.5\n",
            "2.0\n",
            "1.5\n",
            "1.0\n",
            "0.5\n",
            "0.0\n",
            "Tiempo 10.017256021499634\n"
          ]
        }
      ],
      "source": [
        "#Un programa que lleva una cuenta regresiva desde los 10 segundo hasta 0. cada 0.5\n",
        "import time\n",
        "# inicio = time.time()\n",
        "# for i in range(20):\n",
        "#   time.sleep(0.5)\n",
        "#   final = time.time()\n",
        "#   #restan = round ( 11 - (final - inicio)) \n",
        "#   print()\n",
        "#   print(\"Quedan\",round (11-(final-inicio),1), \"segundos\")\n",
        "# print()\n",
        "# print(\"Fin del programa\")\n",
        "\n",
        "inicio = time.time()\n",
        "for i in range(21):\n",
        "  print((20-i)/2)\n",
        "  time.sleep(0.5)\n",
        "final = time.time()\n",
        "print(\"Tiempo\", final - inicio - 0.5)"
      ]
    },
    {
      "cell_type": "code",
      "execution_count": null,
      "metadata": {
        "colab": {
          "base_uri": "https://localhost:8080/"
        },
        "id": "WOGdUo21hPX7",
        "outputId": "287e420f-a7f5-4c31-b59c-690072d9f2ec"
      },
      "outputs": [
        {
          "name": "stdout",
          "output_type": "stream",
          "text": [
            "\n",
            "500000500000\n",
            "Tiempo con while:  0.1194311879999077\n"
          ]
        }
      ],
      "source": [
        "#Comprobar si un codigo es más rápido que otro - CON WHILE\n",
        "import time\n",
        "inicio = time.perf_counter ()\n",
        "contador = 1\n",
        "suma = 0\n",
        "while contador < 1_000_001 :\n",
        "  suma += contador\n",
        "  contador += 1\n",
        "print()\n",
        "print(suma)\n",
        "final = time.perf_counter()\n",
        "print(\"Tiempo con while: \", final - inicio)"
      ]
    },
    {
      "cell_type": "code",
      "execution_count": null,
      "metadata": {
        "colab": {
          "base_uri": "https://localhost:8080/"
        },
        "id": "t_6AVuqnkE97",
        "outputId": "2011a85b-61a4-435e-8d19-303a358a7e7b"
      },
      "outputs": [
        {
          "name": "stdout",
          "output_type": "stream",
          "text": [
            "\n",
            "500000500000\n",
            "Tiempo con for:  0.07900110199989285\n"
          ]
        }
      ],
      "source": [
        "#Comprobar si un codigo es más rápido que otro - CON FOR\n",
        "import time\n",
        "inicio = time.perf_counter ()\n",
        "suma = 0\n",
        "for i in range (1_000_001) :\n",
        "  suma += i\n",
        "print()\n",
        "print(suma)\n",
        "final = time.perf_counter()\n",
        "print(\"Tiempo con for: \", final - inicio)"
      ]
    },
    {
      "cell_type": "code",
      "execution_count": null,
      "metadata": {
        "colab": {
          "base_uri": "https://localhost:8080/"
        },
        "id": "ggbKy2GVmUVM",
        "outputId": "710814e3-18bb-481a-b949-b43405afe284"
      },
      "outputs": [
        {
          "name": "stdout",
          "output_type": "stream",
          "text": [
            "[3, 2, 5, 4, 1]\n",
            "[6, 7, 9]\n"
          ]
        }
      ],
      "source": [
        "#Funcion de random.shuffle (mezcla los elementos de una llista) \n",
        "# Función random.sample coge elementos de una lista\n",
        "import random\n",
        "lista1 = [1, 2, 3, 4, 5]\n",
        "random.shuffle(lista1)\n",
        "print(lista1)\n",
        "\n",
        "lista2 = [6, 7, 8, 9, 10]\n",
        "lista_aux = random.sample(lista2, 3)\n",
        "print(lista_aux)\n"
      ]
    },
    {
      "cell_type": "code",
      "execution_count": null,
      "metadata": {
        "id": "OvQDWs51qg-y"
      },
      "outputs": [],
      "source": [
        "#juego  que muestre 3 colores por 4 segundos y despues te pregunta el orden, si aciertas ganas un punto\n",
        "import random\n",
        "import time\n",
        "colores = [\"rojo\", \"verde\", \"amarillo\", \"naranja\", \"negro\", \"blanco\", \"azul\", \"gris\"]\n",
        "puntos = 0\n",
        "color_1 = \"\"\n",
        "color_2 = \"\"\n",
        "color_3 = \"\"\n",
        "jugar = True\n",
        "print(\"JUEGO DE MEMORIZAR TRES COLORES\")\n",
        "print(\"-----------------------------\")\n",
        "time.sleep(3)\n",
        "print(\"Preparado.....\")\n",
        "time.sleep(2)\n",
        "print(\"AHORA......\")\n",
        "time.sleep(1)\n",
        "while jugar:\n",
        "  colores_juego = random.sample (colores, 3)\n",
        "  print(\"Memoriza estos colores:\")\n",
        "  print(colores_juego)\n",
        "  time.sleep(3)\n",
        "  for i in range (20):\n",
        "    print(\"***************************************\")\n",
        "  color_1 = input(\"Dime el primer color: \")\n",
        "  color_2 = input(\"Dime el segundo color: \")\n",
        "  color_3 = input(\"Dime el tercer color: \")\n",
        "  if color_1 == colores_juego[0] and color_2 == colores_juego[1] and\\\n",
        "   color_3 == colores_juego[2]:\n",
        "   puntos += 1\n",
        "   print()\n",
        "   print(\"-----------------------------\")\n",
        "   print(\"Has acertado, tienes\", puntos, \"puntos.\")\n",
        "   print(\"-----------------------------\")\n",
        "   print(\"Juguemos otra vez!\")\n",
        "   time.sleep(3)\n",
        "   print(\"Preparado.....\")\n",
        "   time.sleep(2)\n",
        "   print(\"AHORA......\")\n",
        "   time.sleep(1)\n",
        "  else:\n",
        "    print()\n",
        "    print(\"-----------------------------\")\n",
        "    print(\"No has acertado!\"\n",
        "    \"Juguemos otra vez!\")\n",
        "    time.sleep(3)\n",
        "    print(\"Preparado.....\")\n",
        "    time.sleep(2)\n",
        "    print(\"AHORA......\")\n",
        "    time.sleep(1)\n",
        "  \n",
        "   \n",
        "   \n",
        "  "
      ]
    },
    {
      "cell_type": "markdown",
      "metadata": {
        "id": "khYQRO9CX4lD"
      },
      "source": [
        "# NIVEL 10 - MÉTODOS"
      ]
    },
    {
      "cell_type": "code",
      "execution_count": null,
      "metadata": {
        "colab": {
          "base_uri": "https://localhost:8080/"
        },
        "id": "_WO9BPCbYDD9",
        "outputId": "f7bb9aca-42b9-4eb2-e5ed-c315dd882609"
      },
      "outputs": [
        {
          "name": "stdout",
          "output_type": "stream",
          "text": [
            "Hola quién eres?: cesar\n",
            "Hola Cesar\n",
            "Estás seguro que eres CESAR? n\n",
            "Entonces, cual es tu nombre y apellido?Pedro\n",
            "Perfecto Pedro\n"
          ]
        }
      ],
      "source": [
        "#HACER UN PROGRAMA USANDO LOWER , UPPER Y TITLE\n",
        "\n",
        "nombre = input(\"Hola quién eres?: \")\n",
        "nombre1 = nombre.title()\n",
        "print(\"Hola\", nombre1)\n",
        "respuesta = input(\"Estás seguro que eres \" + nombre1.upper() + \"? \")\n",
        "if respuesta.lower() == \"s\":\n",
        "  print(\"Un gusto conocerte\", nombre)\n",
        "else:\n",
        "  nombre2 = input(\"Entonces, cual es tu nombre? \")\n",
        "  nombre2 = nombre2.title()\n",
        "  print(\"Perfecto\", nombre2)\n",
        "\n"
      ]
    },
    {
      "cell_type": "code",
      "execution_count": null,
      "metadata": {
        "colab": {
          "base_uri": "https://localhost:8080/"
        },
        "id": "sTmuCSkej7ZO",
        "outputId": "2bdb7af3-11bb-41dd-b5d7-c26d42100c27"
      },
      "outputs": [
        {
          "name": "stdout",
          "output_type": "stream",
          "text": [
            "['Estaba', 'allí.', 'Era', 'un', 'pajaro,', 'en', 'la', 'ventana.', 'Pero', 'entonces,', 'de', 'repente,', 'se', 'echó', 'a', 'volar.']\n",
            "Estaba\n",
            "allí\n",
            "Era\n",
            "un\n",
            "pajaro\n",
            "en\n",
            "la\n",
            "ventana\n",
            "Pero\n",
            "entonces\n",
            "de\n",
            "repente\n",
            "se\n",
            "echó\n",
            "a\n",
            "volar\n"
          ]
        }
      ],
      "source": [
        "#Un programa que recoge todas las ppalabras de un texto y las separa sin puntos, espacios ni comas con .strip y .split\n",
        "texto = \" Estaba allí. Era un pajaro, en la ventana. Pero entonces, de repente, se echó a volar.\"\n",
        "texto1 = texto.split()\n",
        "print(texto1)\n",
        "\n",
        "for i in texto1:\n",
        "   texto2 = i.strip(\",\")\n",
        "   #print(texto2)\n",
        "   texto3 = texto2.strip(\".\")\n",
        "   print(texto3)\n",
        "\n"
      ]
    },
    {
      "cell_type": "code",
      "execution_count": null,
      "metadata": {
        "colab": {
          "base_uri": "https://localhost:8080/"
        },
        "id": "ol3im6JpCMtn",
        "outputId": "da8a699a-2794-4303-9842-e289a965181f"
      },
      "outputs": [
        {
          "name": "stdout",
          "output_type": "stream",
          "text": [
            "Modelo de Carta\n",
            "\n",
            "Indique el tratamiento: Sr. o Sra. Sr.\n",
            "Introduzca su nombre y apellido: Mario alvarez\n",
            "\n",
            "Sr. Mario Alvarez\n",
            "Nos complace invitarlo a nuestra reunión anual.\n",
            "Esperamos contar con su agradable presencia el día 15 de junio.\n",
            "La reunión se realizará en el salón principal\n",
            "Un saludo.\n",
            "\n",
            "Gerencia General\n",
            "Deseas enviar otra invitación? (s/n) s\n",
            "Indique el tratamiento: Sr. o Sra. Sr.\n",
            "Introduzca su nombre y apellido: jose perez\n",
            "\n",
            "Sr. Jose Perez\n",
            "Nos complace invitarlo a nuestra reunión anual.\n",
            "Esperamos contar con su agradable presencia el día 15 de junio.\n",
            "La reunión se realizará en el salón principal\n",
            "Un saludo.\n",
            "\n",
            "Gerencia General\n",
            "Deseas enviar otra invitación? (s/n) n\n"
          ]
        }
      ],
      "source": [
        "#Programa que haga una carta y que de tratamiento dependiendo de la persona con método format()\n",
        "print(\"Modelo de Carta\")\n",
        "print()\n",
        "\n",
        "while True:\n",
        "\n",
        "  tto = input(\"Indique el tratamiento: \" + \"Sr. o Sra. \")\n",
        "  nomb_ape = input(\"Introduzca su nombre y apellido: \")\n",
        "\n",
        "  if tto.title() == \"Sr.\":\n",
        "    inv = \"invitarlo\"\n",
        "  else:\n",
        "    inv = \"invitarla\"\n",
        "\n",
        "  print()\n",
        "  print( \"{} {}\\n\"\n",
        "  \"Nos complace {} a nuestra reunión anual.\\n\"\n",
        "  \"Esperamos contar con su agradable presencia el día 15 de junio.\\n\"\n",
        "  \"La reunión se realizará en el salón principal\\n\"\n",
        "  \"Un saludo.\\n\"\n",
        "  \"\\n\"\n",
        "  \"Gerencia General\".format(tto.title(), nomb_ape.title(),inv))\n",
        "  seguir = input(\"Deseas enviar otra invitación? (s/n) \")\n",
        "  print()\n",
        "  if seguir.lower() == \"n\":\n",
        "    break\n"
      ]
    },
    {
      "cell_type": "code",
      "execution_count": null,
      "metadata": {
        "colab": {
          "base_uri": "https://localhost:8080/"
        },
        "id": "nnZSjhG_wDJh",
        "outputId": "8d132f82-8cb2-4162-eacd-8a99e78a740c"
      },
      "outputs": [
        {
          "name": "stdout",
          "output_type": "stream",
          "text": [
            "\n",
            "                   PRESUPUESTO                    \n",
            "\n",
            "Tornillos   :     723*   23.20=    16773.60\n",
            "Tornillos   :     723*   23.20=    16773.60\n",
            "Tuercas     :     324*    4.50=     1458.00\n",
            "Tuercas     :     324*    4.50=     1458.00\n",
            "Arandelas   :      25*   35.00=      875.00\n",
            "Arandelas   :      25*   35.00=      875.00\n",
            "Puntas      :    1431*    2.15=     3076.65\n",
            "Puntas      :    1431*    2.15=     3076.65\n",
            "<class 'int'>\n"
          ]
        }
      ],
      "source": [
        "#Hacer un presupuesto con el método format dando espacios\n",
        "print()\n",
        "print(\"PRESUPUESTO\".center(50))\n",
        "print()\n",
        "\n",
        "compras = [[\"Tornillos\", 723, 23.2],\n",
        "           [\"Tuercas\", 324, 4.5],\n",
        "           [\"Arandelas\", 25, 35],\n",
        "           [\"Puntas\", 1431, 2.15]\n",
        "]\n",
        "\n",
        "for c in compras:\n",
        "  #print(\"{}:{}*{}={}\".format(c[0],c[1],c[2],c[1]*c[2])) #Así el formato es muy desorganizado\n",
        "  print(\"{0:12}:{1:8d}*{2:8.2f}={3:12.2f}\".format(c[0],c[1],c[2],c[1]*c[2]))\n",
        "  print(\"{0:12}:{1:8}*{2:8.2f}={3:12.2f}\".format(c[0],c[1],c[2],c[1]*c[2]))\n",
        "  #La letra d hace referencia a que solo acepta números enteros\n",
        "  #La letra f hace referencia a que solo acepta números decimales\n",
        "  #Despues de los dos puntos : se indica la cantidad de espacio que tendrá disponible ese campo\n",
        "print(type(c[1]))"
      ]
    },
    {
      "cell_type": "code",
      "execution_count": null,
      "metadata": {
        "colab": {
          "base_uri": "https://localhost:8080/"
        },
        "id": "z-AdWTodJR16",
        "outputId": "17f4ef09-7732-40a0-d22d-77df7943960d"
      },
      "outputs": [
        {
          "name": "stdout",
          "output_type": "stream",
          "text": [
            "139897935801920\n",
            "[1, 2, 3, 4, 5, 6, 7, 8, 9, 10, 11, 12, 13, 14, 15, 16, 17, 18, 19, 20, 21, 22, 23, 24, 25, 26, 27, 28, 29, 30, 31, 32, 33, 34, 35, 36, 37, 38, 39, 40, 41, 42, 43, 44, 45, 46, 47, 48, 49, 50, 51, 52, 53, 54, 55, 56, 57, 58, 59, 60, 61, 62, 63, 64, 65, 66, 67, 68, 69, 70, 71, 72, 73, 74, 75, 76, 77, 78, 79, 80, 81, 82, 83, 84, 85, 86, 87, 88, 89, 90, 91, 92, 93, 94, 95, 96, 97, 98, 99, 100]\n",
            "139897935801920\n"
          ]
        }
      ],
      "source": [
        "#Metodos de listas, agregar a una lista los numeros del 1 al 100 sin cambiar el id del objeto\n",
        "lista = []\n",
        "print(id(lista))\n",
        "\n",
        "for i in range (1,101):\n",
        "  lista.append (i)\n",
        "print(lista)\n",
        "print(id(lista))"
      ]
    },
    {
      "cell_type": "code",
      "execution_count": null,
      "metadata": {
        "colab": {
          "base_uri": "https://localhost:8080/"
        },
        "id": "9S8O4T46KREL",
        "outputId": "9961e8bf-3c48-459c-f53d-619b60330cad"
      },
      "outputs": [
        {
          "name": "stdout",
          "output_type": "stream",
          "text": [
            "139897935813056\n",
            "[1, 2, 3, 4, 5, 6, 7, 8, 9, 10, 11, 12, 13, 14, 15, 16, 17, 18, 19, 20, 21, 22, 23, 24, 25, 26, 27, 28, 29, 30, 31, 32, 33, 34, 35, 36, 37, 38, 39, 40, 41, 42, 43, 44, 45, 46, 47, 48, 49, 50, 51, 52, 53, 54, 55, 56, 57, 58, 59, 60, 61, 62, 63, 64, 65, 66, 67, 68, 69, 70, 71, 72, 73, 74, 75, 76, 77, 78, 79, 80, 81, 82, 83, 84, 85, 86, 87, 88, 89, 90, 91, 92, 93, 94, 95, 96, 97, 98, 99, 100]\n",
            "139897935637056\n"
          ]
        }
      ],
      "source": [
        "#Metodos de listas, agregar a una lista los numeros del 1 al 100 CAMBIANDO el id del objeto\n",
        "lista = []\n",
        "print(id(lista))\n",
        "\n",
        "for i in range (1,101):\n",
        "  lista = lista + [i]\n",
        "print(lista)\n",
        "print(id(lista))"
      ]
    },
    {
      "cell_type": "code",
      "execution_count": null,
      "metadata": {
        "colab": {
          "base_uri": "https://localhost:8080/"
        },
        "id": "oQeu1oSdT_TA",
        "outputId": "4db58373-51a6-4f99-efe3-be8407545189"
      },
      "outputs": [
        {
          "name": "stdout",
          "output_type": "stream",
          "text": [
            "Lsiat par:    [4, 8, 26, 28, 34, 42, 44]\n",
            "\n",
            "Lista impar:  [1, 3, 7, 9, 13, 29, 37, 39, 41, 43]\n"
          ]
        }
      ],
      "source": [
        "#Separar de una lista con varios números , los pares e impares\n",
        "lista_general = [1, 3, 4, 7, 8, 9, 13, 26, 28, 29, 34, 37, 39, 41, 42, 43, 44]\n",
        "lista_par= []\n",
        "lista_impar = []\n",
        "\n",
        "for i in lista_general:\n",
        "  if i % 2 == 0:\n",
        "    lista_par.append (i)\n",
        "  elif i % 2 != 0:\n",
        "    lista_impar.append(i)\n",
        "\n",
        "print(\"Lsiat par:   \", lista_par)\n",
        "print()\n",
        "print(\"Lista impar: \", lista_impar)"
      ]
    },
    {
      "cell_type": "code",
      "execution_count": null,
      "metadata": {
        "colab": {
          "base_uri": "https://localhost:8080/"
        },
        "id": "k5h3BnFPWw39",
        "outputId": "a3adc62c-fab8-4a75-a10a-c4f5e3d8b5fb"
      },
      "outputs": [
        {
          "name": "stdout",
          "output_type": "stream",
          "text": [
            "Dime un producto: agua\n",
            "Quieres ingresar otro producto? (s/n) s\n",
            "Dime un producto: sal\n",
            "Quieres ingresar otro producto? (s/n) s\n",
            "Dime un producto: pasta\n",
            "Quieres ingresar otro producto? (s/n) n\n",
            "Tu lista es la siguiente:  ['agua', 'sal', 'pasta']\n"
          ]
        }
      ],
      "source": [
        "#un programa que te pida una lista de productos y que te muestre la lista cuando no quieras agregar más. append agrega un valor a la vez\n",
        "productos= []\n",
        "while True:  \n",
        "  n = input(\"Dime un producto: \")\n",
        "  productos.append (n)\n",
        "  pregunta = input (\"Quieres ingresar otro producto? (s/n) \")\n",
        "  if pregunta.title () == \"N\":\n",
        "    break\n",
        "    print()\n",
        "print(\"Tu lista es la siguiente: \", productos)"
      ]
    },
    {
      "cell_type": "code",
      "execution_count": null,
      "metadata": {
        "colab": {
          "base_uri": "https://localhost:8080/"
        },
        "id": "cvZUJmnBZ1dG",
        "outputId": "84540c3f-1c98-4a0f-8be3-e1aa4dfbc155"
      },
      "outputs": [
        {
          "name": "stdout",
          "output_type": "stream",
          "text": [
            "[1, 2, 3, 4, 5]\n"
          ]
        }
      ],
      "source": [
        "# el metodo extend agrega un conjunto iterable no un valor. \n",
        "#Crea una lista con los números enteros del 1 al 5\n",
        "\n",
        "n = [1, 2, 3]\n",
        "m = [4, 5]\n",
        "n.extend (m)\n",
        "print(n)"
      ]
    },
    {
      "cell_type": "code",
      "execution_count": null,
      "metadata": {
        "colab": {
          "base_uri": "https://localhost:8080/"
        },
        "id": "gtb-OkHWads5",
        "outputId": "e11507a6-bc01-4119-c159-c6e54385cfcc"
      },
      "outputs": [
        {
          "name": "stdout",
          "output_type": "stream",
          "text": [
            "139897934700352\n",
            "[1, 2, 3, 4, 5]\n",
            "139897934700352\n"
          ]
        }
      ],
      "source": [
        "n = [1, 2, 3, 4]\n",
        "m = [5]\n",
        "print(id(n))\n",
        "n.append (m[0])\n",
        "print(n)\n",
        "print(id(n))"
      ]
    },
    {
      "cell_type": "code",
      "execution_count": null,
      "metadata": {
        "colab": {
          "base_uri": "https://localhost:8080/"
        },
        "id": "sMNJP1HAbmzw",
        "outputId": "11647221-78de-495c-f036-451ccf001c4e"
      },
      "outputs": [
        {
          "name": "stdout",
          "output_type": "stream",
          "text": [
            "[1, 2, 3, 4, 5]\n"
          ]
        }
      ],
      "source": [
        "#Metodo inser añade a una lista un elemnto en el lugar que queramos\n",
        "#Crea una lista con los números enteros del 1 al 5 \n",
        "m = 1\n",
        "n = [2, 3]\n",
        "s = [4]\n",
        "t = 5\n",
        "v = []\n",
        "v.append(m)\n",
        "v.extend(n)\n",
        "v.append (s[0])\n",
        "v.append (t)\n",
        "print(v)"
      ]
    },
    {
      "cell_type": "markdown",
      "metadata": {
        "id": "hVtppacvt5mk"
      },
      "source": [
        "# **NUMPY** - Vectores y matrices"
      ]
    },
    {
      "cell_type": "markdown",
      "metadata": {
        "id": "6FfT37I86DZy"
      },
      "source": [
        "https://www.youtube.com/watch?v=nN_TYjT_KiI video en youtube\n",
        "\n",
        ".**shape** : forma de la matriz\n",
        "\n",
        ".**reshape** : \n",
        "\n",
        ".**ndim** : dimensión de la matriz\n",
        "\n",
        ".**dtype.name** : tipo de elementos de la matriz\n",
        "\n",
        ".**itemsize** : \n",
        "\n",
        ".**size** : número de elementos que tiene la matriz\n",
        "\n",
        "**type**() : la clase a la que pertenece la matriz\n",
        "\n",
        ".**linspace** (n, m, x) : genera un vector con valor inicial, valor final y cantidad de puntos a dividir\n",
        "\n",
        ".**random.seed** (n) : \n",
        "\n",
        ".**random.randn** (n) :\n",
        "\n",
        ".**random.randit**(n,m,x): genera valores aleatorios con valor inicial, valor final, y la cantidad de numeros a generar.\n",
        "\n",
        "extraer vectores con el operador \"**:**\"\n",
        ".**zero** ((n,m)) : genera filas y columnas con ceros\n",
        "\n",
        ".**ones** ((n,m)) : genera filas con unos\n",
        "se pueden aplicar operadores aritmeticos + - * /\n",
        "\n",
        ".**arrange** (n,m,x) : para generar arrary, valor inicial, valor final y pasos"
      ]
    },
    {
      "cell_type": "code",
      "execution_count": null,
      "metadata": {
        "colab": {
          "base_uri": "https://localhost:8080/"
        },
        "id": "LCjhNx4Jt9jI",
        "outputId": "2f49572d-4262-4af9-d27e-62b9ff119bd3"
      },
      "outputs": [
        {
          "name": "stdout",
          "output_type": "stream",
          "text": [
            "<class 'numpy.ndarray'>\n",
            "123\n",
            "\n",
            "<class 'numpy.ndarray'>\n",
            "[1 2 3]\n",
            "\n",
            "[[1 2 3]\n",
            " [4 5 6]]\n",
            "<class 'numpy.ndarray'>\n",
            "\n",
            "\n",
            "[[[ 1  2  3]\n",
            "  [ 4  5  6]]\n",
            "\n",
            " [[ 9 25 36]\n",
            "  [41 25 36]]]\n",
            "3\n"
          ]
        }
      ],
      "source": [
        "import numpy as np\n",
        "#USAR SIEMPRE numpy.array o en su defecto np.arrary\n",
        "array_1 = np.array (123) #Matriz sin dimensión o dimensión cero\n",
        "print(type(array_1))\n",
        "print(array_1)\n",
        "print()\n",
        "\n",
        "array_2 = np.array ([1, 2, 3]) #vector o matriz de una dimensión\n",
        "print(type(array_2))\n",
        "print(array_2)\n",
        "print()\n",
        "\n",
        "array_3 = np.array ([[1, 2, 3], [4, 5, 6]]) #Matriz de dos dimensiones\n",
        "print(array_3)\n",
        "print(type(array_3))\n",
        "print()\n",
        "\n",
        "print()\n",
        "array_4 = np.array ([[[1, 2, 3], [4, 5, 6]], [[9, 25, 36], [41, 25, 36]]]) #Matriz con 3 dimensiones y se pueden hacer con más dimensiones\n",
        "print(array_4)\n",
        "print(array_4.ndim) #arroja las dimenciones"
      ]
    },
    {
      "cell_type": "code",
      "execution_count": null,
      "metadata": {
        "colab": {
          "base_uri": "https://localhost:8080/"
        },
        "id": "X_3s5L2JdMyq",
        "outputId": "03178d2e-1bb8-4170-8645-07726508d18a"
      },
      "outputs": [
        {
          "name": "stdout",
          "output_type": "stream",
          "text": [
            "1\n",
            "[4 5 6 7]\n",
            "\n",
            "6\n",
            "\n",
            "[[[ 1  2  3]\n",
            "  [ 4  5  6]]\n",
            "\n",
            " [[ 7  8  9]\n",
            "  [10 11 12]]]\n",
            "8\n"
          ]
        }
      ],
      "source": [
        "#Indexar un array\n",
        "import numpy as np\n",
        "array_index = np.array ([1, 2, 3, 4, 5, 6, 7, 8, 9, 10])\n",
        "print(array_index[0])\n",
        "print(array_index[3:7])\n",
        "print()\n",
        "\n",
        "array_2d = np.array([[1, 2, 3], [ 4, 5, 6]])\n",
        "print(array_2d [1,2]) #El primer indice indica la dimensión y el segundo indice la posición del elemento o lo que eigual a FILA y COLUMNA\n",
        "print()\n",
        "\n",
        "array_3d = np.array([[[1, 2, 3], [ 4, 5, 6]], [[7, 8, 9], [10, 11, 12]]])\n",
        "print(array_3d)\n",
        "print(array_3d[1,0,1]) #En 3d el primer indice es profundidad, el segundo indice es la fila y el tercer indice la columna\n",
        "\n",
        "\n",
        "                   \n"
      ]
    },
    {
      "cell_type": "code",
      "execution_count": null,
      "metadata": {
        "colab": {
          "base_uri": "https://localhost:8080/"
        },
        "id": "Fx6dla6CiZJ6",
        "outputId": "6d565e84-5874-45cb-8551-ee6348e40208"
      },
      "outputs": [
        {
          "name": "stdout",
          "output_type": "stream",
          "text": [
            "[1 2 3 4]\n",
            "(4,)\n",
            "\n",
            "[[1 2 3]\n",
            " [4 5 6]]\n",
            "(2, 3)\n",
            "\n",
            "[[3 4 5]\n",
            " [6 7 8]]\n",
            "-----------\n",
            "[[3 4]\n",
            " [5 6]\n",
            " [7 8]]\n",
            "(3, 2)\n"
          ]
        }
      ],
      "source": [
        "#Más ejercicios con arrays con np.shape(nombre_array)\n",
        "import numpy as np\n",
        "array_01 = np.array ([1, 2, 3, 4])\n",
        "print(array_01)\n",
        "print(np.shape(array_01)) #Indca cuantas dimensiones tiene una array, en este caso una dimensión de 4 elementos\n",
        "print()\n",
        "\n",
        "array_02 = np.array([[1, 2, 3], [ 4, 5, 6]])\n",
        "print(array_02)\n",
        "print(np.shape(array_02)) #En este caso tiene 2 dimensiones de 3 elementos (2 filas y 3 columnas)\n",
        "print()\n",
        "\n",
        "array_03 = np.array([[3, 4, 5], [ 6, 7, 8]])\n",
        "print(array_03)\n",
        "print(\"-----------\")\n",
        "\n",
        "array_03 = array_03.reshape(3,2) #Cambia la distribución y transforma a 3 filas y 2 columnas\n",
        "print(array_03)\n",
        "print(np.shape(array_03))"
      ]
    },
    {
      "cell_type": "code",
      "execution_count": null,
      "metadata": {
        "colab": {
          "base_uri": "https://localhost:8080/"
        },
        "id": "DsXzboG6l5nr",
        "outputId": "d18e0fd8-f885-424c-feb3-d3c45b1709d4"
      },
      "outputs": [
        {
          "name": "stdout",
          "output_type": "stream",
          "text": [
            "[1 2 3]\n",
            "[4 5 6]\n",
            "\n",
            "------------\n",
            "[[[ 1  2  3]\n",
            "  [ 4  5  6]]\n",
            "\n",
            " [[ 7  8  9]\n",
            "  [10 11 12]]]\n",
            "\n",
            "[1 2 3]\n",
            "[4 5 6]\n",
            "[7 8 9]\n",
            "[10 11 12]\n",
            "---------------\n",
            "5\n"
          ]
        }
      ],
      "source": [
        "#Iterar en un array\n",
        "#En una matriz de 2 dimensiones se usa 2 bucles y en una de 3 se usan 3 bucles y asi sucesivamente para imprimir CADA ELEMENTO.\n",
        "import numpy as np\n",
        "array_iterar_01 = np.array([[1, 2, 3], [ 4, 5, 6]])\n",
        "for fila in array_iterar_01:\n",
        "  print(fila)\n",
        "print()\n",
        "\n",
        "print(\"------------\")\n",
        "array_iterar_3d = np.array([[[1, 2, 3], [ 4, 5, 6]], [[7, 8, 9], [10, 11, 12]]])\n",
        "print(array_iterar_3d)\n",
        "print()\n",
        "for matriz in array_iterar_3d: #Primero itera en la primera dimensión y después a la segunda\n",
        "  for fila in matriz: #Itera por los valores de de cada dimensión\n",
        "    print(fila)\n",
        "print(\"---------------\")\n",
        "\n",
        "for matriz in array_iterar_3d: #Primero itera en la primera dimensión y después a la segunda\n",
        "  for fila in matriz: #Itera por los valores de de cada dimensión\n",
        "    for elemento in fila:\n",
        "        print(elemento)"
      ]
    },
    {
      "cell_type": "code",
      "execution_count": null,
      "metadata": {
        "colab": {
          "base_uri": "https://localhost:8080/"
        },
        "id": "1l1rBIIjq1R3",
        "outputId": "22a76abc-1a29-4df2-96a1-6bb87fb4ce8a"
      },
      "outputs": [
        {
          "name": "stdout",
          "output_type": "stream",
          "text": [
            "[1 2 3 4 5 6]\n",
            "\n",
            "[[1 2]\n",
            " [3 4]\n",
            " [5 6]\n",
            " [7 8]]\n",
            "\n",
            "[[1 2 5 6]\n",
            " [3 4 7 8]]\n"
          ]
        }
      ],
      "source": [
        "#Unión de arrays y cambios de ejes, DEBEN tener la misma dimensión\n",
        "import numpy as np\n",
        "array_1 = np.array ([1, 2, 3])\n",
        "array_2 = np.array ([ 4, 5, 6])\n",
        "array = np.concatenate ((array_1, array_2))\n",
        "print(array)\n",
        "print()\n",
        "\n",
        "array_3 = np.array ([[1, 2,], [3, 4]])\n",
        "array_4 = np.array ([[5, 6], [7, 8]])\n",
        "array_5 = np.concatenate ((array_3, array_4))\n",
        "print (array_5)\n",
        "print()\n",
        "array_5 = np.concatenate ((array_3, array_4), axis = 1) #cambia el eje e invierte el tamaño de filas y columnas\n",
        "print (array_5)"
      ]
    },
    {
      "cell_type": "code",
      "execution_count": null,
      "metadata": {
        "colab": {
          "base_uri": "https://localhost:8080/"
        },
        "id": "rZxFEsMmuGIi",
        "outputId": "3d9a4bb5-dce1-48b9-e748-daf6069f4475"
      },
      "outputs": [
        {
          "name": "stdout",
          "output_type": "stream",
          "text": [
            "[array([3, 4]), array([5, 6]), array([7, 8])]\n"
          ]
        }
      ],
      "source": [
        "#funcion split\n",
        "import numpy as np\n",
        "array_z = np.array([3, 4, 5,  6, 7, 8])\n",
        "newarr = np.split(array_z, 3)\n",
        "print(newarr)\n",
        "\n"
      ]
    },
    {
      "cell_type": "code",
      "execution_count": null,
      "metadata": {
        "colab": {
          "base_uri": "https://localhost:8080/"
        },
        "id": "fQG88CFBvcEO",
        "outputId": "d5e09042-8783-468a-f3dc-1d2dce16c0db"
      },
      "outputs": [
        {
          "name": "stdout",
          "output_type": "stream",
          "text": [
            "(array([3, 5, 6]),)\n",
            "\n",
            "(array([], dtype=int64),)\n",
            "\n",
            "[0 1 2 3]\n"
          ]
        }
      ],
      "source": [
        "#Buscar un elemento\n",
        "import numpy as np\n",
        "n = np.array([1, 2, 3, 4, 5, 4, 4]) \n",
        "x = np.where (n == 4) #Devulve el indice donde está el elemento\n",
        "print(x)\n",
        "print()\n",
        "y = np.where (n == 8) #sino está lo devuleve vacio\n",
        "print(y)\n",
        "print()\n",
        "arr = np.array ([3, 2, 1, 0])\n",
        "print(np.sort(arr)) #Ordena los elementos de un array\n"
      ]
    },
    {
      "cell_type": "code",
      "execution_count": null,
      "metadata": {
        "colab": {
          "base_uri": "https://localhost:8080/"
        },
        "id": "ZjPkCdLm1lz1",
        "outputId": "7ebbb3a7-8cad-4354-fd2b-4271bd52bbb9"
      },
      "outputs": [
        {
          "name": "stdout",
          "output_type": "stream",
          "text": [
            "0\n",
            "4\n",
            "2\n",
            "3\n",
            "2\n",
            "4\n",
            "2\n",
            "4\n",
            "4\n",
            "6\n",
            "\n",
            "0.12285092108284035\n",
            "0.12\n",
            "\n",
            "0.38946316406070414\n",
            "5.39\n"
          ]
        }
      ],
      "source": [
        "#Modulo random.randit\n",
        "from numpy import random\n",
        "\n",
        "for x in range(10):\n",
        "  num = random.randint(10) #Genera un numero entero entre 0 y 9\n",
        "  print(num)\n",
        "print()\n",
        "\n",
        "num_2 = random.rand() #Genera un número decimal entre 0 y 1 con un montón de decimales\n",
        "print(num_2)\n",
        "print(round(num_2, 2)) #redondeas con 2 decimales\n",
        "print()\n",
        "\n",
        "num_3 = random.rand()\n",
        "print(num_3)\n",
        "print(round(num_3, 2)+5) #Puedes sumar cualquier numero al resultado de los decimales  en este caso se suma 5\n"
      ]
    },
    {
      "cell_type": "code",
      "execution_count": null,
      "metadata": {
        "colab": {
          "base_uri": "https://localhost:8080/"
        },
        "id": "BYcd6I9I1t9p",
        "outputId": "f8ffa9c7-d8b1-4639-e8a4-7bb34204ee85"
      },
      "outputs": [
        {
          "name": "stdout",
          "output_type": "stream",
          "text": [
            "[2 6 1 3 4 1 3 6 3 1 2 4 7 1 5 6 6 5 3 0]\n",
            "\n",
            "[[2 4 0 7 4]\n",
            " [3 3 3 1 9]\n",
            " [8 5 4 8 4]]\n",
            "\n",
            "[0.74368739 0.08138165 0.87877196 0.59600785 0.36677214]\n",
            "\n",
            "[[0.03624932 0.22888667 0.01355384 0.68422131 0.99866216]\n",
            " [0.61088075 0.62080651 0.48923347 0.01134215 0.2497418 ]\n",
            " [0.50176971 0.70590396 0.95601961 0.41800976 0.18106452]]\n"
          ]
        }
      ],
      "source": [
        "#Modulo random generar matrices con random\n",
        "from numpy import random\n",
        "numeros = random.randint(10, size=(20)) #Genera una matriz con números aleatorios hasta el 9 de 1 fila con 20 columnas\n",
        "print(numeros)\n",
        "print()\n",
        "\n",
        "numeros_2 = random.randint(10, size=(3,5)) #Genera una matriz con números aleatorios hasta el 9 de 5 fila con 5 columnas\n",
        "print(numeros_2)\n",
        "print()\n",
        "\n",
        "numeros_3 = random.rand(5)\n",
        "print(numeros_3)\n",
        "print()\n",
        "\n",
        "numeros_4 = random.rand(3,5)\n",
        "print(numeros_4)"
      ]
    },
    {
      "cell_type": "code",
      "execution_count": null,
      "metadata": {
        "colab": {
          "base_uri": "https://localhost:8080/"
        },
        "id": "X-lJ_mWI4r-w",
        "outputId": "39ce252a-7879-45f0-863b-02b06b13192b"
      },
      "outputs": [
        {
          "name": "stdout",
          "output_type": "stream",
          "text": [
            "El ganador del sorteo es:  Isabel\n",
            "\n",
            "Los ganadores del sorteo son:  ['Alfonso,' 'Lucia' 'Lucia']\n",
            "\n",
            "[['Sergio' 'Lucia' 'Sergio' 'Alfonso,' 'Lucia']\n",
            " ['Lucia' 'Alfonso,' 'Marcos' 'Marcos' 'Isabel']\n",
            " ['Isabel' 'Marcos' 'alberto' 'Lucia' 'Marcos']]\n",
            "\n",
            "[[7 0 4 9 8]\n",
            " [9 5 0 7 2]\n",
            " [5 8 6 1 5]]\n"
          ]
        }
      ],
      "source": [
        "# funcion choice\n",
        "from numpy import random\n",
        "\n",
        "lista_nombres = [\"alberto\", \"Alfonso,\", \"Lucia\", \"Isabel\", \"Marcos\", \"Sergio\"]\n",
        "ganador = random.choice(lista_nombres)\n",
        "print(\"El ganador del sorteo es: \", ganador)\n",
        "print()\n",
        "\n",
        "ganador1 = random.choice(lista_nombres, size=(3))\n",
        "print(\"Los ganadores del sorteo son: \", ganador1)\n",
        "print()\n",
        "\n",
        "ganador2 = random.choice(lista_nombres, size=(3,5))\n",
        "print(ganador2)\n",
        "print()\n",
        "\n",
        "lista_num = [1, 2, 4, 5, 6, 7, 8, 9, 0]\n",
        "generar = random.choice(lista_num, size = (3,5))\n",
        "print(generar)"
      ]
    },
    {
      "cell_type": "markdown",
      "metadata": {
        "id": "vOarXtLs8uon"
      },
      "source": [
        "# **MATPLOTLIB** - Gráficos"
      ]
    },
    {
      "cell_type": "markdown",
      "metadata": {
        "id": "fPvMgUNSKJcz"
      },
      "source": [
        "https://www.youtube.com/watch?v=QPaHUBphDgo video youtube\n",
        "\n",
        "https://matplotlib.org/stable/api/_as_gen/matplotlib.pyplot.plot.html\n",
        "documentación\n"
      ]
    },
    {
      "cell_type": "code",
      "execution_count": null,
      "metadata": {
        "colab": {
          "base_uri": "https://localhost:8080/",
          "height": 452
        },
        "id": "g-cjAa-G82Bq",
        "outputId": "cd63ad36-f707-4f10-9464-962262eec9e2"
      },
      "outputs": [
        {
          "data": {
            "image/png": "[encoded data removed]",
            "text/plain": [
              "<Figure size 640x480 with 1 Axes>"
            ]
          },
          "metadata": {},
          "output_type": "display_data"
        },
        {
          "name": "stdout",
          "output_type": "stream",
          "text": [
            "\n"
          ]
        }
      ],
      "source": [
        "import matplotlib.pyplot as plt\n",
        "#Ejercicio para hacer graficos de la población de un país\n",
        "#Graficos de lineas o Line Plot\n",
        "\n",
        "#País 1\n",
        "anos = [2016, 2017, 2018, 2019, 2020, 2021] #eje x\n",
        "habitantes_millones = [45, 46, 47, 48, 50, 51] #eje y\n",
        "plt.plot(anos, habitantes_millones)\n",
        "#plt.plot(anos, habitantes_millones, \"ro\") #\"ro\" representa r de Red y o para asignar circulos\n",
        "plt.axis([2010,2030,40,60]) #Asigna valor limites de las ordenaas y las abcisas(es opcional)\n",
        "\n",
        "plt.show() #Quita el código superior que no queremos\n",
        "print()\n",
        "\n",
        "plt.show() #Quita el código superior que no queremos, se pone siempre al final\n"
      ]
    },
    {
      "cell_type": "code",
      "execution_count": null,
      "metadata": {
        "colab": {
          "base_uri": "https://localhost:8080/",
          "height": 564
        },
        "id": "s1sqapiITNCk",
        "outputId": "5f20173f-ac6c-43fb-d303-ccf69ab2bbb4"
      },
      "outputs": [
        {
          "data": {
            "image/png": "[encoded data removed]",
            "text/plain": [
              "<Figure size 1000x600 with 1 Axes>"
            ]
          },
          "metadata": {},
          "output_type": "display_data"
        }
      ],
      "source": [
        "#Grafico con dos vectores (2 Países)\n",
        "\n",
        "plt.figure(figsize=(10,6)) #cambia el tamaño general del grafico\n",
        "\n",
        "#País 1\n",
        "anos = [2016, 2017, 2018, 2019, 2020, 2021] #eje x\n",
        "habitantes_millones = [42, 43, 45, 48, 50, 51] #eje y\n",
        "\n",
        "#País 2\n",
        "anos_2 = [2016, 2017, 2018, 2019, 2020, 2021]\n",
        "habitantes_2 = [43, 44, 45, 47, 47, 48]\n",
        "\n",
        "plt.plot(anos, habitantes_millones)\n",
        "plt.plot(anos_2, habitantes_2)\n",
        "\n",
        "\n",
        "\n",
        "plt.plot(anos, habitantes_millones, marker= \"o\", linestyle= \"--\", color= \"r\", label=\"Colombia\") #agregar puntos a las lineas, estilos y colores\n",
        "plt.plot(anos_2, habitantes_2, marker= \"d\", linestyle= \"-\", color= \"g\", label=\"Argentina\")\n",
        "\n",
        "plt.xlabel(\"Años\") #Agregar nombres a los ejes\n",
        "plt.ylabel(\"M. de habitantes\")\n",
        "plt.title(\"Años vs habitantes\")\n",
        "plt.legend(loc=\"lower right\")\n",
        "\n",
        "plt.yticks([41,43, 45,48,51]) #Cambiar numeros de los ejes con funcion tics, Tienen que estar dentro de la lista\n",
        "\n",
        "plt.savefig(\"ejemplo.png\")#Para guardar pero no entendí donde lo guarda\n",
        "\n",
        "plt.show() #Quita el código superior que no queremos, se pone siempre al final"
      ]
    },
    {
      "cell_type": "code",
      "execution_count": null,
      "metadata": {
        "colab": {
          "base_uri": "https://localhost:8080/",
          "height": 430
        },
        "id": "UmqEZISYXSYy",
        "outputId": "4e023732-a39b-46ef-e265-f016330cd3eb"
      },
      "outputs": [
        {
          "data": {
            "image/png": "[encoded data removed]",
            "text/plain": [
              "<Figure size 640x480 with 1 Axes>"
            ]
          },
          "metadata": {},
          "output_type": "display_data"
        }
      ],
      "source": [
        "#graficos de barra o Bar Plots\n",
        "\n",
        "x= [\"Argentina\", \"Colombia\", \"Perú\"]\n",
        "y = [40, 50, 33]\n",
        "plt.bar (x,y)\n",
        "plt.show()"
      ]
    },
    {
      "cell_type": "code",
      "execution_count": null,
      "metadata": {
        "colab": {
          "base_uri": "https://localhost:8080/",
          "height": 406
        },
        "id": "8cNkjd1cYoPa",
        "outputId": "6eee348c-e984-4433-944c-eea8cd70f325"
      },
      "outputs": [
        {
          "data": {
            "image/png": "[encoded data removed]",
            "text/plain": [
              "<Figure size 640x480 with 1 Axes>"
            ]
          },
          "metadata": {},
          "output_type": "display_data"
        }
      ],
      "source": [
        "#Grafica de circulos o Piecharts\n",
        "\n",
        "x= [\"Argentina\", \"Colombia\", \"Perú\"]\n",
        "y = [40, 50, 33]\n",
        "\n",
        "plt.pie(y, labels=x)\n",
        "\n",
        "plt.show()"
      ]
    },
    {
      "cell_type": "code",
      "execution_count": null,
      "metadata": {
        "colab": {
          "base_uri": "https://localhost:8080/",
          "height": 430
        },
        "id": "897v_NkqZinv",
        "outputId": "ef231a15-afc2-46ea-94ae-ae544a3c2549"
      },
      "outputs": [
        {
          "data": {
            "image/png": "[encoded data removed]",
            "text/plain": [
              "<Figure size 640x480 with 1 Axes>"
            ]
          },
          "metadata": {},
          "output_type": "display_data"
        }
      ],
      "source": [
        "#Histogramas o Histogram\n",
        "\n",
        "edades= [15, 16, 17, 20, 21, 21, 22 ,23, 24, 25, 26,30, 31, 32, 35]\n",
        "bins= [15, 20, 25, 30, 35]\n",
        "\n",
        "plt.hist(edades, bins, edgecolor= \"black\")\n",
        "\n",
        "plt.show()"
      ]
    },
    {
      "cell_type": "code",
      "execution_count": null,
      "metadata": {
        "colab": {
          "base_uri": "https://localhost:8080/",
          "height": 447
        },
        "id": "aLN-TGw1ak9J",
        "outputId": "3890dbba-578a-410a-f49b-00d023014ec0"
      },
      "outputs": [
        {
          "data": {
            "text/plain": [
              "<function matplotlib.pyplot.show(close=None, block=None)>"
            ]
          },
          "execution_count": 37,
          "metadata": {},
          "output_type": "execute_result"
        },
        {
          "data": {
            "image/png": "[encoded data removed]",
            "text/plain": [
              "<Figure size 640x480 with 1 Axes>"
            ]
          },
          "metadata": {},
          "output_type": "display_data"
        }
      ],
      "source": [
        "#Grafico de cajas o Boxplots\n",
        "\n",
        "edades= [15, 16, 17, 20, 21, 21, 22 ,23, 24, 25, 26,30, 31, 32, 35, 60]\n",
        "bins= [15, 20, 25, 30, 35]\n",
        "\n",
        "plt.boxplot(edades)\n",
        "plt.show"
      ]
    },
    {
      "cell_type": "code",
      "execution_count": null,
      "metadata": {
        "colab": {
          "base_uri": "https://localhost:8080/",
          "height": 430
        },
        "id": "GgfZ2WUMa-zi",
        "outputId": "e9827be3-ff7c-4900-e8c9-c26c518aa7dc"
      },
      "outputs": [
        {
          "data": {
            "image/png": "[encoded data removed]",
            "text/plain": [
              "<Figure size 640x480 with 1 Axes>"
            ]
          },
          "metadata": {},
          "output_type": "display_data"
        }
      ],
      "source": [
        "#Grafico de dispersión p Scatterplo\n",
        "\n",
        "a = [1, 2, 3, 4, 5, 4, 3, 2, 2, 4, 5, 6, 7]\n",
        "b = [7, 2, 3, 5, 5, 7, 3, 2, 1, 4, 6, 3, 2]\n",
        "\n",
        "plt.scatter(a, b)\n",
        "plt.show()"
      ]
    },
    {
      "cell_type": "code",
      "execution_count": null,
      "metadata": {
        "colab": {
          "base_uri": "https://localhost:8080/",
          "height": 430
        },
        "id": "DhrWeDTCb43V",
        "outputId": "c4d5f669-10d3-4468-b6df-11492ca1e048"
      },
      "outputs": [
        {
          "data": {
            "image/png": "[encoded data removed]",
            "text/plain": [
              "<Figure size 640x480 with 2 Axes>"
            ]
          },
          "metadata": {},
          "output_type": "display_data"
        }
      ],
      "source": [
        "#subplots\n",
        "\n",
        "fig, ax = plt.subplots(1,2, sharey=True)\n",
        "\n",
        "ax [0].plot(anos, habitantes_millones, color=\"g\", label=\"Colombia\")\n",
        "ax [0].legend()\n",
        "\n",
        "ax [1].plot(anos_2, habitantes_2, color=\"r\", label=\"Argentina\")\n",
        "ax [1].legend()\n",
        "\n",
        "\n",
        "plt.show()"
      ]
    },
    {
      "cell_type": "markdown",
      "metadata": {
        "id": "aOyDs9MUpl7P"
      },
      "source": [
        "# **PANDAS** - Dataframe (hoja de cálculo)"
      ]
    },
    {
      "cell_type": "markdown",
      "metadata": {
        "id": "xcLXGiEVp7XS"
      },
      "source": [
        "https://www.youtube.com/watch?v=2KCQQHpi2Qk&list=PLg9145ptuAig5cwvUCn9FNSUJyXBiFcVg\n",
        "Video Youtube\n",
        "\n",
        "https://www.youtube.com/watch?v=PvNKKrPE0AI\n",
        "video resumen a 200km/h"
      ]
    },
    {
      "cell_type": "code",
      "execution_count": null,
      "metadata": {
        "colab": {
          "base_uri": "https://localhost:8080/"
        },
        "id": "WYGG0jj1pqT7",
        "outputId": "b558dcc5-c258-432e-b7f1-2e935ce86b4a"
      },
      "outputs": [
        {
          "name": "stdout",
          "output_type": "stream",
          "text": [
            "0      4\n",
            "1      9\n",
            "2      6\n",
            "3      2\n",
            "4     10\n",
            "5    200\n",
            "dtype: int64\n",
            "\n",
            "0    60\n",
            "1    22\n",
            "2     1\n",
            "3    79\n",
            "4     2\n",
            "5     8\n",
            "dtype: int64\n"
          ]
        }
      ],
      "source": [
        "import pandas as pd\n",
        "naranjas = pd.Series ([4, 9, 6, 2, 10, 200])\n",
        "print(naranjas)\n",
        "print()\n",
        "manzanas = pd.Series ([60, 22, 1, 79, 2, 8])\n",
        "print(manzanas)"
      ]
    },
    {
      "cell_type": "code",
      "execution_count": null,
      "metadata": {
        "colab": {
          "base_uri": "https://localhost:8080/"
        },
        "id": "8wJsrwvgB_JZ",
        "outputId": "8e2ff703-cd23-4874-a9ad-b24b3e26e286"
      },
      "outputs": [
        {
          "name": "stdout",
          "output_type": "stream",
          "text": [
            "0        rojo\n",
            "1        azul\n",
            "2    amarillo\n",
            "3       verde\n",
            "4      morado\n",
            "dtype: object\n"
          ]
        }
      ],
      "source": [
        "#Series en pandas\n",
        "import pandas as pd\n",
        "\n",
        "colores = pd.Series ([\"rojo\", \"azul\", \"amarillo\", \"verde\", \"morado\"])\n",
        "print(colores)"
      ]
    },
    {
      "cell_type": "code",
      "execution_count": null,
      "metadata": {
        "colab": {
          "base_uri": "https://localhost:8080/"
        },
        "id": "c9-Lg5iWKRdX",
        "outputId": "f47f6018-ec03-4a60-af4b-17cd3d988b0f"
      },
      "outputs": [
        {
          "name": "stdout",
          "output_type": "stream",
          "text": [
            "Matematicas     60\n",
            "Fisica         100\n",
            "Quimica         78\n",
            "dtype: int64\n"
          ]
        }
      ],
      "source": [
        "#Series con diccionario\n",
        "import pandas as pd\n",
        "\n",
        "materias = pd.Series ({\"Matematicas\": 60, \"Fisica\": 100, \"Quimica\": 78})\n",
        "print(materias)"
      ]
    },
    {
      "cell_type": "code",
      "execution_count": null,
      "metadata": {
        "colab": {
          "base_uri": "https://localhost:8080/"
        },
        "id": "TRxeMb2nKzff",
        "outputId": "1fea99ef-cc32-452e-854c-e2b88294e465"
      },
      "outputs": [
        {
          "name": "stdout",
          "output_type": "stream",
          "text": [
            "9\n",
            "RangeIndex(start=0, stop=9, step=1)\n",
            "int64\n"
          ]
        }
      ],
      "source": [
        "#Propiedades de una serie .size , .index , .dtype\n",
        "import pandas as pd\n",
        "\n",
        "numeros = pd.Series([1, 2, 3, 4, 5, 6, 7, 8, 9])\n",
        "print(numeros.size)\n",
        "print(numeros.index)\n",
        "print(numeros.dtype)"
      ]
    },
    {
      "cell_type": "code",
      "execution_count": null,
      "metadata": {
        "colab": {
          "base_uri": "https://localhost:8080/"
        },
        "id": "lPxdGfVTL2x5",
        "outputId": "e560ff71-a411-4bde-f808-0af327419b47"
      },
      "outputs": [
        {
          "name": "stdout",
          "output_type": "stream",
          "text": [
            "1    azul\n",
            "dtype: object\n",
            "\n",
            "2    amarillo\n",
            "3       verde\n",
            "dtype: object\n"
          ]
        }
      ],
      "source": [
        "#Acceder a una serie para encontrar un dato\n",
        "import pandas as pd\n",
        "\n",
        "colores = pd.Series ([\"rojo\", \"azul\", \"amarillo\", \"verde\", \"morado\"])\n",
        "print(colores[1:2])\n",
        "print()\n",
        "print(colores[2:4])"
      ]
    },
    {
      "cell_type": "code",
      "execution_count": null,
      "metadata": {
        "colab": {
          "base_uri": "https://localhost:8080/"
        },
        "id": "TYENJl7FMsw1",
        "outputId": "b70c5cc2-ad10-42ce-b88a-dc51d538b24f"
      },
      "outputs": [
        {
          "name": "stdout",
          "output_type": "stream",
          "text": [
            "100\n",
            "\n",
            "Fisica     100\n",
            "Quimica     78\n",
            "dtype: int64\n"
          ]
        }
      ],
      "source": [
        "#Acceder a datos\n",
        "import pandas as pd\n",
        "\n",
        "materias = pd.Series ({\"Matematicas\": 60, \"Fisica\": 100, \"Quimica\": 78})\n",
        "\n",
        "print(materias[\"Fisica\"])\n",
        "print()\n",
        "print(materias[[\"Fisica\",\"Quimica\"]])"
      ]
    },
    {
      "cell_type": "code",
      "execution_count": null,
      "metadata": {
        "colab": {
          "base_uri": "https://localhost:8080/"
        },
        "id": "FZhIuW7uNoGu",
        "outputId": "55469dbd-7cb6-4032-89bf-9f26dff369ad"
      },
      "outputs": [
        {
          "name": "stdout",
          "output_type": "stream",
          "text": [
            "0     4\n",
            "1     8\n",
            "2    12\n",
            "3    16\n",
            "4    20\n",
            "5    24\n",
            "dtype: int64\n"
          ]
        }
      ],
      "source": [
        "#Operaciones basicas\n",
        "import pandas as pd\n",
        "\n",
        "numeros = pd.Series([2, 4, 6, 8, 10, 12])\n",
        "\n",
        "print(numeros * 2)"
      ]
    },
    {
      "cell_type": "code",
      "execution_count": null,
      "metadata": {
        "colab": {
          "base_uri": "https://localhost:8080/"
        },
        "id": "ASAIon6AOp6t",
        "outputId": "d943e2ae-5a38-4572-f345-2716ee88d0f9"
      },
      "outputs": [
        {
          "name": "stdout",
          "output_type": "stream",
          "text": [
            "45\n",
            "\n",
            "9\n",
            "\n",
            "2.7386127875258306\n",
            "\n"
          ]
        },
        {
          "data": {
            "text/plain": [
              "count    9.000000\n",
              "mean     5.000000\n",
              "std      2.738613\n",
              "min      1.000000\n",
              "25%      3.000000\n",
              "50%      5.000000\n",
              "75%      7.000000\n",
              "max      9.000000\n",
              "dtype: float64"
            ]
          },
          "execution_count": 31,
          "metadata": {},
          "output_type": "execute_result"
        }
      ],
      "source": [
        "#Operaciones basicas\n",
        "import pandas as pd\n",
        "\n",
        "numeros = pd.Series([1, 2, 3, 4, 5, 6, 7, 8, 9])\n",
        "print(numeros.sum())\n",
        "print()\n",
        "print(numeros.max())\n",
        "print()\n",
        "print(numeros.std()) #desviación estandar\n",
        "print()\n",
        "numeros.describe() #Propiedades elementales que se pueden usar"
      ]
    },
    {
      "cell_type": "code",
      "execution_count": null,
      "metadata": {
        "colab": {
          "base_uri": "https://localhost:8080/"
        },
        "id": "jWgl-FgmPsfW",
        "outputId": "0216e714-0cce-4bf0-b7c8-126b1e1c49c2"
      },
      "outputs": [
        {
          "name": "stdout",
          "output_type": "stream",
          "text": [
            "Matematicas      8\n",
            "Programacion    10\n",
            "dtype: int64\n",
            "\n",
            "Fisica           5\n",
            "Economia         6\n",
            "Matematicas      8\n",
            "Programacion    10\n",
            "dtype: int64\n",
            "\n",
            "Economia         6\n",
            "Fisica           5\n",
            "Matematicas      8\n",
            "Programacion    10\n",
            "dtype: int64\n",
            "\n",
            "Programacion    10\n",
            "Matematicas      8\n",
            "Fisica           5\n",
            "Economia         6\n",
            "dtype: int64\n"
          ]
        }
      ],
      "source": [
        "#filtros de diccionarios\n",
        "import pandas as pd\n",
        "\n",
        "serie = pd.Series({\"Matematicas\": 8, \"Economia\":6, \"Programacion\":10, \"Fisica\":5})\n",
        "\n",
        "print(serie[serie >6])\n",
        "print()\n",
        "\n",
        "print(serie.sort_values()) #ordena por los datos del valor\n",
        "print()\n",
        "\n",
        "print(serie.sort_index(ascending=True)) #orden de las claves alfabeticamente\n",
        "print()\n",
        "print(serie.sort_index(ascending=False))"
      ]
    },
    {
      "cell_type": "code",
      "execution_count": null,
      "metadata": {
        "colab": {
          "base_uri": "https://localhost:8080/"
        },
        "id": "CdWqbZOLSacq",
        "outputId": "5fd0b29c-fee9-4f92-d9d1-d12cf6464c9d"
      },
      "outputs": [
        {
          "name": "stdout",
          "output_type": "stream",
          "text": [
            "0    5\n",
            "1    5\n",
            "2    5\n",
            "3    5\n",
            "4    5\n",
            "5    5\n",
            "dtype: int64\n"
          ]
        }
      ],
      "source": [
        "#Crear una serie usando valor escalar\n",
        "import pandas as pd\n",
        "\n",
        "data = 5\n",
        "\n",
        "serie = pd.Series(data, index=[0, 1, 2, 3, 4, 5])\n",
        "print(serie)"
      ]
    },
    {
      "cell_type": "code",
      "execution_count": null,
      "metadata": {
        "colab": {
          "base_uri": "https://localhost:8080/"
        },
        "id": "mnSP6z8JTLsi",
        "outputId": "a7d81477-60fd-4e59-c811-c11cb3fc91f4"
      },
      "outputs": [
        {
          "name": "stdout",
          "output_type": "stream",
          "text": [
            "PSG                             Massi\n",
            "Manchester United    Cristano Ronaldo\n",
            "Real Madrid                   Benzema\n",
            "dtype: object\n"
          ]
        }
      ],
      "source": [
        "#Hacer una serie con un indice definido\n",
        "import pandas as pd\n",
        "\n",
        "data_lista = [\"Massi\", \"Cristano Ronaldo\", \"Benzema\"]\n",
        "\n",
        "indices = [\"PSG\", \"Manchester United\", \"Real Madrid\"]\n",
        "\n",
        "futbol = pd.Series(index= indices, data=data_lista)\n",
        "print(futbol)"
      ]
    },
    {
      "cell_type": "code",
      "execution_count": null,
      "metadata": {
        "colab": {
          "base_uri": "https://localhost:8080/"
        },
        "id": "jopNJtLSTIMx",
        "outputId": "fb9f4ce2-cb42-4b2d-dc8b-f39555866f12"
      },
      "outputs": [
        {
          "name": "stdout",
          "output_type": "stream",
          "text": [
            "30\n"
          ]
        }
      ],
      "source": [
        "x = 10\n",
        "y = 20\n",
        "print(x + y)"
      ]
    },
    {
      "cell_type": "code",
      "source": [
        "# print(9**3**0**1)\n",
        "# name = input()\n",
        "# print(name == \" Robert \")\n",
        "\n",
        "# def suma(a,b):\n",
        "#   return a + b\n",
        "#   continue\n",
        "#   return a * b\n",
        "\n",
        "# a, b = 2, 3\n",
        "# print(suma(a,b))\n",
        "\n",
        "for i in range (1,16):\n",
        "  if i % 3 == 0 and i % 5 == 0:\n",
        "    print(\"FizzBuzz\")\n",
        "  elif i % 5 == 0:\n",
        "    print(\"Buzz\")\n",
        "  elif i % 3 == 0:\n",
        "    print(\"Fizz\")\n",
        "  else:\n",
        "    print(i)"
      ],
      "metadata": {
        "colab": {
          "base_uri": "https://localhost:8080/"
        },
        "id": "SIHp9JyRiad3",
        "outputId": "1b0129cd-b4ef-4d26-9f7a-10ca8078eae4"
      },
      "execution_count": null,
      "outputs": [
        {
          "output_type": "stream",
          "name": "stdout",
          "text": [
            "1\n",
            "2\n",
            "Fizz\n",
            "4\n",
            "Buzz\n",
            "Fizz\n",
            "7\n",
            "8\n",
            "Fizz\n",
            "Buzz\n",
            "11\n",
            "Fizz\n",
            "13\n",
            "14\n",
            "FizzBuzz\n"
          ]
        }
      ]
    },
    {
      "cell_type": "code",
      "source": [
        "#Puntaje Total\n",
        "#correcta 5, incorrectas -2, blanco -1, 20 preguntas\n",
        "\n",
        "print(\"--------------------\")\n",
        "print(\"Resultado de exámen\")\n",
        "print(\"--------------------\")\n",
        "print()\n",
        "nombre = input(\"Nombre del alumno: \").strip()\n",
        "rc = int(input(\"¿Cuantas respuestas correctas obtuvo?: \"))\n",
        "re = int(input(\"¿Cuantas respuestas errores obtuvo?: \"))\n",
        "rb = 20 - rc - re \n",
        "\n",
        "# if rc + re + rb != 20:\n",
        "#   print(\"Es incorrecto el número de respuestas que has proporcionado, \\ntiene  que ser en total 20\")\n",
        "\n",
        "total = (rc * 5) - (re*2+rb)\n",
        "print(\"El resultado del alumno\", nombre, \"es de: \", total, \"puntos.\")\n"
      ],
      "metadata": {
        "colab": {
          "base_uri": "https://localhost:8080/"
        },
        "id": "8qFDgEvUv1zJ",
        "outputId": "194c832c-8328-4deb-babc-2ca5bc6dd6fb"
      },
      "execution_count": null,
      "outputs": [
        {
          "output_type": "stream",
          "name": "stdout",
          "text": [
            "--------------------\n",
            "Resultado de exámen\n",
            "--------------------\n",
            "\n",
            "Nombre del alumno: Cesar\n",
            "¿Cuantas respuestas correctas obtuvo?: 10\n",
            "¿Cuantas respuestas errores obtuvo?: 5\n",
            "El resultado del alumno Cesar es de:  35 puntos.\n"
          ]
        }
      ]
    },
    {
      "cell_type": "markdown",
      "source": [
        "# EJERCICIO FEEDBACK\n",
        "\n"
      ],
      "metadata": {
        "id": "zOYvfI50u5os"
      }
    },
    {
      "cell_type": "markdown",
      "source": [
        "Diccionario anidado"
      ],
      "metadata": {
        "id": "ocySpsqMvWQk"
      }
    },
    {
      "cell_type": "code",
      "source": [
        "import re #modulo importado para la función de validar correo electronico\n",
        "\n",
        "# Funciones utilitarias\n",
        "\n",
        "def is_only_digits (num):\n",
        "    \"\"\" Función utilitaria que validar que los dígitos ingresados sean números.\"\"\"\n",
        "    for i in num:\n",
        "        aux = ord(i)\n",
        "        if aux not in range(48,58):\n",
        "          return False\n",
        "        return True\n",
        "\n",
        "def is_valid_date(date):\n",
        "    \"\"\" Función utilitaria que validar la fecha con los requerimientos solicitados en el ejercicio.\"\"\"\n",
        "    if len(date) != 10:\n",
        "        return False\n",
        "    if date[2] != \"/\" or date[5] != \"/\":\n",
        "        return False\n",
        "    dia = int(date[:2])\n",
        "    mes = int(date[3:5])\n",
        "    ano = int(date[6:])\n",
        "    if ano < 1900:\n",
        "        return False\n",
        "    if mes >= 1 and mes <= 12:\n",
        "        if mes == 2:\n",
        "            if not ano % 4 and (ano % 100 or not ano % 400):\n",
        "                if dia >= 1 and dia <= 29:\n",
        "                    return True\n",
        "                else:\n",
        "                    return False\n",
        "            elif dia >= 1 and dia <= 28:\n",
        "                return True\n",
        "            else:\n",
        "                return False\n",
        "        elif mes == 4 or mes == 6 or mes == 9 or mes == 11:\n",
        "            if dia >= 1 and dia <= 30:\n",
        "                return True\n",
        "            else:\n",
        "                return False\n",
        "        elif dia >= 1 and dia <= 31:\n",
        "            return True\n",
        "        else:\n",
        "            return False\n",
        "    else:\n",
        "        return False\n",
        "\n",
        "def is_valid_phone(phone):\n",
        "    \"\"\" Función utilitaria que valida el número de teléfono y que llama a su vez a la función is_only_digits para validar que solo contenga números.\"\"\"\n",
        "    if len(phone) == 9:\n",
        "        if phone[0] == \"9\" or phone[0] == \"6\":\n",
        "            return is_only_digits(phone)\n",
        "        else:\n",
        "            return False\n",
        "    else:\n",
        "        return False\n",
        "\n",
        "def is_valid_email(email):\n",
        "    \"\"\" Función utilitaria que verifica que el correo electronico caracteres alfanumericos, simbolo arroba, seguido un dominnio.\"\"\"\n",
        "    if re.match(\"^[(a-z0-9\\_\\-\\.)]+@[(a-z0-9\\_\\-\\.)]+\\.[(a-z)]{2,15}$\", email.lower()):\n",
        "        return True\n",
        "    else:\n",
        "        return False\n",
        "\n",
        "def is_valid_nif(nif):\n",
        "    \"\"\" Función utilitaria que verifica si el NIF es correcto, se utiliza un bucle para pedir nuevamente el NIF si no cumple con los requisitos\"\"\"\n",
        "    while True:\n",
        "        valido = len(nif) == 9\n",
        "        if valido:\n",
        "            nif_aux = nif[:8]\n",
        "            letra = ord(nif[8:].upper())\n",
        "            if is_only_digits(nif_aux):\n",
        "                if letra >= 65 and letra <= 90:\n",
        "                    return True, nif\n",
        "                else:\n",
        "                    print(\"-------------------------\")\n",
        "                    print(\"El último caracter debe ser una letra.\")\n",
        "                    print(\"-------------------------\")\n",
        "                    nif = input(\"Introduce el NIF del nuevo cliente: \").strip()\n",
        "            else:\n",
        "                print(\"-------------------------\")\n",
        "                print(\"Introduce un NIF valido, debe tener ocho digitos y una letra.\")\n",
        "                print(\"-------------------------\")\n",
        "                nif = input(\"Introduce el NIF del nuevo cliente: \").strip()\n",
        "        else:\n",
        "            print(\"-------------------------\")\n",
        "            print(\"Introduce un NIF valido, debe tener nueve caracteres.\")\n",
        "            print(\"-------------------------\")\n",
        "            nif = input(\"Introduce el NIF del nuevo cliente: \").strip()\n",
        "\n",
        "def is_valid_name(name):\n",
        "  \"\"\"Función utilitaria que valida cadena de caracteres para nombre y apellido\"\"\"\n",
        "  while True:\n",
        "    if len(name) > 1:\n",
        "      cont = 0\n",
        "      for i in name:\n",
        "        aux = ord(i.lower())\n",
        "        if (aux > 96 and aux < 123) or aux == 241 or aux == 32:\n",
        "          cont = cont + 1\n",
        "          if cont == len(name):\n",
        "            return name\n",
        "        else:\n",
        "          name = input(\"Intentalo nuevamente: \").strip()\n",
        "    else:\n",
        "      print(\"Al menos debe contener dos caracteres\")\n",
        "      name = input(\"Intentalo otra vez: \")\n",
        "\n",
        "def pedir_habitual ():\n",
        "    \"\"\"Función que valida los datos sobre el el campo cliente habitual\"\"\"\n",
        "    while True:\n",
        "        habitual = input (\"¿El cliente es habitual? Si / No \").strip()\n",
        "        if habitual != \"Si\" and habitual != \"No\":\n",
        "          print(\"Selecciona una opción correcta\")\n",
        "        else:\n",
        "          if habitual == \"Si\":\n",
        "            return True\n",
        "          else:\n",
        "            return False\n",
        "\n",
        "title = \"Listado de clientes\"\n",
        "caracter =\"-\"\n",
        "\n",
        "def print_header (title, pad_chard):\n",
        "  espacio = 57 + (len(title)//2)\n",
        "  print_cabecera_1 = title.rjust(espacio, pad_chard).ljust(114, pad_chard)\n",
        "  print_cabecera_2 = \"NIF          |Nombre      |Apellido      |Dirección  |Teléfon          |Habitual |Fecha            |Correo                   \"\n",
        "  return print_cabecera_1 + \"\\n\" + print_cabecera_2\n",
        "\n",
        "\n",
        "\n",
        "#----------------------\n",
        "# Funciones Principales\n",
        "#----------------------\n",
        "\n",
        "\n",
        "def agregar_cliente():\n",
        "    \"\"\" Funcion para opción 1, llama a funciones utilitarias para validar y agrega los datos al diccionario dic_clientes.\"\"\"\n",
        "    # Validar nombre de cliente\n",
        "    while True:\n",
        "        nif = input(\"Introduce el NIF del nuevo cliente: \").strip()\n",
        "        if (is_valid_nif(nif)):\n",
        "            break\n",
        "\n",
        "    # Validar nombre de cliente\n",
        "    while True:\n",
        "        nombre = input(\"Introduce nombre de cliente: \").strip()\n",
        "        if is_valid_name(nombre):\n",
        "            break\n",
        "        else:\n",
        "            print(\"Nombre invalido, intentalo otra vez.\")\n",
        "\n",
        "    # Validar apellidos de cliente\n",
        "    while True:\n",
        "        apellidos = input(\"Introduce apellido de cliente: \").strip()\n",
        "        if is_valid_name(apellidos):\n",
        "            break\n",
        "        else:\n",
        "            print(\"Nombre invalido, intentalo otra vez.\")\n",
        "\n",
        "    direccion = input(\"Introduce dirección: \").strip()\n",
        "\n",
        "    # Validar telefono de cliente\n",
        "    while True:\n",
        "        telefono = input(\"Introduce el teléfono del cliente: \").strip()\n",
        "        if is_valid_phone(telefono):\n",
        "            break\n",
        "        else:\n",
        "            print(\"Teléfono invalido, intentalo otra vez.\")\n",
        "\n",
        "    # Validar correo de cliente\n",
        "    while True:\n",
        "        correo = input(\"Introduce correo electrónico: \").strip()\n",
        "        if is_valid_email(correo):\n",
        "            break\n",
        "        else:\n",
        "            print(\"Correo invalido, intentalo otra vez.\")\n",
        "\n",
        "    # Pide valor del campo cliente habitual y convierte en booleano.\n",
        "    habitual = pedir_habitual()\n",
        "\n",
        "    # Validar fecha de cliente\n",
        "    while True:\n",
        "        fecha = input(\"Introduce la fecha del nuevo cliente: \").strip()\n",
        "        if is_valid_date(fecha):\n",
        "            break\n",
        "        else:\n",
        "            print(\"Fecha invalida, intentalo otra vez.\")\n",
        "\n",
        "    dic_clientes[nif] = {\n",
        "        \"Nombre\": nombre,\n",
        "        \"Apellidos\": apellidos,\n",
        "        \"Dirección\": direccion,\n",
        "        \"Teléfono\": telefono,\n",
        "        \"habitual\": habitual,\n",
        "        \"Fecha\": fecha,\n",
        "        \"Correo electrónico\": correo\n",
        "    }\n",
        "\n",
        "    print(\"--------------------------------------------------------\")\n",
        "    print(\"Se han creado los datos del cliente con NIF:\", \"{}\".format(nif))\n",
        "    print(\"--------------------------------------------------------\")\n",
        "\n",
        "def eliminar_cliente():\n",
        "    \"\"\"Función para eliminar cliente.\"\"\"\n",
        "    nif_eliminar = input (\"Indique el NIF a eliminar: \")\n",
        "    nif_aux = dic_clientes.pop(nif_eliminar, False)\n",
        "    if nif_aux == False:\n",
        "        print(\"El NIE no existe en el registro\")\n",
        "    else:\n",
        "        print(\"--------------------------------------------------------\")\n",
        "        print(\"Se han eliminado los datos del cliente NIF {}\".format(nif_eliminar))\n",
        "        print(\"--------------------------------------------------------\")\n",
        "\n",
        "def mostrar_cliente():\n",
        "    nif_cliente = input(\"Indique el NIF que desea consultar: \").strip()\n",
        "    datos_aux = dic_clientes.get(nif_cliente, False)\n",
        "    if datos_aux == False:\n",
        "        print(\"El NIE no existe en el registro\")\n",
        "    else:\n",
        "        print(print_header(title, caracter))\n",
        "        for nif, datos in dic_clientes.items():\n",
        "            if nif == None:\n",
        "                continue\n",
        "            elif nif_cliente == nif:\n",
        "\n",
        "                print(nif, \"   |\", end=\" \")\n",
        "                for datos1, informacion in datos.items():\n",
        "                    print(informacion, \"     |\", end=\" \")\n",
        "\n",
        "def todos_clientes():\n",
        "    \"\"\"Función para mostrar todos los clientes.\"\"\"\n",
        "    print(print_header(title, caracter))\n",
        "    for nif, datos in dic_clientes.items():\n",
        "      if nif == None:\n",
        "        continue\n",
        "      print(nif,\"   |\" , end=\" \")\n",
        "      for datos1, informacion in datos.items():\n",
        "        print(informacion,\"     |\", end=\" \")\n",
        "      print(\"\\n\")\n",
        "\n",
        "def clientes_habituales():\n",
        "    \"\"\"Función para mostrar todos los clientes habituales.\"\"\"\n",
        "    print(print_header(title, caracter))\n",
        "    for nif, datos in dic_clientes.items():\n",
        "        if nif == None:\n",
        "            continue\n",
        "        if datos[\"habitual\"] == True:\n",
        "            print(nif, \"   |\", end=\" \")\n",
        "            for datos1, informacion in datos.items():\n",
        "                print(informacion, \"     |\", end=\" \")\n",
        "            print(\"\\n\")\n",
        "\n",
        "def salir_fun():\n",
        "    \"\"\"función para salir el programa\"\"\"\n",
        "    print()\n",
        "    print(\"----------------------------\")\n",
        "    print(\"** Ha salido del programa **\")\n",
        "    print(\"----------------------------\")\n",
        "    exit()\n",
        "\n",
        "def default():\n",
        "    print(\"Selecciona una opción valida dentro del menú\")\n",
        "\n",
        "cases = {\n",
        "    \"1\": agregar_cliente,\n",
        "    \"2\": eliminar_cliente,\n",
        "    \"3\": mostrar_cliente,\n",
        "    \"4\": todos_clientes,\n",
        "    \"5\": clientes_habituales,\n",
        "    \"6\": salir_fun\n",
        "}\n",
        "\n",
        "dic_clientes = {None:{}}\n",
        "\n",
        "def menu():\n",
        "  \"\"\"Función definida para imprimir menú en pantalla y pedir una opción al usuario\"\"\"\n",
        "  salir =True\n",
        "  while salir:\n",
        "    print()\n",
        "    print(\"__________________\")\n",
        "    print(\"------ MENU ------\")\n",
        "    print(\"__________________\")\n",
        "    print()\n",
        "    print(\"1. Agregar cliente \\n\"\n",
        "          \"2. Eliminar cliente \\n\"\n",
        "          \"3. Mostrar cliente \\n\"\n",
        "          \"4. Mostrar todos los clientes \\n\"\n",
        "          \"5. Mostrar clientes habituales \\n\"\n",
        "          \"6. Salir \\n     \")\n",
        "\n",
        "    op = input(\"Seleccione una opción: \").strip()\n",
        "    cases.get(op, default)()\n",
        "\n",
        "menu()"
      ],
      "metadata": {
        "id": "o5ujnc6SvI1e"
      },
      "execution_count": null,
      "outputs": []
    },
    {
      "cell_type": "markdown",
      "source": [
        "Lista con Diccionario"
      ],
      "metadata": {
        "id": "h7UePIcQ1TNb"
      }
    },
    {
      "cell_type": "code",
      "source": [
        "import re #modulo importado para la función de validar correo electronico\n",
        "\n",
        "# Funciones utilitarias\n",
        "def is_only_digits (num):\n",
        "    \"\"\" Función utilitaria que validar que los dígitos ingresados sean números.\"\"\"\n",
        "    for i in num:\n",
        "        aux = ord(i)\n",
        "        if aux not in range(48,58):\n",
        "          return False\n",
        "        return True\n",
        "\n",
        "def is_valid_date(date):\n",
        "    \"\"\" Función utilitaria que validar la fecha con los requerimientos solicitados en el ejercicio.\"\"\"\n",
        "    if len(date) != 10:\n",
        "        return False\n",
        "    if date[2] != \"/\" or date[5] != \"/\":\n",
        "        return False\n",
        "    dia = int(date[:2])\n",
        "    mes = int(date[3:5])\n",
        "    ano = int(date[6:])\n",
        "    if ano < 1900:\n",
        "        return False\n",
        "    if mes >= 1 and mes <= 12:\n",
        "        if mes == 2:\n",
        "            if not ano % 4 and (ano % 100 or not ano % 400):\n",
        "                if dia >= 1 and dia <= 29:\n",
        "                    return True\n",
        "                else:\n",
        "                    return False\n",
        "            elif dia >= 1 and dia <= 28:\n",
        "                return True\n",
        "            else:\n",
        "                return False\n",
        "        elif mes == 4 or mes == 6 or mes == 9 or mes == 11:\n",
        "            if dia >= 1 and dia <= 30:\n",
        "                return True\n",
        "            else:\n",
        "                return False\n",
        "        elif dia >= 1 and dia <= 31:\n",
        "            return True\n",
        "        else:\n",
        "            return False\n",
        "    else:\n",
        "        return False\n",
        "\n",
        "def is_valid_phone(phone):\n",
        "    \"\"\" Función utilitaria que valida el número de teléfono y que llama a su vez a la función is_only_digits para validar que solo contenga números.\"\"\"\n",
        "    if len(phone) == 9:\n",
        "        if phone[0] == \"9\" or phone[0] == \"6\":\n",
        "            return is_only_digits(phone)\n",
        "        else:\n",
        "            return False\n",
        "    else:\n",
        "        return False\n",
        "\n",
        "def is_valid_email(email):\n",
        "    \"\"\" Función utilitaria que verifica que el correo electronico caracteres alfanumericos, simbolo arroba, seguido un dominnio.\"\"\"\n",
        "    if re.match(\"^[(a-z0-9\\_\\-\\.)]+@[(a-z0-9\\_\\-\\.)]+\\.[(a-z)]{2,15}$\", email.lower()):\n",
        "        return True\n",
        "    else:\n",
        "        return False\n",
        "\n",
        "def is_valid_nif(nif):\n",
        "    \"\"\" Función utilitaria que verifica si el NIF es correcto\"\"\"\n",
        "    if len(nif) == 9:\n",
        "        nif_aux = nif[:8]\n",
        "        letra = ord(nif[8:].upper())\n",
        "        if is_only_digits(nif_aux):\n",
        "            if letra >= 65 and letra <= 90:\n",
        "                return True\n",
        "            else:\n",
        "                print(\"-------------------------\")\n",
        "                print(\"El último caracter debe ser una letra.\")\n",
        "                print(\"-------------------------\")\n",
        "                return False\n",
        "        else:\n",
        "            print(\"-------------------------\")\n",
        "            print(\"Introduce un NIF valido, debe tener ocho digitos y una letra.\")\n",
        "            print(\"-------------------------\")\n",
        "            return False\n",
        "    else:\n",
        "        print(\"-------------------------\")\n",
        "        print(\"Introduce un NIF valido, debe tener nueve caracteres.\")\n",
        "        print(\"-------------------------\")\n",
        "        return False\n",
        "\n",
        "def is_valid_name(name):\n",
        "  \"\"\"Función utilitaria que valida cadena de caracteres para nombre y apellido\"\"\"\n",
        "  if len(name) <= 1:\n",
        "    return False\n",
        "\n",
        "  for i in name:\n",
        "    aux = ord(i.lower())\n",
        "    if (aux <= 96 or aux >= 123) and aux != 241 and aux != 32:\n",
        "      return False\n",
        "  return True\n",
        "\n",
        "def exist_client(buscar):\n",
        "    \"\"\"Función utilitaria que valida si existe el nif dentro del diccionario\"\"\"\n",
        "    cont = 1\n",
        "    for i in range(len(dic_clientes)):\n",
        "        diccionario = dic_clientes[i]\n",
        "        valor = diccionario [\"nif\"]\n",
        "        if buscar == valor:\n",
        "          return True\n",
        "        elif cont == len(dic_clientes):\n",
        "          return False\n",
        "        cont += 1\n",
        "\n",
        "def pedir_habitual ():\n",
        "    \"\"\"Función que valida los datos sobre el el campo cliente habitual\"\"\"\n",
        "    while True:\n",
        "        habitual = input (\"¿El cliente es habitual? Si / No \").strip()\n",
        "        if habitual != \"Si\" and habitual != \"No\":\n",
        "          print(\"Selecciona una opción correcta\")\n",
        "        else:\n",
        "          if habitual == \"Si\":\n",
        "            return True\n",
        "          else:\n",
        "            return False\n",
        "\n",
        "title = \"Listado de clientes\"\n",
        "caracter =\"-\"\n",
        "\n",
        "def print_header (title, pad_chard):\n",
        "  espacio = 57 + (len(title)//2)\n",
        "  print_cabecera_1 = title.rjust(espacio, pad_chard).ljust(114, pad_chard)\n",
        "  print_cabecera_2 = \"NIF          |Nombre      |Apellido      |Dirección  |Teléfon          |Habitual |Fecha            |Correo                   \"\n",
        "  return print_cabecera_1 + \"\\n\" + print_cabecera_2\n",
        "\n",
        "\n",
        "\n",
        "#----------------------\n",
        "# Funciones Principales\n",
        "#----------------------\n",
        "\n",
        "\n",
        "def agregar_cliente():\n",
        "    \"\"\" Funcion para opción 1, llama a funciones utilitarias para validar y agrega los datos al diccionario dentro de la lista.\"\"\"\n",
        "    # Validar nombre de cliente\n",
        "    while True:\n",
        "        nif = input (\"Introduce el NIF del nuevo cliente: \").strip()\n",
        "        if (is_valid_nif(nif)):\n",
        "            break\n",
        "\n",
        "    #Validar nombre de cliente\n",
        "    while True:\n",
        "        nombre = input(\"Introduce nombre de cliente: \").strip()\n",
        "        if is_valid_name(nombre):\n",
        "            break\n",
        "        else:\n",
        "            print(\"Nombre invalido, intentalo otra vez.\")\n",
        "\n",
        "    # Validar apellidos de cliente\n",
        "    while True:\n",
        "        apellidos = input(\"Introduce apellido de cliente: \").strip()\n",
        "        if is_valid_name(apellidos):\n",
        "            break\n",
        "        else:\n",
        "            print(\"Nombre invalido, intentalo otra vez.\")\n",
        "\n",
        "    direccion = input(\"Introduce dirección: \").strip()\n",
        "\n",
        "    # Validar telefono de cliente\n",
        "    while True:\n",
        "        telefono = input (\"Introduce el teléfono del cliente: \").strip()\n",
        "        if is_valid_phone(telefono):\n",
        "            break\n",
        "        else:\n",
        "            print(\"Teléfono invalido, intentalo otra vez.\")\n",
        "\n",
        "    # Validar correo de cliente\n",
        "    while True:\n",
        "        correo = input(\"Introduce correo electrónico: \").strip()\n",
        "        if is_valid_email(correo):\n",
        "            break\n",
        "        else:\n",
        "            print(\"Correo invalido, intentalo otra vez.\")\n",
        "\n",
        "    # Pide valor del campo cliente habitual y convierte en booleano.\n",
        "    habitual = pedir_habitual()\n",
        "\n",
        "    # Validar fecha de cliente\n",
        "    while True:\n",
        "        fecha = input(\"Introduce la fecha del nuevo cliente: \").strip()\n",
        "        if is_valid_date(fecha):\n",
        "            break\n",
        "        else:\n",
        "            print(\"Fecha invalida, intentalo otra vez.\")\n",
        "\n",
        "    dic_clientes.append(\n",
        "        {\n",
        "            \"nif\": nif,\n",
        "            \"nombre\": nombre,\n",
        "            \"apellidos\": apellidos,\n",
        "            \"direccion\": direccion,\n",
        "            \"telefono\": telefono,\n",
        "            \"habitual\": habitual,\n",
        "            \"fecha\": fecha,\n",
        "            \"correo\": correo\n",
        "        })\n",
        "    print(\"--------------------------------------------------------\")\n",
        "    print(\"Se han creado los datos del cliente con NIF:\", \"{}\".format(nif))\n",
        "    print(\"--------------------------------------------------------\")\n",
        "\n",
        "def eliminar_cliente():\n",
        "    \"\"\"Función para eliminar cliente.\"\"\"\n",
        "    nif_eliminar = input(\"Indique el NIF a eliminar: \")\n",
        "    for i in range(len(dic_clientes)):\n",
        "        diccionario = dic_clientes[i]\n",
        "        valor = diccionario[\"nif\"]\n",
        "        if valor == nif_eliminar:\n",
        "            dic_clientes.pop(i)\n",
        "\n",
        "            print(\"--------------------------------------------------------\")\n",
        "            print(\"Se han eliminado los datos del cliente NIF {}\".format(nif_eliminar))\n",
        "            print(\"--------------------------------------------------------\")\n",
        "            break\n",
        "    print(\"El NIE no existe en el registro\")\n",
        "\n",
        "def mostrar_cliente():\n",
        "    \"\"\"Función para mostrar en pantalla los datos de un solo cliente.\"\"\"\n",
        "    nif_consultar = input(\"Indique el NIF que desea consultar: \")\n",
        "    if exist_client(nif_consultar):\n",
        "        print(print_header(title, caracter))\n",
        "        for diccionario in dic_clientes:\n",
        "            if diccionario[\"nif\"] == nif_consultar:\n",
        "                for clave, valor in diccionario.items():\n",
        "                    print(valor, \"   |\", end=\" \")\n",
        "    else:\n",
        "        print(\"El NIE no existe en el registro\")\n",
        "\n",
        "def todos_clientes():\n",
        "    \"\"\"Función para mostrar todos los clientes.\"\"\"\n",
        "    print(print_header(title, caracter))\n",
        "    for diccionario in dic_clientes:\n",
        "        for clave, valor in diccionario.items():\n",
        "            print(valor, \"   |\", end=\" \")\n",
        "        print(\"\\n\")\n",
        "\n",
        "def clientes_habituales():\n",
        "    \"\"\"Función para mostrar todos los clientes habituales.\"\"\"\n",
        "    print(print_header(title, caracter))\n",
        "    for diccionario in dic_clientes:\n",
        "        if diccionario[\"habitual\"] == True:\n",
        "            for clave, valor in diccionario.items():\n",
        "                print(valor, \"     |\", end=\" \")\n",
        "            print(\"\\n\")\n",
        "\n",
        "def salir_fun():\n",
        "    \"\"\"función para salir el programa\"\"\"\n",
        "    print()\n",
        "    print(\"----------------------------\")\n",
        "    print(\"** Ha salido del programa **\")\n",
        "    print(\"----------------------------\")\n",
        "    exit()\n",
        "\n",
        "def default():\n",
        "    print(\"Selecciona una opción valida dentro del menú\")\n",
        "\n",
        "cases = {\n",
        "    \"1\": agregar_cliente,\n",
        "    \"2\": eliminar_cliente,\n",
        "    \"3\": mostrar_cliente,\n",
        "    \"4\": todos_clientes,\n",
        "    \"5\": clientes_habituales,\n",
        "    \"6\": salir_fun\n",
        "}\n",
        "\n",
        "dic_clientes = []\n",
        "\n",
        "def menu():\n",
        "  \"\"\"Función definida para imprimir menú en pantalla y pedir una opción al usuario\"\"\"\n",
        "  salir =True\n",
        "  while salir:\n",
        "    print()\n",
        "    print(\"__________________\")\n",
        "    print(\"------ MENU ------\")\n",
        "    print(\"__________________\")\n",
        "    print()\n",
        "    print(\"1. Agregar cliente \\n\"\n",
        "          \"2. Eliminar cliente \\n\"\n",
        "          \"3. Mostrar cliente \\n\"\n",
        "          \"4. Mostrar todos los clientes \\n\"\n",
        "          \"5. Mostrar clientes habituales \\n\"\n",
        "          \"6. Salir \\n     \")\n",
        "\n",
        "    op = input(\"Seleccione una opción: \").strip()\n",
        "    cases.get(op, default)()\n",
        "\n",
        "menu()"
      ],
      "metadata": {
        "id": "yBvHj2UZveHF"
      },
      "execution_count": null,
      "outputs": []
    },
    {
      "cell_type": "code",
      "source": [
        "def is_valid_name(name):\n",
        "  \"\"\"Función utilitaria que valida cadena de caracteres para nombre y apellido\"\"\"\n",
        "  while True:\n",
        "    if len(name) > 1:\n",
        "      print(\"Valor de len, paso 01\", len(name))\n",
        "      print(\"paso 1\")\n",
        "      cont = 0\n",
        "      for i in name:\n",
        "        aux = ord(i.lower())\n",
        "        if (aux > 96 and aux < 123) or aux == 241 or aux == 32:\n",
        "          cont = cont + 1\n",
        "          if cont == len(name):\n",
        "            return name\n",
        "      else:\n",
        "        cont = 0\n",
        "        name = input(\"Intentalo nuevamente: \").strip()\n",
        "        print(\"Valor de len, paso 02\", len(name))\n",
        "    else:\n",
        "      print(\"paso 3\")\n",
        "      cont = 0\n",
        "      print(\"Al menos debe contener dos caracteres\")\n",
        "      name = input(\"Intentalo otra vez: \")\n",
        "\n",
        "print(is_valid_name(\"12345\"))"
      ],
      "metadata": {
        "colab": {
          "base_uri": "https://localhost:8080/"
        },
        "id": "ysNWsEoJyCsN",
        "outputId": "48442416-bd5f-4798-f721-af578b380a87"
      },
      "execution_count": null,
      "outputs": [
        {
          "output_type": "stream",
          "name": "stdout",
          "text": [
            "Valor de len, paso 01 5\n",
            "paso 1\n",
            "Intentalo nuevamente: c\n",
            "Valor de len, paso 02 1\n",
            "paso 3\n",
            "Al menos debe contener dos caracteres\n",
            "Intentalo otra vez: c\n",
            "paso 3\n",
            "Al menos debe contener dos caracteres\n",
            "Intentalo otra vez: cd\n",
            "Valor de len, paso 01 2\n",
            "paso 1\n",
            "cd\n"
          ]
        }
      ]
    },
    {
      "cell_type": "code",
      "source": [
        "# def pedir_habitual (habitual):\n",
        "#     \"\"\"Función que valida los datos sobre el el campo cliente habitual\"\"\"\n",
        "#     while True:\n",
        "#           if habitual == \"Si\":\n",
        "#             return True\n",
        "#           elif habitual == \"No\":\n",
        "#             return False\n",
        "#           else:\n",
        "#             break\n",
        "\n",
        "\n",
        "        # if habitual != \"Si\" and habitual != \"No\":\n",
        "        #   print(\"Selecciona una opción correcta\")\n",
        "        #   break\n",
        "        # else:\n",
        "        #   if habitual == \"Si\":\n",
        "        #     return True\n",
        "        #   else:\n",
        "        #     return False\n",
        "\n",
        "while True:\n",
        "        habitual = input (\"¿El cliente es habitual? Si / No \").strip()\n",
        "        if habitual == \"Si\":\n",
        "            habitual = True\n",
        "            break\n",
        "        elif habitual  == \"No\":\n",
        "            habitual = False\n",
        "            break\n",
        "        else:\n",
        "            continue\n",
        "print(habitual)"
      ],
      "metadata": {
        "colab": {
          "base_uri": "https://localhost:8080/"
        },
        "id": "u3FRxG_1Zxt1",
        "outputId": "03800934-b810-409f-bffd-eb5f1f60550d"
      },
      "execution_count": null,
      "outputs": [
        {
          "output_type": "stream",
          "name": "stdout",
          "text": [
            "¿El cliente es habitual? Si / No 123\n",
            "¿El cliente es habitual? Si / No p9oi\n",
            "¿El cliente es habitual? Si / No si\n",
            "¿El cliente es habitual? Si / No Si\n",
            "True\n"
          ]
        }
      ]
    },
    {
      "cell_type": "markdown",
      "source": [
        "# Cuaderno Proyecto CV"
      ],
      "metadata": {
        "id": "HCH0VJ0pxXqz"
      }
    },
    {
      "cell_type": "markdown",
      "source": [
        "https://colab.research.google.com/drive/1GMXe3fBmcKN2VuuDzvo0Ph8OAtmKzTCD"
      ],
      "metadata": {
        "id": "ZlGlXQ6fxgWR"
      }
    }
  ],
  "metadata": {
    "colab": {
      "collapsed_sections": [
        "3gX3P5YZA5U0",
        "3JsARVn4AMgt",
        "eAdP6kO2NnuR",
        "mPwEn16odmJu",
        "cBiwo0f6Z2yN",
        "0k6eqFaTZcau",
        "fs1GHj8OkSw9"
      ],
      "provenance": [],
      "toc_visible": true,
      "include_colab_link": true
    },
    "kernelspec": {
      "display_name": "Python 3",
      "name": "python3"
    },
    "language_info": {
      "name": "python"
    }
  },
  "nbformat": 4,
  "nbformat_minor": 0
}